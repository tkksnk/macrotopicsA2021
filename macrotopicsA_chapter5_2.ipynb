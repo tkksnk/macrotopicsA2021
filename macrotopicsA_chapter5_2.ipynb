{
 "cells": [
  {
   "cell_type": "markdown",
   "metadata": {
    "slideshow": {
     "slide_type": "slide"
    }
   },
   "source": [
    "# N状態モデル\n",
    "## 自己回帰確率過程の離散近似\n",
    "\n",
    "- 前節では、マルコフ連鎖の取り得る値$s$や遷移確率$p_{ij}$は既に与えられていた\n",
    "\n",
    "- Tauchen(1986)は、連続的(continuous)な値をとる、１階の自己回帰(first-order auto-regressive, AR(1))確率過程を、マルコフ連鎖で離散的(discrete)に近似する方法を考案した\n",
    "\n",
    "- 変数$x\\in\\mathbb{R}$が、以下のようなAR(1)過程に従うとする\n",
    "\n",
    "$$\n",
    "  x' = c + \\rho x + \\varepsilon', \\quad \\varepsilon' \\sim N(0,\\sigma_{\\varepsilon}^{2}) \n",
    "$$\n",
    "\n",
    "$c$は定数、$\\rho$は慣性についてのパラメータ、$\\varepsilon'$は平均$0$、分散$\\sigma_{\\varepsilon}^{2}$の正規分布に従う確率変数"
   ]
  },
  {
   "cell_type": "markdown",
   "metadata": {
    "slideshow": {
     "slide_type": "subslide"
    }
   },
   "source": [
    "- この確率過程を、$N$個の状態変数を持つマルコフ連鎖で近似する\n",
    "\n",
    "- そのために、まず、$x$のとる値についてグリッドを定める\n",
    "\n",
    "$$\n",
    "  x_{i} \\in \\mathcal{X} = \\{x_{1},x_{2},...,x_{N}\\}\n",
    "$$"
   ]
  },
  {
   "cell_type": "markdown",
   "metadata": {
    "slideshow": {
     "slide_type": "subslide"
    }
   },
   "source": [
    "- 例えば、以下のような等間隔のグリッドを考える\n",
    "\n",
    "\\begin{align*}\n",
    "  x_{1} &= \\frac{-m\\sigma_{\\varepsilon}}{\\sqrt{1-\\rho^{2}}} \\\\\n",
    "  x_{N} &= \\frac{m\\sigma_{\\varepsilon}}{\\sqrt{1-\\rho^{2}}} \\\\\n",
    "  x_{i} &= x_{i-1} + w \\text{ for }i=2,...,N-1\n",
    "\\end{align*}\n",
    "\n",
    "ここで、$w=\\frac{x_{N}-x_{1}}{N-1}$\n",
    "\n",
    "- 平均値ゼロから上下それぞれ標準偏差$\\frac{\\sigma_{\\varepsilon}}{\\sqrt{1-\\rho^{2}}}$の$m$倍の範囲に等間隔にグリッドを定める"
   ]
  },
  {
   "cell_type": "markdown",
   "metadata": {
    "slideshow": {
     "slide_type": "subslide"
    }
   },
   "source": [
    "- グリッドを定めたら、次にグリッドの集合に含まれる一つの点から別の点に移る確率を求める\n",
    "\n",
    "- ここで、$\\varepsilon'$は正規分布に従うので、\n",
    "\n",
    "$$\n",
    "  \\varepsilon' = x' - c - \\rho x \\sim N(0,\\sigma_{\\varepsilon}^{2})\n",
    "$$"
   ]
  },
  {
   "cell_type": "markdown",
   "metadata": {
    "slideshow": {
     "slide_type": "subslide"
    }
   },
   "source": [
    "- すると、$x_{i}$を所与として、$x'$が$x_{j}$の近傍にある確率は、以下のように近似できる\n",
    "\n",
    "\\begin{align*}\n",
    "  p_{i1} &= \\Phi\\left(x'+\\frac{w}{2}-c-\\rho x_{i}\\right), \\text{ for } x'=x_{1} \\\\\n",
    "  p_{ij} &= \\Phi\\left(x'+\\frac{w}{2}-c-\\rho x_{i}\\right) \\\\\n",
    "  &-\\Phi\\left(x'-\\frac{w}{2}-c-\\rho x_{i}\\right), \\text{ for } x'=x_{j}, j=2,3,...,N-1 \\\\\n",
    "  p_{iN} &= 1-\\Phi\\left(x'-\\frac{w}{2}-c-\\rho x_{i}\\right), \\text{ for } x'=x_{N}\n",
    "\\end{align*}\n",
    "\n",
    "ここで、$\\Phi(\\cdot)$は正規分布$N(0,\\sigma_{\\varepsilon}^{2})$の累積分布関数である\n",
    "\n",
    "$x'$がグリッドの端にある場合に注意"
   ]
  },
  {
   "cell_type": "markdown",
   "metadata": {
    "slideshow": {
     "slide_type": "subslide"
    }
   },
   "source": [
    "- 全ての$i,j=1,...,N$について確率$p_{ij}$を計算すると、以下の遷移行列が求まる\n",
    "\n",
    "$$\n",
    "  P = \\left[\\begin{array}{cccc}\n",
    "  p_{11} & \\cdots & \\cdots & p_{1N} \\\\\n",
    "  \\vdots & \\ddots &        & \\vdots \\\\\n",
    "  \\vdots &        & \\ddots & \\vdots \\\\\n",
    "  p_{N1} & \\cdots & \\cdots & p_{NN}\n",
    "  \\end{array}\\right]\n",
    "$$"
   ]
  },
  {
   "cell_type": "code",
   "execution_count": 1,
   "metadata": {
    "slideshow": {
     "slide_type": "subslide"
    }
   },
   "outputs": [
    {
     "name": "stdout",
     "output_type": "stream",
     "text": [
      "Created file 'C:\\Users\\takek\\Documents\\macrotopicsA2020\\tauchen.m'.\n"
     ]
    }
   ],
   "source": [
    "%%file tauchen.m\n",
    "function [Z,Zprob] = tauchen(N,mu,rho,sigma,m)\n",
    "\n",
    "Z     = zeros(N,1); % グリッド\n",
    "Zprob = zeros(N,N); % 遷移確率の行列\n",
    "c     = (1-rho)*mu; % 定数項\n",
    "\n",
    "% 等間隔のグリッドを定める\n",
    "% 最大値と最小値\n",
    "zmax  = m*sqrt(sigma^2/(1-rho^2));\n",
    "zmin  = -zmax;\n",
    "% グリッド間の間隔\n",
    "w = (zmax-zmin)/(N-1);\n",
    "\n",
    "Z = linspace(zmin,zmax,N)';\n",
    "% 定常状態はmu\n",
    "Z = Z + mu;\n",
    "\n",
    "% グリッドを所与として、遷移確率を求める\n",
    "for j = 1:N\n",
    "    for k = 1:N\n",
    "        if k == 1\n",
    "            Zprob(j,k) = cdf_normal((Z(1)-c-rho*Z(j)+w/2)/sigma);\n",
    "        elseif k == N\n",
    "            Zprob(j,k) = 1 - cdf_normal((Z(N)-c-rho*Z(j)-w/2)/sigma);\n",
    "        else\n",
    "            Zprob(j,k) = cdf_normal((Z(k)-c-rho*Z(j)+w/2)/sigma) - ...\n",
    "                         cdf_normal((Z(k)-c-rho*Z(j)-w/2)/sigma);\n",
    "        end\n",
    "    end\n",
    "end\n",
    "\n",
    "% 正規分布の累積分布関数\n",
    "function c = cdf_normal(x)\n",
    "    c = 0.5*erfc(-x/sqrt(2));"
   ]
  },
  {
   "cell_type": "markdown",
   "metadata": {
    "slideshow": {
     "slide_type": "subslide"
    }
   },
   "source": [
    "- $p_{ij}$の計算についてのグラフ\n",
    "\n",
    "- $x'=\\rho x_{i}$のとき、$\\varepsilon' = x' - \\rho x = 0$になり、確率密度関数$\\phi(\\varepsilon')=\\phi(x' - \\rho x_{i})=\\phi(0)$は最大値をとる\n",
    "\n",
    "- ここで、$x' = x_{j}$のときの確率密度関数$\\phi(x_{j} - \\rho x_{i})$は、$\\Phi\\left(x'+\\frac{w}{2}-c-\\rho x_{i}\\right)-\\Phi\\left(x'-\\frac{w}{2}-c-\\rho x_{i}\\right)$で近似できる"
   ]
  },
  {
   "cell_type": "markdown",
   "metadata": {
    "slideshow": {
     "slide_type": "slide"
    }
   },
   "source": [
    "## 準線形モデルにおける最適金融政策\n",
    "\n",
    "- 時間反復法を使った実際の応用例として、準線形モデルを用いて、ゼロ金利制約下での最適金融政策を考えたAdam and Billi(2006; 2007)を紹介する\n",
    "\n",
    "- ニューケインジアン・モデルにおいては、価格の硬直性により相対価格に歪みがあるため、一般には、社会計画者問題における最適配分を実現できない\n",
    "\n",
    "- 最適金融政策とは、社会計画者問題における配分にできるだけ近い配分を達成するような金融政策のことである\n",
    "  - 代表的家計の価値関数を2次関数で近似した目的関数を社会厚生とみなして、線形近似した均衡条件を制約として最大化するような配分を求める"
   ]
  },
  {
   "cell_type": "markdown",
   "metadata": {
    "slideshow": {
     "slide_type": "subslide"
    }
   },
   "source": [
    "- 動学最適化問題において、政策決定者が現在だけでなく将来の変数についても操作し、将来の経路にコミットできるとき、これを最適コミットメント政策という\n",
    "\n",
    "- そのようなコミットができない場合は、政策決定者は毎期ごとの社会厚生を最大化するように変数を選ぶことになり、これを最適裁量政策という"
   ]
  },
  {
   "cell_type": "markdown",
   "metadata": {
    "slideshow": {
     "slide_type": "subslide"
    }
   },
   "source": [
    "- 政策決定者は、以下の社会厚生を最大化するように$\\{y_{t},\\pi_{t},r_{n,t}\\}_{t=0}^{\\infty}$の流列を求める\n",
    "\n",
    "$$\n",
    "  \\max_{\\{y_{t},\\pi_{t},r_{n,t}\\}_{t=0}^{\\infty}} -\\mathbb{E}_{0}\\sum_{t=0}^{\\infty}\\beta^{t}\\left(\\pi_{t}^{2} + \\lambda y_{t}^{2}\\right)\n",
    "$$\n",
    "\n",
    "subject to\n",
    "\n",
    "\\begin{align*}\n",
    "  y_{t} &= \\mathbb{E}_{t}y_{t+1} - \\left(r_{n,t}-\\mathbb{E}_{t}\\pi_{t+1}\\right) + g_{t} \\\\\n",
    "  \\pi_{t} &= \\kappa y_{t} + \\beta \\mathbb{E}_{t}\\pi_{t+1} +u_{t} \\\\\n",
    "  r_{n,t} &\\geq 0\n",
    "\\end{align*}"
   ]
  },
  {
   "cell_type": "markdown",
   "metadata": {
    "slideshow": {
     "slide_type": "fragment"
    }
   },
   "source": [
    "- 社会厚生は、現在から無限先の将来にわたっての、産出ギャップとインフレ率の2乗の加重和の割引現在価値で与えられる\n",
    "\n",
    "- 政策決定者は、名目金利だけでなくその他の変数も直接選ぶことに注意"
   ]
  },
  {
   "cell_type": "markdown",
   "metadata": {
    "slideshow": {
     "slide_type": "subslide"
    }
   },
   "source": [
    "- $(g_{t},u_{t})$は外生的なショックであり、それぞれ以下のAR(1)過程に従う\n",
    "\n",
    "\\begin{align*}\n",
    "  g_{t+1} = (1-\\rho_{g})g + \\rho_{g}g_{t} + \\varepsilon_{g,t+1}, &\\quad \\varepsilon_{g,t+1} \\sim N(0,\\sigma_{g}^{2}) \\\\ \n",
    "  u_{t+1} = \\rho_{u}u_{t} + \\varepsilon_{u,t+1}, &\\quad \\varepsilon_{u,t+1} \\sim N(0,\\sigma_{u}^{2})\n",
    "\\end{align*}\n",
    "\n",
    "$g_{t}$は需要面に対するショック（財政支出など）、$u_{t}$は供給面に対するショック（価格マークアップなど）と考えることができる\n",
    "\n",
    "- またこの場合、$g_{t}$は定常状態で自然利子率の定常値に一致する($g=r^{*}$)"
   ]
  },
  {
   "cell_type": "markdown",
   "metadata": {
    "slideshow": {
     "slide_type": "subslide"
    }
   },
   "source": [
    "- 政策決定者の動学最適化問題は、前回でも出てきた動的ラグランジュアンとその1階の必要条件を用いて解くことができる\n",
    "\n",
    "\\begin{align*}\n",
    "  \\mathcal{L}_{0} \\equiv & \\mathbb{E}_{0}\\sum_{t=0}^{\\infty}\\{\\beta^{t}\\left(\\pi_{t}^{2} + \\lambda y_{t}^{2}\\right) \\\\\n",
    "  & + 2\\phi_{PC,t}\\left(-\\pi_{t} + \\kappa y_{t} + \\beta \\mathbb{E}_{t}\\pi_{t+1} +u_{t}\\right) \\\\\n",
    "  & + 2\\phi_{EE,t}\\left(-y_{t} + \\mathbb{E}_{t}y_{t+1} - \\left(r_{n,t}-\\mathbb{E}_{t}\\pi_{t+1}\\right) + g_{t}\\right) \\\\\n",
    "  & + 2\\phi_{ZLB,t}r_{n,t}\\}\n",
    "\\end{align*}\n",
    "\n",
    "ここで、$\\{\\phi_{PC,t},\\phi_{EE,t},\\phi_{ZLB,t}\\}_{t=0}^{\\infty}$はそれぞれの均衡条件にかかるラグランジュ乗数である"
   ]
  },
  {
   "cell_type": "markdown",
   "metadata": {
    "slideshow": {
     "slide_type": "subslide"
    }
   },
   "source": [
    "- 最適コミットメント政策では、政策決定者は、時点0で現在から将来にわたる変数について社会厚生を最大化するように選ぶ\n",
    "\n",
    "- このとき、動的ラグランジュアンの1階の必要条件は\n",
    "\n",
    "\\begin{align*}\n",
    "  \\pi_{t}: & \\pi_{t} - \\phi_{PC,t} + \\phi_{PC,t-1} + \\beta^{-1}\\phi_{EE,t-1} = 0 \\\\ \n",
    "  y_{t}: & \\lambda y_{t} + \\kappa \\phi_{PC,t} - \\phi_{EE,t} + \\beta^{-1}\\phi_{EE,t-1} = 0 \\\\ \n",
    "  r_{n,t}: & -\\phi_{EE,t} + \\phi_{ZLB,t} = 0 \n",
    "\\end{align*}\n",
    "\n",
    "となる"
   ]
  },
  {
   "cell_type": "markdown",
   "metadata": {
    "slideshow": {
     "slide_type": "subslide"
    }
   },
   "source": [
    "- ここで、$\\phi_{ZLB,t}$はゼロ金利制約にかかるラグランジュ乗数であり、ゼロ金利制約がバインドしない限りはゼロになる\n",
    "\n",
    "- このことは以下の相補スラック条件にまとめられる\n",
    "\n",
    "$$\n",
    "  \\phi_{ZLB,t} r_{n,t} = 0, \\quad \\phi_{ZLB,t} \\geq 0, \\quad r_{n,t} \\geq 0\n",
    "$$\n",
    "\n",
    "- すなわち、$\\phi_{ZLB,t} > 0$あるいは$r_{n,t} > 0$のいずれかが成り立ち、均衡条件は$r_{n,t}$の値によって場合分けされる"
   ]
  },
  {
   "cell_type": "markdown",
   "metadata": {
    "slideshow": {
     "slide_type": "subslide"
    }
   },
   "source": [
    "- 最適裁量政策では、政策決定者は将来の変数にコミットできず、毎期ごとにその時点の変数を社会厚生を最大化するように選ぶ\n",
    "\n",
    "- この場合、$(\\mathbb{E}_{t}y_{t+1},\\mathbb{E}_{t}\\pi_{t+1})$を所与とした動的ラグランジュアンの1階条件から、解となる政策関数を求めることができる。すなわち、\n",
    "\n",
    "\\begin{align*}\n",
    "  \\pi_{t}: & \\pi_{t} - \\phi_{PC,t} = 0 \\\\ \n",
    "  y_{t}: & \\lambda y_{t} + \\kappa \\phi_{PC,t} - \\phi_{EE,t} = 0 \\\\ \n",
    "  r_{n,t}: & -\\phi_{EE,t} + \\phi_{ZLB,t} = 0 \n",
    "\\end{align*}\n"
   ]
  },
  {
   "cell_type": "markdown",
   "metadata": {
    "slideshow": {
     "slide_type": "subslide"
    }
   },
   "source": [
    "- 相補スラック条件より、もし$r_{n,t} > 0$であれば、$\\phi_{ZLB,t} = 0$である。このとき均衡条件は、\n",
    "\n",
    "\\begin{align*}\n",
    "  r_{n,t} &= -y_{t} + \\mathbb{E}_{t}y_{t+1} + \\mathbb{E}_{t}\\pi_{t+1} + g_{t} \\\\\n",
    "  \\pi_{t} &= \\kappa y_{t} + \\beta \\mathbb{E}_{t}\\pi_{t+1} +u_{t} = 0 \\\\\n",
    "  0 &= \\lambda y_{t} + \\kappa \\pi_{t}\n",
    "\\end{align*}"
   ]
  },
  {
   "cell_type": "markdown",
   "metadata": {
    "slideshow": {
     "slide_type": "fragment"
    }
   },
   "source": [
    "- あるいは、もし$r_{n,t}=0$であれば、$\\phi_{ZLB,t} = \\phi_{EE,t} > 0$である。このとき均衡条件は、\n",
    "\n",
    "\\begin{align*}\n",
    "  0 &= -y_{t} + \\mathbb{E}_{t}y_{t+1} + \\mathbb{E}_{t}\\pi_{t+1} + g_{t} \\\\\n",
    "  \\pi_{t} &= \\kappa y_{t} + \\beta \\mathbb{E}_{t}\\pi_{t+1} +u_{t} = 0 \\\\\n",
    "  \\phi_{EE,t} &= \\lambda y_{t} + \\kappa \\pi_{t}\n",
    "\\end{align*}"
   ]
  },
  {
   "cell_type": "markdown",
   "metadata": {
    "slideshow": {
     "slide_type": "fragment"
    }
   },
   "source": [
    "- いずれの場合も、3つの未知数に対して3つの式があるので、解を求めることができる"
   ]
  },
  {
   "cell_type": "markdown",
   "metadata": {
    "slideshow": {
     "slide_type": "subslide"
    }
   },
   "source": [
    "## 時間反復法による最適裁量政策の数値計算\n",
    "\n",
    "- ここでは、時間反復法を用いてAdam and Billi(2007)の結果を再現してみよう\n",
    "\n",
    "- 最適裁量政策においては、2状態モデルと同じように、モデルの状態変数が外生的なショック以外に存在しないため、外生変数をグリッドとしてそれぞれのグリッドの点で均衡条件を解けばよい"
   ]
  },
  {
   "cell_type": "markdown",
   "metadata": {
    "slideshow": {
     "slide_type": "subslide"
    }
   },
   "source": [
    "- まず、外生的なショックの確率過程をTauchen(1986)の方法を用いてマルコフ連鎖で近似する\n",
    "\n",
    "- 各変数のグリッドは以下で与えられる\n",
    "\n",
    "\\begin{align*}\n",
    "  g \\in \\{g_{1},g_{2},...,g_{N_{g}}\\} \\\\\n",
    "  u \\in \\{u_{1},u_{2},...,u_{N_{u}}\\}\n",
    "\\end{align*}\n",
    "\n"
   ]
  },
  {
   "cell_type": "markdown",
   "metadata": {
    "slideshow": {
     "slide_type": "fragment"
    }
   },
   "source": [
    "- また、遷移確率は、それぞれ、\n",
    "\n",
    "$$\n",
    "  P^{g} = \\left[\\begin{array}{cccc}\n",
    "  p_{11}^{g} & \\cdots & \\cdots & p_{1N}^{g} \\\\\n",
    "  \\vdots & \\ddots &        & \\vdots \\\\\n",
    "  \\vdots &        & \\ddots & \\vdots \\\\\n",
    "  p_{N1}^{g} & \\cdots & \\cdots & p_{NN}^{g}\n",
    "  \\end{array}\\right]\n",
    "  , \\quad\n",
    "  P^{u} = \\left[\\begin{array}{cccc}\n",
    "  p_{11}^{u} & \\cdots & \\cdots & p_{1N}^{u} \\\\\n",
    "  \\vdots & \\ddots &        & \\vdots \\\\\n",
    "  \\vdots &        & \\ddots & \\vdots \\\\\n",
    "  p_{N1}^{u} & \\cdots & \\cdots & p_{NN}^{u}\n",
    "  \\end{array}\\right]\n",
    "$$"
   ]
  },
  {
   "cell_type": "markdown",
   "metadata": {
    "slideshow": {
     "slide_type": "subslide"
    }
   },
   "source": [
    "- これらの2つのマルコフ連鎖を結合して1つのマルコフ連鎖として考えるために、2次元のグリッドの座標$(g,u)$を1次元のベクトル$s$に集約する"
   ]
  },
  {
   "cell_type": "markdown",
   "metadata": {
    "slideshow": {
     "slide_type": "fragment"
    }
   },
   "source": [
    "- 例えば、$N_{g}=N_{u}=2$の場合、$g$と$u$の組み合わせは以下の$N_{g} \\times N_{u}=4$個のベクトルで与えられる\n",
    "\n",
    "\\begin{align*}\n",
    "  s_{1} &= (g_{1},u_{1}) \\\\ \n",
    "  s_{2} &= (g_{1},u_{2}) \\\\ \n",
    "  s_{3} &= (g_{2},u_{1}) \\\\ \n",
    "  s_{4} &= (g_{2},u_{2})\n",
    "\\end{align*}\n",
    "\n",
    "- ここで、ベクトル$s$のインデックス$i \\in \\{1,2,3,4\\}$は、それぞれのショックのインデックスの組に対応しており、\n",
    "\n",
    "$$\n",
    "  s_{i} = (g_{k(i)},u_{l(i)})\n",
    "$$\n",
    "\n",
    "のように書ける"
   ]
  },
  {
   "cell_type": "markdown",
   "metadata": {
    "slideshow": {
     "slide_type": "subslide"
    }
   },
   "source": [
    "- また、それぞれの遷移行列のクロネッカー積、$P=P^{g} \\otimes P^{u}$が、結合されたマルコフ連鎖の遷移行列となる\n",
    "\n",
    "- 例えば、$N_{g}=N_{u}=2$の場合、\n",
    "\n",
    "$$\n",
    "  P = \\left[\\begin{array}{cccc}\n",
    "  p_{11}^{g}p_{11}^{u} & p_{11}^{g}p_{11}^{u} & p_{12}^{g}p_{11}^{u} & p_{12}^{g}p_{12}^{u} \\\\\n",
    "  p_{11}^{g}p_{21}^{u} & p_{11}^{g}p_{22}^{u} & p_{12}^{g}p_{21}^{u} & p_{12}^{g}p_{22}^{u} \\\\\n",
    "  p_{21}^{g}p_{11}^{u} & p_{21}^{g}p_{11}^{u} & p_{22}^{g}p_{11}^{u} & p_{22}^{g}p_{12}^{u} \\\\\n",
    "  p_{21}^{g}p_{21}^{u} & p_{21}^{g}p_{22}^{u} & p_{22}^{g}p_{21}^{u} & p_{22}^{g}p_{22}^{u} \\\\\n",
    "  \\end{array}\\right]\n",
    "$$"
   ]
  },
  {
   "cell_type": "markdown",
   "metadata": {
    "slideshow": {
     "slide_type": "subslide"
    }
   },
   "source": [
    "- 数値計算のアルゴリズムは以前の2状態モデルとほぼ同じである"
   ]
  },
  {
   "cell_type": "markdown",
   "metadata": {
    "slideshow": {
     "slide_type": "fragment"
    }
   },
   "source": [
    "- アルゴリズム（再掲）\n",
    "\n",
    "\n",
    "1. グリッド生成：状態空間の評価点を有限個のグリッドに区切る。この場合、$(s_{1},...,s_{N_{g}N_{u}})$はすでに与えられている\n",
    "\n",
    "2. 収束の基準：収束の基準になるパラメータ$\\varepsilon$を与える"
   ]
  },
  {
   "cell_type": "markdown",
   "metadata": {
    "slideshow": {
     "slide_type": "subslide"
    }
   },
   "source": [
    "3. 最適化：古い政策関数$y = \\varsigma_{y}^{(n-1)}(s),\\pi = \\varsigma_{\\pi}^{(n-1)}(s),r_{n} = \\varsigma_{r_{n}}^{(n-1)}(s)$を所与として、各$s_{i}$について、以下の3本の式を$(y_{i},\\pi_{i},r_{n,i})$について解く\n",
    "\n",
    "\\begin{align*}\n",
    "  r_{n,i} &= -y_{i} + y_{i}^{e} + \\pi_{i}^{e} + g_{k(i)} \\\\\n",
    "  \\pi_{i} &= \\kappa y_{i} + \\beta \\pi_{i}^{e} + u_{l(i)} \\\\\n",
    "  0 &= \\lambda y_{i} + \\kappa \\pi_{i}\n",
    "\\end{align*}\n",
    "\n",
    "ここで、\n",
    "\n",
    "\\begin{align*}\n",
    "  y_{i}^{e} &= \\sum_{j=1}^{N}p_{ij}\\varsigma_{y}^{(n-1)}(s_{j}) \\\\\n",
    "  \\pi_{i}^{e} &= \\sum_{j=1}^{N}p_{ij}\\varsigma_{\\pi}^{(n-1)}(s_{j})\n",
    "\\end{align*}\n",
    "\n",
    "である"
   ]
  },
  {
   "cell_type": "markdown",
   "metadata": {
    "slideshow": {
     "slide_type": "subslide"
    }
   },
   "source": [
    "$r_{n,i} > 0$が満たされているかをチェックし、そうでなければ、$r_{n,i}=0$として、以下の2本の式を$(y_{i},\\pi_{i})$について解く\n",
    "\n",
    "\\begin{align*}\n",
    "  0 &= -y_{i} + y_{i}^{e} + \\pi_{i}^{e} + g_{k(i)} \\\\\n",
    "  \\pi_{i} &= \\kappa y_{i} + \\beta \\pi_{i}^{e} + u_{l(i)} \\\\\n",
    "\\end{align*}\n",
    "\n",
    "このステップで、新しい政策関数のベクトル$\\varsigma^{(n)}(s_{i})$を得る\n",
    "\n",
    "4. 全ての$s_{i}$について$\\|\\varsigma^{(n)}(s_{i})-\\varsigma^{(n-1)}(s_{i})\\|<\\varepsilon$であればストップ。そうでなければ、$\\varsigma^{(n)}(s_{i})$を$\\varsigma^{(n-1)}(s_{i})$に代入して、ステップ3-4を繰り返す"
   ]
  },
  {
   "cell_type": "markdown",
   "metadata": {
    "slideshow": {
     "slide_type": "slide"
    }
   },
   "source": [
    "# 非線形モデル\n",
    "\n",
    "- これまでは均衡条件を対数線形近似したモデルでゼロ金利制約による非線形性を考慮してきた\n",
    "\n",
    "- しかし、元の均衡条件は非線形であり、そのような非線形の均衡条件とゼロ金利制約を合わせて考えることももちろん可能である\n",
    "\n",
    "- ここでは、最終財生産企業と中間財生産企業、家計、政府からなるニューケインジアンモデルを考える\n",
    "  - 価格の硬直性について、Rotemberg(1982)型のインフレ率の定常状態からの乖離の2乗に比例する調整費用を考える"
   ]
  },
  {
   "cell_type": "markdown",
   "metadata": {
    "slideshow": {
     "slide_type": "subslide"
    }
   },
   "source": [
    "## 最終財生産企業\n",
    "\n",
    "- 最終財生産企業は、異なる中間財$Y_{t}(j), j \\in [0,1]$を用いて、最終財を生産する\n",
    "\n",
    "\n",
    "$$\n",
    "  Y_{t} = \\left( \\int_{0}^{1} Y_{t}(j)^{1-\\nu}dj \\right)^{\\frac{1}{1-\\nu}}\n",
    "$$\n",
    "\n",
    "ここで、$\\nu$は需要の価格弾力性の逆数である"
   ]
  },
  {
   "cell_type": "markdown",
   "metadata": {
    "slideshow": {
     "slide_type": "subslide"
    }
   },
   "source": [
    "- 利潤最大化あるいは費用最小化により、以下の需要曲線を得る\n",
    "\n",
    "$$\n",
    "  Y_{t}(j) = \\left(\\frac{P_{t}(j)}{P_{t}}\\right)^{-1/\\nu} Y_{t}\n",
    "$$\n",
    "\n",
    "$P_{t}(j)$は中間投入$Y_{t}(j)$の価格である。また、一般価格水準は$P_{t}=\\left( \\int_{0}^{1} P_{t}(j)^{\\frac{\\nu-1}{\\nu}}dj \\right)^{\\frac{\\nu}{\\nu-1}}$と表される"
   ]
  },
  {
   "cell_type": "markdown",
   "metadata": {
    "slideshow": {
     "slide_type": "subslide"
    }
   },
   "source": [
    "## 中間財生産企業\n",
    "\n",
    "- それぞれの中間財生産企業は、$Y_{t}(j)$を独占競争下で生産し、2次の価格調整コストの下で価格を設定する\n",
    "\n",
    "- 生産関数は以下で与えられる\n",
    "$$\n",
    "  Y_{t}(j) = A_{t}N_{t}(j)\n",
    "$$\n",
    "  - $A_{t}$: 全要素生産性\n",
    "  - $N_{t}(j)$: 労働投入"
   ]
  },
  {
   "cell_type": "markdown",
   "metadata": {
    "slideshow": {
     "slide_type": "subslide"
    }
   },
   "source": [
    "- $A_{t}$の成長率は、\n",
    "\n",
    "$$\n",
    "  \\gamma_{t} \\equiv \\ln(A_{t}/A_{t-1})=\\gamma+z_{t}\n",
    "$$\n",
    "\n",
    "のように確定的なトレンド$\\gamma$とトレンドに対するショック$z_{t}$に分解できる\n",
    "\n",
    "- $z_{t}$は、AR(1)過程$z_{t} = \\rho_{z} z_{t-1} + \\varepsilon_{z,t}, \\varepsilon_{z,t} \\sim N(0,\\sigma_{z}^{2})$に従う\n",
    " "
   ]
  },
  {
   "cell_type": "markdown",
   "metadata": {
    "slideshow": {
     "slide_type": "subslide"
    }
   },
   "source": [
    "- 中間財$j$を生産する企業は、その企業自身の生産関数と、最終財生産企業からの需要関数を制約条件として、以下の将来の期待利益の割引現在価値を最大化するように中間財価格$P_{t}(j)$を選ぶ\n",
    "$$\n",
    "  \\mathbb{E}_{t} \\left[ \\sum_{s=0}^{\\infty} \\beta^{s}Q_{t+s|t} \\left( \\frac{P_{t+s}(j)}{P_{t+s}}Y_{t+s}(j)-W_{t+s}N_{t+s}(j)-AC_{t+s}(j) \\right) \\right]\n",
    "$$\n",
    "ここで、$\\beta^{s}Q_{t+s|t}=\\beta^{s}(C_{t+s}/C_{t})^{-\\tau}(A_{t}/A_{t+s})^{1-\\tau}$は確率的割引因子と呼ばれ、家計のオイラー方程式から導出される\n",
    "  - $\\beta$: 主観的割引因子\n",
    "  - $\\tau$: リスク回避度に関するパラメータ\n",
    "  - $C_{t}$: 総消費"
   ]
  },
  {
   "cell_type": "markdown",
   "metadata": {
    "slideshow": {
     "slide_type": "fragment"
    }
   },
   "source": [
    "- 価格の調整費用は、Rotemberg(1982)に従い、\n",
    "$$\n",
    "  AC_{t}(j) = \\frac{\\phi}{2}\\left( \\frac{P_{t}(j)}{P_{t-1}(j)}-\\Pi \\right)^{2}Y_{t}(j)\n",
    "$$\n",
    "として定式化される\n",
    "  - $\\phi$: 調整費用の大きさに関するパラメータ\n",
    "  - $\\Pi$: 定常状態での粗インフレ率\n",
    "  - $W_{t}$: 実質賃金率"
   ]
  },
  {
   "cell_type": "markdown",
   "metadata": {
    "slideshow": {
     "slide_type": "subslide"
    }
   },
   "source": [
    "- $P_{t}(j)$について微分し整理することで、最適化の必要条件は以下の式で与えられる\n",
    "\n",
    "\\begin{align*}\n",
    " & (1-\\nu^{-1})\\left(\\frac{P_{t}(j)}{P_{t}}\\right)^{-1/\\nu}\\frac{Y_{t}}{P_{t}}+\\nu^{-1}\\frac{W_{t}}{A_{t}}\\left(\\frac{P_{t}(j)}{P_{t}}\\right)^{-1/\\nu-1}\\frac{Y_{t}}{P_{t}} \\\\\n",
    " & -\\frac{\\partial AC_{t}(j)}{\\partial P_{t}(j)}-\\beta\\mathbb{E}_{t}Q_{t+1|t}\\frac{\\partial AC_{t+1}(j)}{\\partial P_{t}(j)}=0\n",
    "\\end{align*}"
   ]
  },
  {
   "cell_type": "markdown",
   "metadata": {
    "slideshow": {
     "slide_type": "subslide"
    }
   },
   "source": [
    "## 家計\n",
    "\n",
    "- 代表的家計は、以下の効用最大化問題を解く\n",
    "$$\n",
    "  \\mathbb{E}_{t} \\left[ \\sum_{s=0}^{\\infty} \\beta^{s}\\left( \\frac{(C_{t+s}/A_{t+s})^{1-\\tau}-1}{1-\\tau} - \\chi_{H}H_{t+s} \\right) \\right]\n",
    "$$\n",
    "subject to\n",
    "$$\n",
    "  P_{t}C_{t} + B_{t} + T_{t} = P_{t}W_{t}H_{t} + R_{n,t-1}B_{t-1} + P_{t}D_{t} + P_{t}SC_{t}\n",
    "$$\n",
    "  - $\\chi_{H}$: 労働による不効用の効用全体に対するウェイト\n",
    "  - $B_{t}$: $t$期末における債券の保有量、\n",
    "  - $H_{t}$: 総労働供給、\n",
    "  - $T_{t}$: 所得移転、\n",
    "  - $R_{n,t}$: 名目金利を\\textbf{粗利(gross)}で表したもの\n",
    "  - $D_{t}$: 家計が保有する中間財生産企業からの配当\n",
    "  - $SC_{t}$: 状態依存型証券を取引することで得られる純キャッシュフロー\n"
   ]
  },
  {
   "cell_type": "markdown",
   "metadata": {
    "slideshow": {
     "slide_type": "subslide"
    }
   },
   "source": [
    "- 最適化の必要条件は以下の式で与えられる\n",
    "\n",
    "\\begin{align*}\n",
    " & 1=\\beta\\mathbb{E}_{t}\\left[\\left(\\frac{C_{t+1}/C_{t}}{A_{t+1}/A_{t}}\\right)^{-\\tau}\\frac{A_{t}}{A_{t+1}}\\frac{R_{n,t}}{\\Pi_{t+1}}\\right] \\\\\n",
    " & \\frac{W_{t}}{A_{t}}=\\chi_{H}\\left(\\frac{C_{t}}{A_{t}}\\right)^{\\tau}\n",
    "\\end{align*}\n",
    "ここで、$\\Pi_{t}=P_{t}/P_{t-1}$は粗インフレ率"
   ]
  },
  {
   "cell_type": "markdown",
   "metadata": {
    "slideshow": {
     "slide_type": "subslide"
    }
   },
   "source": [
    "## モデルを閉じる\n",
    "\n",
    "- 金融政策ルールは以下の形をとる\n",
    "$$\n",
    "  R_{n,t} = \\left( R\\Pi^{*}\\left(\\frac{\\Pi_{t}}{\\Pi^{*}}\\right)^{\\psi_{1}}\\left(\\frac{Y_{t}}{Y_{t}^{*}}\\right)^{\\psi_{2}} \\right)^{1-\\rho_{R}} R_{n,t-1}^{\\rho_{R}} \\exp(\\varepsilon_{R,t})\n",
    "$$\n",
    "  - $R$: 定常状態の実質利子率\n",
    "  - $\\Pi^{*}$: 目標インフレ率\n",
    "  - $\\varepsilon_{R,t} \\sim N(0,\\sigma_{R}^{2})$: 金融政策ショック \n",
    "  - $Y_{t}^{*}=(1-\\nu)^{1/\\tau}A_{t}\\exp(g_{t})$: 自然産出量（$\\phi=0$のときの$Y_{t}$の水準）"
   ]
  },
  {
   "cell_type": "markdown",
   "metadata": {
    "slideshow": {
     "slide_type": "subslide"
    }
   },
   "source": [
    "- 財政支出は、$G_{t}=(1-\\exp(-g_{t}))Y_{t}$で与えられる。ここで、\n",
    "\n",
    "$$\n",
    "  g_{t} = (1-\\rho_{g})g + \\rho_{g}g_{t-1} + \\varepsilon_{g,t}, \\quad \\varepsilon_{g,t} \\sim N(0,\\sigma_{g}^{2})\n",
    "$$"
   ]
  },
  {
   "cell_type": "markdown",
   "metadata": {
    "slideshow": {
     "slide_type": "fragment"
    }
   },
   "source": [
    "- 全ての中間財生産企業が同じ決定をする対象均衡に着目する（添字$j$は省略）\n",
    "\n",
    "- 市場清算条件は以下で与えられる\n",
    "\n",
    "\\begin{align*}\n",
    "  C_{t} + G_{t} + AC_{t} &= Y_{t} \\\\\n",
    "  H_{t} &= N_{t}\n",
    "\\end{align*}"
   ]
  },
  {
   "cell_type": "markdown",
   "metadata": {
    "slideshow": {
     "slide_type": "subslide"
    }
   },
   "source": [
    "- $(Y_{t},Y_{t}^{*},C_{t})$は共通のトレンド$A_{t}$を持つことから、$\\tilde{Y}_{t}=Y_{t}/A_{t}, \\tilde{Y}_{t}^{*}=Y_{t}^{*}/A_{t}, \\tilde{C}_{t}=C_{t}/A_{t}$のようにトレンドを除去する\n",
    "\n",
    "- 結果として、均衡条件は以下で与えられる\n",
    "\n",
    "\\begin{align*}\n",
    " & \\tilde{C}_{t}^{-\\tau}=\\beta R_{n,t}\\mathbb{E}_{t}\\left[\\frac{\\tilde{C}_{t+1}^{-\\tau}}{\\exp(\\gamma_{t+1})\\Pi_{t+1}}\\right] \\tag{4} \\\\\n",
    " & 0=\\left((1-\\nu^{-1})+\\nu^{-1}\\tilde{C}_{t}^{\\tau}-\\phi\\left(\\Pi_{t}-\\bar{\\Pi}\\right)\\left[\\Pi_{t}-\\frac{1}{2\\nu}\\left(\\Pi_{t}-\\bar{\\Pi}\\right)\\right]\\right)\\tilde{C}_{t}^{-\\tau}\\tilde{Y}_{t} \\\\\n",
    " & +\\beta\\phi\\mathbb{E}_{t}\\left[\\tilde{C}_{t+1}^{-\\tau}\\tilde{Y}_{t+1}\\left(\\Pi_{t+1}-\\bar{\\Pi}\\right)\\Pi_{t+1}\\right] \\tag{5} \\\\\n",
    " & \\tilde{C}_{t}+\\frac{\\phi}{2}\\left(\\Pi_{t}-\\Pi\\right)^{2}\\tilde{Y}_{t}=\\exp(-g_{t})\\tilde{Y}_{t} \\tag{6} \\\\\n",
    " & R_{n,t}^{*}=\\left(R^{*}\\bar{\\Pi}\\left(\\frac{\\Pi}{\\bar{\\Pi}}\\right)^{\\psi_{1}}\\left(\\frac{\\tilde{Y}_{t}}{\\tilde{Y}_{t}^{*}}\\right)^{\\psi_{2}}\\right)^{1-\\rho_{R}}R_{n,t-1}^{*\\rho_{R}}\\exp(\\varepsilon_{R,t}) \\tag{7} \\\\\n",
    " & R_{n,t}=\\max\\left\\{ R_{n,t}^{*},1\\right\\} \\tag{8}\n",
    "\\end{align*}\n",
    "これらの4つの式は、消費のオイラー方程式、ニューケインジアン・フィリップス曲線、経済の資源制約、そしてテイラー型の金融政策ルールである。\n",
    "$R_{n,t}^{*}$はシャドーレートである。$R_{n,t}$はゼロ金利制約から1以上となる(純利に直すと0以上となる)。\n"
   ]
  },
  {
   "cell_type": "markdown",
   "metadata": {
    "slideshow": {
     "slide_type": "subslide"
    }
   },
   "source": [
    "- これらの非線形の均衡条件にも、時間反復法を適用できる\n",
    "\n",
    "- 前節までの準線形モデルと比べて、ゼロ金利制約以外の非線形性を考慮した場合、モデルの政策関数は特に定常状態から大きく離れたところでは異なり得る\n",
    "\n",
    "- また、非線形の均衡条件を対数線形近似することで、(1)-(3)式に近い式を求めることができる"
   ]
  }
 ],
 "metadata": {
  "celltoolbar": "Slideshow",
  "kernelspec": {
   "display_name": "Julia 1.6.1",
   "language": "julia",
   "name": "julia-1.6"
  },
  "language_info": {
   "file_extension": ".jl",
   "mimetype": "application/julia",
   "name": "julia",
   "version": "1.6.1"
  }
 },
 "nbformat": 4,
 "nbformat_minor": 4
}
