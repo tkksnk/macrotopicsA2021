{
 "cells": [
  {
   "cell_type": "markdown",
   "metadata": {
    "slideshow": {
     "slide_type": "slide"
    }
   },
   "source": [
    "<div style=\"text-align: center;\">\n",
    "# マクロ経済特論A\n",
    "<div style=\"text-align: center;\">\n",
    "第6回：「異質な個人を組み込んだマクロモデル」\n",
    "<br>\n",
    "<br>\n",
    "<div style=\"text-align: center;\">    \n",
    "2020年12月\n",
    "<div style=\"text-align: center;\">   \n",
    "一橋大学　砂川武貴"
   ]
  },
  {
   "cell_type": "markdown",
   "metadata": {
    "slideshow": {
     "slide_type": "slide"
    }
   },
   "source": [
    "# イントロダクション\n",
    "\n",
    "- これまでの連載では、ベルマン方程式を使った動的計画法(dynamic programming)や時間反復法(time iteration)を用いて、家計や企業の動学的最適化問題の解き方を学んできた\n",
    "\n",
    "- また前回は、確定的(deterministic)なモデルを発展させ、確率的(stochastic)なショックを導入したモデルの解法を解説した\n",
    "\n",
    "- これまでは、一人の個人の最適化問題に焦点を当てた、いわゆる代表的個人(representative agent)の仮定のもとで家計の行動を分析してきた"
   ]
  },
  {
   "cell_type": "markdown",
   "metadata": {
    "slideshow": {
     "slide_type": "subslide"
    }
   },
   "source": [
    "- しかし、現実には、マクロ変数と同じ動きをする代表的個人を目にすることはなく、各個人がそれぞれの不確実性に直面して異なる予算制約の中で日々意思決定をしている\n",
    "\n",
    "- 平均的な資産・所得といった経済変数を有する個人がいたとして、彼・彼女の行動を追えばマクロ経済の変化が必ずしも理解できるわけではない"
   ]
  },
  {
   "cell_type": "markdown",
   "metadata": {
    "slideshow": {
     "slide_type": "subslide"
    }
   },
   "source": [
    "- 資本市場で取引される資産や効用関数に一定の仮定を置いた場合、代表的個人の動きはマクロの動きに近づくため、近似的には問題ない場合もある\n",
    "\n",
    "- その一方で、代表的個人だけに焦点を当てた分析では難しい問題、例えば所得・資産格差や再分配政策の分析も存在する\n",
    "\n",
    "- 格差が広がる要因を分析して望ましい再分配政策のあり方を探るには、代表的個人のモデルを超えて、異質な個人(heterogeneous agents)のマクロモデルを構築することが必要である"
   ]
  },
  {
   "cell_type": "markdown",
   "metadata": {
    "slideshow": {
     "slide_type": "subslide"
    }
   },
   "source": [
    "- 今回は、異質な個人を明示的に組み込んだマクロ経済モデルとその数値計算方法を学習していく\n",
    "  - これまでと比較してやや複雑かもしれないが、基本的には動的計画法を使ってモデルを構築し、一般均衡の概念、近似計算や解の探索方法などの知識を応用していく\n",
    "  - 近年はモデルが進化し数値計算手法が発展すると同時に、コンピューター技術が飛躍的に発展して計算にかかる時間的・金銭的費用も低下しているため、様々なマクロ・ミクロの断面に切り込んだ分析ができるようになっている"
   ]
  },
  {
   "cell_type": "markdown",
   "metadata": {
    "slideshow": {
     "slide_type": "subslide"
    }
   },
   "source": [
    "- 個人間の異質性という場合、例えば性別・年齢の違いといった確定的な事前(ex-ante)の異質性と、確率的なショックによって生じる事後(ex-post)の異質性とがある\n",
    "\n",
    "- 今回は後者の異質性、とくに確率的ショックが個人レベルで起きる可能性を組み込んだ、いわゆるビューリーモデルを取り扱う"
   ]
  },
  {
   "cell_type": "markdown",
   "metadata": {
    "slideshow": {
     "slide_type": "slide"
    }
   },
   "source": [
    "# ビューリーモデル\n",
    "\n",
    "- 異質な個人を組み込んだモデルといってもそのやり方はさまざまだが、ここでは労働所得もしくは労働生産性に固有なショックが確率的に発生するケースを考える\n",
    "\n",
    "- 悪いショックが起きた時には、所得を補填して消費変動を抑制できる保険を購入したり、借り入れにより消費を平準化できれば、一般的な効用関数のもとでは結果として代表的個人のような消費プロファイルを実現できる\n",
    "\n",
    "- しかし現実には完全な保険市場は存在せず、借り入れにも様々な制約がかかる "
   ]
  },
  {
   "cell_type": "markdown",
   "metadata": {
    "slideshow": {
     "slide_type": "subslide"
    }
   },
   "source": [
    "- あらゆるリスクを取り払い状態に応じて支払いが行われる、状態条件付き資産を取引する市場が存在しない経済、すなわち不完備市場において、借り入れ制約に直面する個人をモデル化してみよう\n",
    "\n",
    "- この種の不完備モデルは、Thomas Bewley(1977)の名前にちなんでビューリーモデルとよばれることが多い\n",
    "\n",
    "- 以下では、Aiyagari(1994)に基づいたモデルを学習し、均衡の定義と特徴、カリブレーションと実際の計算について見ていく"
   ]
  },
  {
   "cell_type": "markdown",
   "metadata": {
    "slideshow": {
     "slide_type": "subslide"
    }
   },
   "source": [
    "## 完備市場の均衡\n",
    "- 不完備市場モデルの前に、市場が完備から不完備になることで生じる変化を明確にするために、完備市場(complete market)における均衡を復習してみよう\n",
    "\n",
    "- それぞれの個人は、以下の最適化問題を解く\n",
    "$$\n",
    "  \\max_{\\{c_{t},a_{t+1}\\}_{t=0}^{\\infty}}\\sum_{t=0}^{\\infty}\\beta^{t}u(c_t)\n",
    "$$\n",
    "subject to\n",
    "$$\n",
    "  c_{t} + a_{t+1} = (1+r_{t})a_{t} + w_{t}\n",
    "$$\n",
    "  - $a_{t+1}$: 内生的に決定される今期の貯蓄（次期の資産）\n",
    "  - $w_{t}$: 外生的に与えられる労働所得\n",
    "  - $\\beta$: 主観的割引因子\n",
    "  - $r_{t}$: 金利水準は均衡において決定されるが、個人にとっては所与である"
   ]
  },
  {
   "cell_type": "markdown",
   "metadata": {
    "slideshow": {
     "slide_type": "subslide"
    }
   },
   "source": [
    "- 個人が借り入れをしている場合は$a_{t}<0$となるが、借金の現在価値が無限大に発散し返済が不可能となるポンジー・ゲームを排除するため、以下の制約を課す\n",
    "\n",
    "$$\n",
    "  \\lim_{t \\rightarrow \\infty} \\frac{a_{t-1}}{\\prod_{s=0}^{t}(1+r_{s})} < \\infty\n",
    "$$"
   ]
  },
  {
   "cell_type": "markdown",
   "metadata": {
    "slideshow": {
     "slide_type": "subslide"
    }
   },
   "source": [
    "- この無限期間の問題をベルマン方程式を使って以下のように書き換える\n",
    "$$\n",
    "  V(a) = \\max_{c,a'}\\left\\{ u(c) + \\beta V(a') \\right\\}\n",
    "$$\n",
    "subject to\n",
    "\\begin{align*}\n",
    "  c + a' &= (1+r)a + w \\\\\n",
    "  a' &\\geq -b\n",
    "\\end{align*}\n",
    "\n",
    "時間を示すサブスクリプトは（以前と同様に）省略してある。プライム記号（例えば$a'$）は次期の値を示す\n",
    "\n",
    "- 借り入れ制約については、資産の下限を$-b$とおく"
   ]
  },
  {
   "cell_type": "markdown",
   "metadata": {
    "slideshow": {
     "slide_type": "subslide"
    }
   },
   "source": [
    "- 標準的な効用関数の仮定（$u'(c)>0, u''(c)<0$）および$c>0, c\\neq\\infty$では、均衡における金利$r$について以下の式が成立する\n",
    "\n",
    "\\begin{align*}\n",
    "  u'(c) &= \\beta (1+r) u'(c') \\\\\n",
    "  r &= 1/\\beta -1 \\equiv \\lambda\n",
    "\\end{align*}"
   ]
  },
  {
   "cell_type": "markdown",
   "metadata": {
    "slideshow": {
     "slide_type": "subslide"
    }
   },
   "source": [
    "- 企業は、完全競争下で総資本$K$および総労働供給$L$を生産要素として生産関数$Y=F(K,L)$に基づき生産を行う\n",
    "\n",
    "- ここで、$K=a$および$L=1$はそれぞれ、個人から借りた資産および労働の総和\n",
    "\n",
    "- 市場金利$r$と賃金$w$のもと、企業の利潤最大化条件は以下に与えられる\n",
    "\n",
    "\\begin{align*}\n",
    "  r & = F_{K}(K,L) - \\delta \\\\\n",
    "  w & = F_{L}(K,L)\n",
    "\\end{align*}\n",
    "\n",
    "$\\delta$は資本減耗率である"
   ]
  },
  {
   "cell_type": "markdown",
   "metadata": {
    "slideshow": {
     "slide_type": "subslide"
    }
   },
   "source": [
    "- 資本市場における個人と企業の行動を、縦軸に価格（金利）、横軸に需要・供給量として表すと、下図（Aiyagari(1994)より抜粋）のようになる\n",
    "\n",
    "- 完備市場における均衡は、資本水準に依存しない供給曲線$r=\\lambda$と、企業の最適化条件で示される需要曲線$r=K(r)$との交点（図中の$e^{f}$）で与えられる\n",
    "\n",
    "- 金利が$-\\delta$に近づくにつれ（$F_{K}(K,L)$がゼロに近づくにつれ）、$K$は無限大に発散する\n",
    "\n",
    "<br>\n",
    "<div align=\"center\">\n",
    "<img src=\"./aiyagari_fig.png\",width=\"600\",height=\"400\">\n",
    "</div>"
   ]
  },
  {
   "cell_type": "markdown",
   "metadata": {
    "slideshow": {
     "slide_type": "subslide"
    }
   },
   "source": [
    "## 不完備市場モデル\n",
    "\n",
    "- 次に個人に固有な不確実性を労働生産性に導入しよう\n",
    "\n",
    "- 総人口を1に標準化し、市場は不完備、すなわち状態条件付き資産は存在しないと仮定する\n",
    "\n",
    "- 消費の変動を嫌う個人が、将来の所得変動に備えてできることは、リスクのない資産を用いた予備的貯蓄(precautionary saving)のみとする"
   ]
  },
  {
   "cell_type": "markdown",
   "metadata": {
    "slideshow": {
     "slide_type": "fragment"
    }
   },
   "source": [
    "- 労働生産性を$l$とし、1階の自己回帰（first-order autoregressive: AR(1)）確率過程に従うとする\n",
    "  - $l$を$N_{l}$個のグリッド$[l_{1},...,l_{N_{l}}]$で離散化する\n",
    "  - 今期の生産性$l_{i}$から次期に$l_{j}$となる確率を$p_{ij}^{l}$で表す"
   ]
  },
  {
   "cell_type": "markdown",
   "metadata": {
    "slideshow": {
     "slide_type": "subslide"
    }
   },
   "source": [
    "- 所得の不確実性を含めてベルマン方程式を書き改めると以下のようになる\n",
    "$$\n",
    "  V(a,l) = \\max_{c,a'}\\left\\{ u(c) + \\beta \\mathbb{E} V(a',l') \\right\\}\n",
    "$$\n",
    "subject to\n",
    "\\begin{align*}\n",
    "  c + a' &= (1+r)a + wl \\\\\n",
    "  a' &\\geq -b\n",
    "\\end{align*}\n",
    "\n",
    "- 完備市場との違いは、新たな個人の状態変数である労働生産性$l$と、次期の価値関数にかかる期待値オペレーター$\\mathbb{E}$のみである\n",
    "\n",
    "- 今期の生産性が$l=l_{i}$の場合の価値関数の期待値を明示的に表すと、$\\mathbb{E}V(a',l') = \\sum_{j}V(a',l_{j})p_{ij}^{l}$となる"
   ]
  },
  {
   "cell_type": "markdown",
   "metadata": {
    "slideshow": {
     "slide_type": "subslide"
    }
   },
   "source": [
    "- 企業については完備市場の場合と同じ仮定を置く\n",
    "\n",
    "- 定常均衡においては、個人は毎期労働生産性のリスクに直面するが、労働生産性の分布は常に一定である"
   ]
  },
  {
   "cell_type": "markdown",
   "metadata": {
    "slideshow": {
     "slide_type": "subslide"
    }
   },
   "source": [
    "###  均衡の定義\n",
    "\n",
    "この不完備市場モデルにおける定常均衡は、以下の条件を満たす政策関数$a'=g(a,l)$、個人の状態変数空間における確率分布$m(a,l)$、総資本$K$、総労働$L$、金利$r$、および賃金$w$によって定義される\n",
    "\n",
    "1. 要素価格は競争的に決定される\n",
    "$$\n",
    "  r = F_{K}(K,L)-\\delta, \\quad w = F_{L}(K,L)\n",
    "$$\n",
    "\n",
    "2. 政策関数$a'=g(a,l)$は個人の最適化問題の解である\n",
    "\n",
    "3. 確率分布$m(a,l)$は不変であり、政策関数$g(a,l)$および労働生産性$l$の推移確率によって得られる\n",
    "\n",
    "4. 企業の総資本需要と個人の総資本供給、総労働需要と総労働供給は一致する\n",
    "$$\n",
    "  K = \\int_{l}\\int_{a} a m(a,l)dadl, \\quad L = \\int_{l}\\int_{a} l m(a,l)dadl\n",
    "$$\n"
   ]
  },
  {
   "cell_type": "markdown",
   "metadata": {
    "slideshow": {
     "slide_type": "subslide"
    }
   },
   "source": [
    "## 不完備市場における均衡の特徴\n",
    "\n",
    "- 資本市場の均衡において、価格（金利）と総資本がどのように決定されるか特徴づけてみよう\n",
    "\n",
    "- 消費と貯蓄に関するオイラー方程式は以下で与えられる\n",
    "\n",
    "$$\n",
    "  u'(c) \\geq \\beta (1+r) \\mathbb{E} u'(c') \\tag{5}\n",
    "$$\n",
    "\n",
    "- 借り入れ制約がバインドしている、すなわち借り入れ制約があるために消費を増やすことができないときには、今期の消費による限界効用が割引後の来期の限界効用を上回り、不等式が成立する"
   ]
  },
  {
   "cell_type": "markdown",
   "metadata": {
    "slideshow": {
     "slide_type": "subslide"
    }
   },
   "source": [
    "- 借り入れ制約にかからない範囲においては、金利が上がれば、貯蓄が上昇し消費成長率も増加する\n",
    "- また、金利が下方から完備市場における金利水準$\\lambda=1/\\beta-1$に近づくにつれ、期待資産は無限大に発散する\n",
    "- $u'(c)$が非負のマルチンゲールであることを利用して数学的に証明できるが(Ljungqvist and Sargent, 2018)、直感的な説明は以下の通り"
   ]
  },
  {
   "cell_type": "markdown",
   "metadata": {
    "slideshow": {
     "slide_type": "subslide"
    }
   },
   "source": [
    "- 仮に金利が$r=\\lambda$であった場合（すなわち$(1+r)\\beta=1$の場合）、(5)式は$u'(c_{t}) \\geq \\mathbb{E} u'(c_{t+1})$となる\n",
    "\n",
    "- 不等式が成立する場合には、イェンセンの不等式(Jensen's inequality)から$\\mathbb{E}(c_{t+1}) > c_{t}$となり、消費の期待値は上昇を続ける\n",
    "\n",
    "- このような消費を支えられるのは期待資産が増加し続ける場合に限られる。よって、極限においては資産は無限大となる"
   ]
  },
  {
   "cell_type": "markdown",
   "metadata": {
    "slideshow": {
     "slide_type": "subslide"
    }
   },
   "source": [
    "- 等式が成立する場合には$\\mathbb{E}(c_{t+1}) \\geq c_{t}$となる。$\\mathbb{E}(c_{t+1}) > c_{t}$であれば不等式が成立する場合と同じく、期待資産は無限大となる\n",
    "\n",
    "- $\\mathbb{E}(c_{t+1}) = c_{t}$というのは、不確実性のない$c_{t+1}=c_{t}$が成立する場合に限られる\n",
    "\n",
    "<div align=\"center\">\n",
    "<img src=\"./aiyagari1.png\",width=\"1000\",height=\"400\">\n",
    "</div>"
   ]
  },
  {
   "cell_type": "markdown",
   "metadata": {
    "slideshow": {
     "slide_type": "subslide"
    }
   },
   "source": [
    "- しかし、消費が変動しない、という状態はこの不完備市場においては永続しえない\n",
    "\n",
    "- もしそうであれば、$c_{t}=\\bar{c}$となり、均衡においては包絡線定理により$V'(a)=u'(c)(1+r)$が成り立つことから$a_{t}=\\bar{a}$となる\n",
    "\n",
    "- これは家計の予算制約式と矛盾する：$l$が不変でない限り、$\\bar{c}+\\bar{a}=(1+r)\\bar{a}+wl$は成立しえない"
   ]
  },
  {
   "cell_type": "markdown",
   "metadata": {
    "slideshow": {
     "slide_type": "subslide"
    }
   },
   "source": [
    "- 所得に不確実性が導入されたことで、完備市場と不完備市場で金利に対する個人の反応が全く異なる\n",
    "\n",
    "- 不完備市場において不確実性にさらされている個人にとって、リスクフリーの資産は不完全ながら所得変動リスクの影響を緩和してくれるため、完備市場に暮らす人たちよりも、利回りが低くても手に入れたい魅力がある\n",
    "\n",
    "- したがって、もし完備市場と同じ値段が付けられたならば、毎期毎期よろこんで資産を積み上げていく"
   ]
  },
  {
   "cell_type": "markdown",
   "metadata": {
    "slideshow": {
     "slide_type": "subslide"
    }
   },
   "source": [
    "- しかし一般均衡を考えると、そこまでの大量の資本を借り入れて生産を行いたい企業はいないため、金利は低くなり貯蓄意欲にもブレーキがかかる\n",
    "\n",
    "- 不完備市場における総資産の供給曲線$r=\\mathbb{E}a(r)$は、金利$r$が完備市場の均衡金利$\\lambda$に近づくに追れ無限大に発散する\n",
    "\n",
    "- 不完備市場における均衡点は図中の$e^{n}$となり、金利水準は完備市場より低く、総資本は高水準となる\n",
    "\n",
    "<br>\n",
    "<div align=\"center\">\n",
    "<img src=\"./aiyagari_fig.png\",width=\"600\",height=\"400\">\n",
    "</div>"
   ]
  },
  {
   "cell_type": "markdown",
   "metadata": {
    "slideshow": {
     "slide_type": "slide"
    }
   },
   "source": [
    "## カリブレーション\n",
    "\n",
    "- ここではAiyagari(1994)に沿った設定を行い、それぞれの値に関する議論は割愛する\n",
    "\n",
    "- モデル期間は年単位とし、効用関数は$u(c)=c^{1-\\gamma}/(1-\\gamma)$で与えられ、リスク回避度は$\\gamma=3$、主観的割引因子は$\\beta=0.96$、労働生産性$l$は以下のAR(1)過程に従う\n",
    "\n",
    "$$\n",
    "  \\log l_{t} = \\rho \\log l_{t-1} + \\epsilon_{t}, \\quad \\epsilon_{t} \\sim N(0,\\sigma^{2}) \n",
    "$$\n",
    "\n",
    "$\\rho=0.6,\\sigma=0.4$とする。前回学んだようにTauchen(1986)の手法で離散的に近似する\n",
    "\n",
    "- 生産関数は$F(K,L)=K^{\\alpha}L^{1-\\alpha}$とし、資本シェアは$\\alpha=0.36$、資本減耗率は$\\delta=0.08$、借り入れの上限は$b=3.0$とする"
   ]
  },
  {
   "cell_type": "markdown",
   "metadata": {
    "slideshow": {
     "slide_type": "subslide"
    }
   },
   "source": [
    "## 一般均衡の計算\n",
    "\n",
    "- 異質な個人を組み込んだ一般均衡の数値計算においては同時に満たすべき均衡条件が複数存在するため、いくつかのブロックにわけて計算を考えるとわかりやすい\n",
    "\n",
    "- ミクロの最適化問題とマクロの需給均衡の両方を同時に解くのはややこしいので、「外側」のマクロステップと「内側」のミクロステップの2段階に分けて計算する\n",
    "  - 個人の最適化問題を解くには、金利・賃金などの要素価格などのマクロ経済環境を示す変数がインプットとして必要である\n",
    "  - 要素価格はそれぞれの市場におけるマクロ的な需給均衡によって決まる"
   ]
  },
  {
   "cell_type": "markdown",
   "metadata": {
    "slideshow": {
     "slide_type": "subslide"
    }
   },
   "source": [
    "- マクロステップ：このモデルにおいては均衡の計算が必要な市場は資本市場のみである\n",
    "\n",
    "- 企業による資本需要と個人の資本供給が一致する均衡点$e^{n}$を見つければよい\n",
    "\n",
    "- $(-\\delta,\\lambda)$の範囲において、企業からの資本需要$r=F_{K}(K,L)-\\delta$を計算して需要曲線を導出し、個人の最適化問題を解いて総資産を計算して供給曲線を導出し、その交点を見つける"
   ]
  },
  {
   "cell_type": "markdown",
   "metadata": {
    "slideshow": {
     "slide_type": "fragment"
    }
   },
   "source": [
    "- 総資産の計算はいくつかのステップが必要になる\n",
    "  - ベルマン方程式を用いた動的計画法による解を導出: $a'=g(a,l)$\n",
    "  - 資産空間における定常状態を導出して総資本供給を計算: $A = \\sum_{i}\\int a m(a,l_{i})da$"
   ]
  },
  {
   "cell_type": "markdown",
   "metadata": {
    "slideshow": {
     "slide_type": "subslide"
    }
   },
   "source": [
    "- アルゴリズム\n",
    "\n",
    "\n",
    "1. 初期セットアップ: パラメータを設定する。労働生産性は$[l_{1},...,l_{N_{l}}]$のグリッドに離散化し、推移確率$p_{ij}^{l}$を求める。総労働供給$L$は不変であり計算できる\n",
    "\n",
    "2. グリッド生成: 個人の資産について、状態空間の評価点を$N_{a}$個のグリッドに区切る\n",
    "\n",
    "3. 収束の基準になるパラメータ$\\varepsilon$を定める"
   ]
  },
  {
   "cell_type": "markdown",
   "metadata": {
    "slideshow": {
     "slide_type": "subslide"
    }
   },
   "source": [
    "4. マクロ変数の初期値設定: 金利の初期値$r_{0}\\in(-\\delta,\\lambda)$を当て推量する。金利$r_{0}$における企業の資本需要$K_{0}$を$r_{0}=F_{K}(K_{0},L)-\\delta$から求め、賃金$w_{0}=F_{L}(K_{0},L)$を計算する\n",
    "\n",
    "5. 個人の政策関数の導出: 金利$r_{0}$、賃金$w_{0}$を所与として、個人の最適化問題を解く。各状態変数$(a,l)$における個人の政策関数$a'=g(a,l)$を求める\n",
    "\n",
    "6. 定常分布の導出: 定常分布を求めて総資本供給$A_{0}$を求める\n",
    "\n",
    "7. 均衡条件の確認：$|K_{0}-A_{0}|<\\varepsilon$であればストップ。そうでなければ$r_{0}$の値を調整して、ステップ4-6を繰り返す"
   ]
  },
  {
   "cell_type": "markdown",
   "metadata": {
    "slideshow": {
     "slide_type": "subslide"
    }
   },
   "source": [
    "## 定常分布の計算\n",
    "\n",
    "- 定常分布を計算するには主に二つの方法がある\n",
    "\n",
    "\n",
    "1. 価値関数反復法のように、分布の当て推量から始めて収束するまで反復計算する方法\n",
    "2. モンテカルロ・シミュレーションによる方法"
   ]
  },
  {
   "cell_type": "markdown",
   "metadata": {
    "slideshow": {
     "slide_type": "subslide"
    }
   },
   "source": [
    "### 分布計算の反復による定常分布の導出\n",
    "\n",
    "- $N_{s}=N_{a} \\times N_{l}$とし、個人の状態変数$(a,l)$空間における分布を$N_{s} \\times 1$のベクトル$\\pi$で表す\n",
    "\n",
    "- 政策関数$a'=g(a,l)$および労働生産性の遷移確率$p_{ij}^{l}$を用いて、2状態変数の推移確率行列$P$を求める"
   ]
  },
  {
   "cell_type": "markdown",
   "metadata": {
    "slideshow": {
     "slide_type": "subslide"
    }
   },
   "source": [
    "[Pについて図を用いて説明]"
   ]
  },
  {
   "cell_type": "markdown",
   "metadata": {
    "slideshow": {
     "slide_type": "subslide"
    }
   },
   "source": [
    "- 選択変数が離散の場合: 政策関数$a_{l}=g(a_{k},l_{i})$から、次期の状態変数が$(a_{l},l_{j})$になる確率は$p_{ij}^{l}$である\n",
    "\n",
    "\n",
    "- 選択変数が連続の場合: 政策関数$a'=g(a_{k},l_{i})$から、$a' \\in [a_{l},a_{l+1}]$であるとき、\n",
    "  - 次期の状態変数が$(a_{l},l_{j})$になる確率は$(1-w)p_{ij}^{l}$\n",
    "  - 次期の状態変数が$(a_{l+1},l_{j})$になる確率は$wp_{ij}^{l}$\n",
    "  \n",
    "ここで、$w=\\frac{a'-a_{l}}{a_{l+1}-a_{l}}$"
   ]
  },
  {
   "cell_type": "markdown",
   "metadata": {
    "slideshow": {
     "slide_type": "subslide"
    }
   },
   "source": [
    "- $t$期の分布を$\\pi_{t}$とすると、その遷移式は以下のように表される\n",
    "$$\n",
    "  \\pi'_{t+1} = \\pi'_{t} P\n",
    "$$\n",
    "\n",
    "- 定常状態においては、\n",
    "\\begin{align*}\n",
    "  & \\bar{\\pi}' = \\bar{\\pi}' P \\\\ \n",
    "  \\Leftrightarrow & \\bar{\\pi}'(I-P) = 0 \\\\ \n",
    "  \\Leftrightarrow & (I-P')\\bar{\\pi} = 0 \n",
    "\\end{align*}\n",
    "\n",
    "となることから、$P'$について固有値1に相当する固有ベクトルを求めればよい"
   ]
  },
  {
   "cell_type": "markdown",
   "metadata": {
    "slideshow": {
     "slide_type": "subslide"
    }
   },
   "source": [
    "- 脱出することのない吸収状態(absorbing state)がない場合には、定常分布は単一であることを示すことができる(Ljungvist and Sargent, 2018)\n",
    "\n",
    "- VFIにおいてもそうであったように、どのような当て推量から始めても反復を繰り返せば単一の分布に収束する"
   ]
  },
  {
   "cell_type": "markdown",
   "metadata": {
    "slideshow": {
     "slide_type": "subslide"
    }
   },
   "source": [
    "- アルゴリズム\n",
    "\n",
    "\n",
    "1. 初期セットアップ: 政策関数$a'=g(a,l)$および労働生産性の遷移確率$p_{ij}^{l}$から、推移確率行列$P$を求める\n",
    "\n",
    "2. 収束の基準になるパラメータ$\\varepsilon$を定める\n",
    "\n",
    "3. 状態変数空間における分布$\\pi_{0}$を当て推量する\n",
    "\n",
    "4. 推移確率行列$P$に基づき、$\\pi'_{1} = \\pi'_{0} P$を計算する\n",
    "\n",
    "5. $\\|\\pi_{1}-\\pi_{0}\\|<\\varepsilon$であればストップ。そうでなければ$\\pi_{0}=\\pi_{1}$として、ステップ4を繰り返す"
   ]
  },
  {
   "cell_type": "markdown",
   "metadata": {
    "slideshow": {
     "slide_type": "subslide"
    }
   },
   "source": [
    "### モンテカルロ・シミュレーションによる定常分布の導出\n",
    "\n",
    "- ある一定数の個人の状態変数の推移をモンテカルロ・シミュレーションによって計算する\n",
    "\n",
    "- この場合も、推移確率行列に関する上記の条件が満たされればいかなる初期分布からスタートしても、単一の分布に収束する\n",
    "\n",
    "- 十分なサンプルサイズ（例えば$N=5000$）でシミュレーションを行うと、やがて初期値の影響はなくなり、定常分布からサンプルされるようになる\n",
    "  - あるいは$N=1$にして、非常に長いシミュレーションを行い、時系列データをクロスセクションの分布とすることもできる"
   ]
  },
  {
   "cell_type": "markdown",
   "metadata": {
    "slideshow": {
     "slide_type": "skip"
    }
   },
   "source": [
    "- Aiyagari(1994)は四半世紀も昔に書かれた論文で、現在に至るまであらゆる方向での拡張が行われているが、個人の直面するリスクとマクロ経済との関連を考えるうえで今も重要な示唆を与える\n",
    "\n",
    "- 不完備市場においては、リスクのない完備市場に比べると予備的動機から貯蓄が増え資本が過剰になるため、政策のツールによって個人の貯蓄意欲に手を加えることで貯蓄水準を完備市場に近づけられる\n",
    "  - Aiyagari(1995)は、最適な資本課税について、それまでの定説であるゼロが最適（Chamley(1986)およびJudd(1985)）という結果が不完備市場を考えることで覆ることを示した\n",
    "  - Aiyagari and McGrattan(1998)は、最適な政府債務残高は米国において総生産の3分の2程度であることを示している\n",
    "\n"
   ]
  },
  {
   "cell_type": "markdown",
   "metadata": {
    "slideshow": {
     "slide_type": "slide"
    }
   },
   "source": [
    "## 移行過程の計算\n",
    "\n",
    "- （重複世代モデルと同様に、）マクロ的な経済環境の変動による影響を分析する場合、移行過程(transition dynamics)を計算する必要がある\n",
    "\n",
    "\n",
    "- 例えば、将来のTFPの上昇により、金利も変化するとしよう\n",
    "\n",
    "\n",
    "- このとき、現在から将来にかけての消費や貯蓄のパスはどう変化するだろうか"
   ]
  },
  {
   "cell_type": "markdown",
   "metadata": {
    "slideshow": {
     "slide_type": "subslide"
    }
   },
   "source": [
    "- ここでは、完全予見(perfect foresight)を仮定し、将来のTFPの上昇はあらかじめ分かっているものとする\n",
    "  - TFPに確率的要素のある場合は、例えばKrusell-Smith(1998)の方法を用いてモデルを解く必要がある\n",
    "\n",
    "\n",
    "- すなわち、以下の生産関数を考える\n",
    "\n",
    "$$\n",
    "  Y_{t} = Z_{t}F(K_{t},L_{t})\n",
    "$$\n",
    "\n",
    "ここで、$Z_{t}$は時間を通じて（外生的に）変動する"
   ]
  },
  {
   "cell_type": "markdown",
   "metadata": {
    "slideshow": {
     "slide_type": "subslide"
    }
   },
   "source": [
    "- このとき、賃金$w_{t}$や金利$r_{t}$は時間に依存するため、家計の価値関数や政策関数、および家計の資産と生産性の分布についても、時間$t$の関数になる\n",
    "\n",
    "$$\n",
    "  V_{t}(a,l), \\quad g_{t}(a,l), \\quad m_{t}(a,l)\n",
    "$$"
   ]
  },
  {
   "cell_type": "markdown",
   "metadata": {
    "slideshow": {
     "slide_type": "subslide"
    }
   },
   "source": [
    "- 移行過程の計算は大きくわけて2つのステップからなる\n",
    "\n",
    "\n",
    "1. まず、初期定常状態および最終定常状態における均衡を計算する\n",
    "\n",
    "\n",
    "2. 次に、この2つの定常状態をそれぞれスタート地点およびゴール地点として、2つの時点をつなぐ移行経路を導出する\n",
    "  - 計算期間については、すべての変数が最終定常状態へとスムーズに収束するのに十分な長さが必要となる"
   ]
  },
  {
   "cell_type": "markdown",
   "metadata": {
    "slideshow": {
     "slide_type": "subslide"
    }
   },
   "source": [
    "- 移行経路の計算においては、最終期間からの後ろ向き帰納法を用いる\n",
    "\n",
    "- 移行過程の最終期である$T$期における価値関数はすでにステップ1で計算しているため、ここを起点に時間をさかのぼって計算していく。すなわち、$r_{t},w_{t}$を所与とすると、\n",
    "\n",
    "$$\n",
    "  V_{t}(a,l_{i}) = \\max_{c,a'}\\left\\{ u(c) + \\beta \\sum_{j}p_{ij}^{l}V_{t+1}(a',l_{j}) \\right\\}\n",
    "$$\n",
    "subject to\n",
    "\\begin{align*}\n",
    "  c + a' &= (1+r_{t})a + w_{t}l_{i} \\\\\n",
    "  a' &\\geq -b\n",
    "\\end{align*}\n",
    "\n",
    "を$t=T-1,T-2,...,3,2,1$について計算する。これにより各期における政策関数$g_{t}(a,l)$が得られる"
   ]
  },
  {
   "cell_type": "markdown",
   "metadata": {
    "slideshow": {
     "slide_type": "subslide"
    }
   },
   "source": [
    "- 政策関数$a'=g_{t}(a,l)$および労働生産性の遷移確率$p_{ij}^{l}$から、推移確率行列$P_{t}$を求める\n",
    "\n",
    "- 移行過程の初期における分布$\\pi_{0}$を所与として、各期における分布\n",
    "\n",
    "$$\n",
    "  \\pi'_{t+1} = \\pi'_{t} P_{t}\n",
    "$$\n",
    "\n",
    "を$t=1,2,...,T-1$について計算する\n",
    "\n",
    "- この過程で、各期における総資本供給$A_{t} = \\sum_{i}\\int a m_{t}(a,l_{i})da$も求めることができる"
   ]
  },
  {
   "cell_type": "markdown",
   "metadata": {
    "slideshow": {
     "slide_type": "subslide"
    }
   },
   "source": [
    "- ここで$\\pi_{t}$は、$a$をグリッドに区切ったときの分布関数$m_{t}(a_{k},l_{i})$の値を列ベクトルにまとめたもの\n",
    "\n",
    "\n",
    "- たとえば、$N_{a}=N_{l}=2$のとき、$\\pi_{t}$の$i$番目の要素を$\\pi_{t}(i), i=1,2,3,4$とすると、\n",
    "\n",
    "\\begin{align*}\n",
    "  \\pi_{t}(1) &= m_{t}(a_{1},l_{1}) \\\\ \n",
    "  \\pi_{t}(2) &= m_{t}(a_{1},l_{2}) \\\\ \n",
    "  \\pi_{t}(3) &= m_{t}(a_{2},l_{1}) \\\\ \n",
    "  \\pi_{t}(4) &= m_{t}(a_{2},l_{2})\n",
    "\\end{align*}"
   ]
  },
  {
   "cell_type": "markdown",
   "metadata": {
    "slideshow": {
     "slide_type": "subslide"
    }
   },
   "source": [
    "アルゴリズム\n",
    "\n",
    "1. 初期定常状態および最終定常状態を求める\n",
    "\n",
    "2. 移行過程の計算における収束の基準となるパラメータ$\\varepsilon$を定める\n",
    "\n",
    "3. 移行過程における各期の総資本$\\{K_{t}\\}_{t=1}^{T}$を当て推量する。$\\{K_{t}\\}_{t=1}^{T}$に基づき、均衡条件から$\\{r_{t},w_{t}\\}_{t=1}^{T}$を計算する"
   ]
  },
  {
   "cell_type": "markdown",
   "metadata": {
    "slideshow": {
     "slide_type": "subslide"
    }
   },
   "source": [
    "4. 各期の政策関数を後ろ向き帰納法により求める\n",
    "  \n",
    "  a. 最終$T$期における個人の最適化問題を解く。ここで、最終定常状態の価値関数$V(a,l)$を「次期」の価値関数として計算を行う。$T$期の価値関数$V_{T}(a,l)$および政策関数$a'=g_{T}(a,l)$を導出、保存する\n",
    "  \n",
    "  b. $V_{T}(a,l)$を「次期」の価値関数として、$t=T-1$期の最適化問題を解き、$V_{T-1}(a,l)$および$a'=g_{T-1}(a,l)$を導出、保存する\n",
    "  \n",
    "  c. $t=T-2,T-3,\\cdots,3,2,1$と順に計算を行い、一連の政策関数$\\{g_{t}(a,l)\\}_{t=1}^{T}$を保存する\n",
    "  \n",
    "5. 初期定常状態における分布を$t=1$期初の分布とし、ステップ4で計算された政策関数をもとに一連の分布$\\{m_{t}(a,l)\\}_{t=1}^{T}$を計算する\n",
    "\n",
    "6. ステップ5で計算した分布をもとに、各期における総資産$\\{A_{t}\\}_{t=1}^{T}$を計算する。$\\max_{t}|K_{t}-A_{t}|<\\varepsilon$であればストップ、そうでなければ$\\{K_{t}\\}_{t=1}^{T}$を調整してステップ3-6を繰り返す"
   ]
  }
 ],
 "metadata": {
  "celltoolbar": "Slideshow",
  "kernelspec": {
   "display_name": "Matlab",
   "language": "matlab",
   "name": "matlab"
  },
  "language_info": {
   "codemirror_mode": "octave",
   "file_extension": ".m",
   "help_links": [
    {
     "text": "MetaKernel Magics",
     "url": "https://metakernel.readthedocs.io/en/latest/source/README.html"
    }
   ],
   "mimetype": "text/x-octave",
   "name": "matlab",
   "version": "0.16.11"
  }
 },
 "nbformat": 4,
 "nbformat_minor": 4
}
