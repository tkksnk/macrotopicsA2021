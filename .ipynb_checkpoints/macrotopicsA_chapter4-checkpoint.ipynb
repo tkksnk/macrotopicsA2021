{
 "cells": [
  {
   "cell_type": "markdown",
   "metadata": {
    "slideshow": {
     "slide_type": "slide"
    }
   },
   "source": [
    "<div style=\"text-align: center;\">\n",
    "# マクロ経済特論A\n",
    "<div style=\"text-align: center;\">\n",
    "第4回：「オイラー方程式と多項式近似」\n",
    "<br>\n",
    "<br>\n",
    "<div style=\"text-align: center;\">    \n",
    "2020年11月\n",
    "<div style=\"text-align: center;\">   \n",
    "一橋大学　砂川武貴"
   ]
  },
  {
   "cell_type": "markdown",
   "metadata": {
    "slideshow": {
     "slide_type": "slide"
    }
   },
   "source": [
    "# イントロダクション\n",
    "\n",
    "- 連載第3回では、動的計画法(dynamic programming)を用いて新古典派成長モデルを数値的に解く方法を示した\n",
    "\n",
    "\n",
    "- 社会計画者（ロビンソン・クルーソー）の最適化問題では、ベルマン方程式を価値関数について解くことで、最適な消費や貯蓄の経路を求めることができた\n",
    "\n",
    "\n",
    "- この問題は社会計画者問題(Social Planner's problem)とも呼ばれる：無人島に住むロビンソン・クルーソーは、消費や貯蓄と同時に生産を行っていた"
   ]
  },
  {
   "cell_type": "markdown",
   "metadata": {
    "slideshow": {
     "slide_type": "subslide"
    }
   },
   "source": [
    "- しかし、無人島にロビンソン・クルーソーのほかに、彼に代わって生産を行う別の個人がいるとすると、もともとの問題を分権経済(decentralized economy)における問題として書き換えることができる\n",
    "\n",
    "\n",
    "- 厚生経済学の第二基本定理(second fundation theorem of welfare economics)が成り立つ場合、分権経済における配分(allocation)と社会計画者問題における配分は一致する"
   ]
  },
  {
   "cell_type": "markdown",
   "metadata": {
    "slideshow": {
     "slide_type": "subslide"
    }
   },
   "source": [
    "- ところが、厚生経済学の第二基本定理は、分権経済において価格に歪みをもたらす税がある場合は成り立たない。また、（ニューケインジアン・モデルのような）価格の硬直性により相対価格に歪みがある場合も、分権経済における配分は、一般には、社会計画者問題における配分と一致しない\n",
    "\n",
    "\n",
    "- このような場合には、社会計画者問題の代わりに、分権経済の問題を考える必要がある\n",
    "\n",
    "\n",
    "- このときに有用なのが、今回説明するオイラー方程式(Euler equation)を用いたアプローチであり、時間反復法(time iteration method)と呼ばれる"
   ]
  },
  {
   "cell_type": "markdown",
   "metadata": {
    "slideshow": {
     "slide_type": "subslide"
    }
   },
   "source": [
    "- 線形補間やスプライン補間は、いずれも状態空間を分割するグリッドの間を異なる関数で近似する\n",
    "\n",
    "\n",
    "- 今回説明する多項式を用いた補間は、状態空間全体を一つの関数で近似する\n",
    "\n",
    "\n",
    "- 同じ問題に異なる方法を適用して求めた解の比較を行い、理解をより深める"
   ]
  },
  {
   "cell_type": "markdown",
   "metadata": {
    "slideshow": {
     "slide_type": "slide"
    }
   },
   "source": [
    "# 分権経済と時間反復法\n",
    "## 分権経済における無限期間モデル\n",
    "\n",
    "- 前回扱った、無限期間モデルにおける社会計画者の最適化問題は以下の通り。すなわち、ロビンソン・クルーソーは無限期間の消費から得られる効用の割引現在価値を最大化するように、消費と貯蓄を選択する\n",
    "\n",
    "$$\n",
    "  \\max_{\\{c_{t},k_{t+1}\\}_{t=0}^{\\infty}} \\sum_{t=0}^{\\infty} \\beta^{t} u(c_{t})\n",
    "$$\n",
    "\n",
    "subject to\n",
    "\n",
    "$$\n",
    "  c_{t} + k_{t+1} \\leq f(k_{t}), k_{0} \\text{ given.}\n",
    "$$"
   ]
  },
  {
   "cell_type": "markdown",
   "metadata": {
    "slideshow": {
     "slide_type": "subslide"
    }
   },
   "source": [
    "- ここで、$c_{t}$は$t$期における消費、$k_{t}$は$t$期初の資本である\n",
    "\n",
    "\n",
    "- 効用関数$u(c_{t})$、生産関数$f(k_{t})$はそれぞれ標準的な仮定（$u'(c_{t})>0$および$u''(c_{t})<0$、$f'(k_{t})>0$および$f''(k_{t})<0$）を満たす"
   ]
  },
  {
   "cell_type": "markdown",
   "metadata": {
    "slideshow": {
     "slide_type": "subslide"
    }
   },
   "source": [
    "- ここでは、簡単化のために、資本の減耗率は$\\delta=1$とする。前回示したように、この場合はモデルの解析的な解が存在する\n",
    "\n",
    "\n",
    "- 復習：$u(c)=\\ln c, f(k)=k^{\\alpha}, \\delta=1$と特定化した場合、次のような解析的解が存在する\n",
    "\n",
    "\\begin{align*}\n",
    "  V(k) &= A + B\\ln k, \\\\\n",
    "  A &= (1-\\beta)^{-1}\\big[\\ln(1-\\alpha\\beta) + \\frac{\\alpha\\beta}{1-\\alpha\\beta}\\ln\\alpha\\beta\\big], \\quad B = \\frac{\\alpha}{1-\\alpha\\beta}, \\\\\n",
    "  k' &= \\alpha\\beta k^{\\alpha}\n",
    "\\end{align*}"
   ]
  },
  {
   "cell_type": "markdown",
   "metadata": {
    "slideshow": {
     "slide_type": "subslide"
    }
   },
   "source": [
    "- ラグランジュ未定乗数法を用いると、動的ラグランジュアン(dynamic Lagrangean)は以下のように書くことができる\n",
    "\n",
    "$$\n",
    "  \\mathcal{L}_{0} \\equiv \\max_{\\{c_{t},k_{t+1}\\}_{t=0}^{\\infty}} \\sum_{t=0}^{\\infty} \\beta^{t} \\big\\{u(c_{t}) + \\lambda_{t}\\big(f(k_{t})-k_{t+1}-c_{t}\\big)\\big\\}\n",
    "$$\n",
    "\n",
    "$\\lambda_{t}$はラグランジュ乗数(Lagrange multiplier)と呼ばれる"
   ]
  },
  {
   "cell_type": "markdown",
   "metadata": {
    "slideshow": {
     "slide_type": "subslide"
    }
   },
   "source": [
    "- $(c_{t},k_{t+1},\\lambda_{t})$のそれぞれについて一階条件を求めると\n",
    "\n",
    "\\begin{align*}\n",
    "  \\frac{\\mathcal{L}_{0}}{c_{t}} &= u'(c_{t}) - \\lambda_{t} = 0 \\\\\n",
    "  \\frac{\\mathcal{L}_{0}}{k_{t+1}} &= -\\lambda_{t}+\\beta\\lambda_{t+1}f'(k_{t+1}) = 0 \\\\\n",
    "  \\frac{\\mathcal{L}_{0}}{\\lambda_{t}} &= f(k_{t})-k_{t+1}-c_{t} = 0\n",
    "\\end{align*}"
   ]
  },
  {
   "cell_type": "markdown",
   "metadata": {
    "slideshow": {
     "slide_type": "subslide"
    }
   },
   "source": [
    "- 最初の2つの式をまとめると\n",
    "\n",
    "$$\n",
    "  u'(c_{t}) = \\beta u'(c_{t+1})f'(k_{t+1})\n",
    "$$"
   ]
  },
  {
   "cell_type": "markdown",
   "metadata": {
    "slideshow": {
     "slide_type": "fragment"
    }
   },
   "source": [
    "- このオイラー方程式は、均衡条件とも呼ばれる、解の必要条件である。すなわち、最適化問題の解を$c_{t}=h(k_{t})$として、予算制約式$k_{t+1}=f(k_{t})-c_{t}$を用いると、関数$h(k_{t})$は以下の式を満たす\n",
    "\n",
    "\\begin{align*}\n",
    "  u'(c_{t}) &= \\beta u'(c_{t+1})f'(k_{t+1}) \\\\\n",
    "  \\Leftrightarrow u'(h(k_{t})) &= \\beta u'(h(k_{t+1}))f'(k_{t+1}) \\\\\n",
    "  &= \\beta u'(h(f(k_{t})-h(k_{t})))f'(f(k_{t})-h(k_{t}))\n",
    "\\end{align*}\n",
    "\n",
    "- したがって、この式を満たすような未知の関数$h(k_{t})$を求めればよいことになる"
   ]
  },
  {
   "cell_type": "markdown",
   "metadata": {
    "slideshow": {
     "slide_type": "subslide"
    }
   },
   "source": [
    "### 分権経済\n",
    "\n",
    "- 無人島にもう一人いて、各期$t=0,1,2,\\dots$において、ロビンソン・クルーソーから土地と種($k_{t}$)を価格$r_{t}$で借りて作物を作るとしよう\n",
    "\n",
    "\n",
    "- 利潤を$\\pi_{t}$とすると、この個人の利潤最大化問題は以下のように書ける\n",
    "\n",
    "$$\n",
    "  \\pi_{t} = \\max_{k_{t}}f(k_{t})-r_{t}k_{t}\n",
    "$$\n",
    "\n",
    "- この問題の最適化条件は、端点解の場合を除くと、$r_{t}=f'(k_{t})$となる"
   ]
  },
  {
   "cell_type": "markdown",
   "metadata": {
    "slideshow": {
     "slide_type": "subslide"
    }
   },
   "source": [
    "- 一方で、ロビンソン・クルーソーは、生産をする代わりに、地代の支払いを受けて作物を購入するとしよう。すなわち、以下の問題を解く\n",
    "\n",
    "$$\n",
    "  \\max_{\\{c_{t},k_{t+1}\\}_{t=0}^{\\infty}} \\sum_{t=0}^{\\infty} \\beta^{t} u(c_{t})\n",
    "$$\n",
    "\n",
    "subject to\n",
    "\n",
    "$$\n",
    "  c_{t} + k_{t+1} \\leq r_{t}k_{t} + \\pi_{t}, k_{0} \\text{ given.}\n",
    "$$"
   ]
  },
  {
   "cell_type": "markdown",
   "metadata": {
    "slideshow": {
     "slide_type": "subslide"
    }
   },
   "source": [
    "- この問題を、同じように動的ラグランジュアンを用いて解くと\n",
    "\n",
    "$$\n",
    "  \\mathcal{L}_{0} \\equiv \\max_{\\{c_{t},k_{t+1}\\}_{t=0}^{\\infty}} \\sum_{t=0}^{\\infty} \\beta^{t} \\big\\{u(c_{t}) + \\lambda_{t}\\big(r_{t}k_{t}+\\pi_{t}-k_{t+1}-c_{t}\\big)\\big\\}\n",
    "$$"
   ]
  },
  {
   "cell_type": "markdown",
   "metadata": {
    "slideshow": {
     "slide_type": "fragment"
    }
   },
   "source": [
    "- $(c_{t},k_{t+1},\\lambda_{t})$のそれぞれについて一階条件を求めると\n",
    "\n",
    "\\begin{align*}\n",
    "  \\frac{\\mathcal{L}_{0}}{c_{t}} &= u'(c_{t}) - \\lambda_{t} = 0 \\\\\n",
    "  \\frac{\\mathcal{L}_{0}}{k_{t+1}} &= -\\lambda_{t}+\\beta\\lambda_{t+1}r_{t+1} = 0 \\\\\n",
    "  \\frac{\\mathcal{L}_{0}}{\\lambda_{t}} &= r_{t}k_{t}+\\pi_{t}-k_{t+1}-c_{t} = 0\n",
    "\\end{align*}"
   ]
  },
  {
   "cell_type": "markdown",
   "metadata": {
    "slideshow": {
     "slide_type": "subslide"
    }
   },
   "source": [
    "- 最初の2つの式をまとめると\n",
    "\n",
    "\\begin{align*}\n",
    "  u'(c_{t}) &= \\beta u'(c_{t+1})r_{t+1} \\\\\n",
    "  &= \\beta u'(c_{t+1})f'(k_{t+1})\n",
    "\\end{align*}\n"
   ]
  },
  {
   "cell_type": "markdown",
   "metadata": {
    "slideshow": {
     "slide_type": "fragment"
    }
   },
   "source": [
    "- また、予算制約式も（$\\pi_{t} = f(k_{t})-r_{t}k_{t}$に注意して）整理してまとめると\n",
    "\n",
    "\\begin{align*}\n",
    "  c_{t} + k_{t+1} &= r_{t}k_{t} + \\pi_{t} \\\\\n",
    "  &= f(k_{t})\n",
    "\\end{align*}\n",
    "\n",
    "- これらの均衡条件は、社会計画者問題の場合と同じである"
   ]
  },
  {
   "cell_type": "markdown",
   "metadata": {
    "slideshow": {
     "slide_type": "subslide"
    }
   },
   "source": [
    "- ここで、さらにモデルを拡張して、ロビンソン・クルーソーは地代による所得の一部を税率$\\tau$で政府に税金として納めるとする。また政府は税収を元に移転$TR_{t}=\\tau r_{t}k_{t}$を行う。このとき、消費者の動学最適化問題は\n",
    "\n",
    "$$\n",
    "  \\max_{\\{c_{t},k_{t+1}\\}_{t=0}^{\\infty}} \\sum_{t=0}^{\\infty} \\beta^{t} u(c_{t})\n",
    "$$\n",
    "\n",
    "subject to\n",
    "\n",
    "$$\n",
    "  c_{t} + k_{t+1} \\leq (1-\\tau)r_{t}k_{t} + \\pi_{t} + TR_{t}, k_{0} \\text{ given.}\n",
    "$$"
   ]
  },
  {
   "cell_type": "markdown",
   "metadata": {
    "slideshow": {
     "slide_type": "subslide"
    }
   },
   "source": [
    "- このとき、動的ラグランジュアンを用いた解の必要条件、すなわちオイラー方程式は\n",
    "\n",
    "\\begin{align*}\n",
    "  u'(c_{t}) &= \\beta u'(c_{t+1})(1-\\tau)r_{t+1} \\\\\n",
    "  &= \\beta u'(c_{t+1})(1-\\tau)f'(k_{t+1})\n",
    "\\end{align*}\n",
    "\n",
    "となり、社会計画者問題の場合と異なる。したがって、このオイラー方程式を用いて求めた最適化問題の解$c_{t}=h(k_{t})$あるいは消費と資本の流列$\\{c_{t},k_{t+1}\\}_{t=0}^{\\infty}$も異なることになる\n",
    "\n",
    "- このようなケースでは、社会計画者問題の代わりに、別のアプローチが必要になる"
   ]
  },
  {
   "cell_type": "markdown",
   "metadata": {
    "slideshow": {
     "slide_type": "slide"
    }
   },
   "source": [
    "## 時間反復法\n",
    "\n",
    "- 以下では、簡単化と前回との比較のため、$\\delta=1, \\tau=0$のケースを考える\n",
    "\n",
    "\n",
    "- 前回同様、時間をあらわすサブスクリプト$t+1$の代わりに、次期の変数を$k',c'$などと表記する"
   ]
  },
  {
   "cell_type": "markdown",
   "metadata": {
    "slideshow": {
     "slide_type": "fragment"
    }
   },
   "source": [
    "- 次期の政策関数$c'=h(k')$と今期の資源制約式$k'=f(k)-c$を代入することで、以下の式を得る\n",
    "\n",
    "\\begin{align*}\n",
    "  u'(c) &= \\beta u'(c')f'(k') \\\\\n",
    "  &= \\beta u'(h(k'))f'(k') \\\\\n",
    "  &= \\beta u'(h(f(k)-c))f'(f(k)-c)\n",
    "\\end{align*}\n",
    "\n",
    "オイラー方程式が与えられたとき、それを政策関数$c=h(k)$について解くための方法の一つが、時間反復法(time iteration, TI)と呼ばれる方法である"
   ]
  },
  {
   "cell_type": "markdown",
   "metadata": {
    "slideshow": {
     "slide_type": "subslide"
    }
   },
   "source": [
    "- 前回学んだ価値関数反復法(VFI)と同様に、TIは、政策関数の流列を作り最終的に収束した関数を解とする\n",
    "\n",
    "\n",
    "- すなわち、任意に政策関数$h^{(0)}(k)$を推測して、以下の式を$c$について解く\n",
    "\n",
    "$$\n",
    "  u'(c) = \\beta u'(h^{(0)}(f(k)-c))f'(f(k)-c)\n",
    "$$\n",
    "\n",
    "ここで求めた解を、$c=h^{(1)}(k)$とする\n"
   ]
  },
  {
   "cell_type": "markdown",
   "metadata": {
    "slideshow": {
     "slide_type": "subslide"
    }
   },
   "source": [
    "- その後、得られた$h^{(1)}(k)$を用いて、以下の式を$c=h^{(2)}(k)$について解く\n",
    "\n",
    "$$\n",
    "  u'(c) = \\beta u'(h^{(1)}(f(k)-c))f'(f(k)-c)\n",
    "$$\n",
    "\n",
    "- そして、関数の流列が収束するまで、つまり$h^{(n-1)}(k)$と$h^{(n)}(k)$が十分近くなるまで、計算を繰り返す"
   ]
  },
  {
   "cell_type": "markdown",
   "metadata": {
    "slideshow": {
     "slide_type": "subslide"
    }
   },
   "source": [
    "- これは、VFIにおいて、$V^{(n-1)}(k)$を所与としてベルマン方程式を解くことで$V^{(n)}(k)$を計算することとよく似ている\n",
    "\n",
    "\n",
    "- ここでは、ベルマン方程式の右辺における最大化問題を解く代わりに、オイラー方程式を満たすような$c$を求める求根問題(root-finding problem)を解くのである\n",
    "\n",
    "\n",
    "- またそのとき、グリッド上にない$h^{(n-1)}(k')$の値について近似する必要がある"
   ]
  },
  {
   "cell_type": "markdown",
   "metadata": {
    "slideshow": {
     "slide_type": "subslide"
    }
   },
   "source": [
    "## 時間反復法の数値計算\n",
    "\n",
    "- アルゴリズム\n",
    "\n",
    "\n",
    "1. グリッド生成：状態空間の評価点を$I=21$個のグリッドに区切る。また、グリッド上における政策関数$h^{(0)}(k^{i})$の初期値を当て推量(initial guess)する。VFIと異なり、政策関数の収束は必ずしも保証されていないため、初期値はより重要になる\n",
    "\n",
    "2. 収束の基準：収束の基準になるパラメータ$\\varepsilon=10^{-5}$を与える\n",
    "\n",
    "3. 近似・評価：$k^{i}$上にない価値関数の値については近似する必要がある。$h(k;\\mathbb{b})$をパラメータ$\\mathbb{b}$を使って近似した時の、$k$上での価値関数の値とする"
   ]
  },
  {
   "cell_type": "markdown",
   "metadata": {
    "slideshow": {
     "slide_type": "subslide"
    }
   },
   "source": [
    "4. 最適化：古い政策関数$h^{(n-1)}(k^{i})$を所与として、各$k^{i}$について、\n",
    "\n",
    "$$\n",
    "  u'(c) = \\beta u'(h^{(n-1)}(f(k^{i})-c))f'(f(k^{i})-c)\n",
    "$$\n",
    "\n",
    "を$c$について解く。オイラー方程式の解である$c$を探すためには、各言語の最適化関数を利用する。特にTIでは、ここをどう工夫するかで収束のスピードや安定性が変わってくる。このステップで新しい政策関数$h^{(n)}(k^{i})$を得る\n",
    "\n",
    "5. 全ての$k^{i}$について$\\|h^{(0)}(k^{i})-h^{(1)}(k^{i})\\|<\\varepsilon$であればストップ。そうでなければ、$h^{(1)}(k^{i})$を$h^{(0)}(k^{i})$に代入して、ステップ3-4を繰り返す"
   ]
  },
  {
   "cell_type": "markdown",
   "metadata": {
    "slideshow": {
     "slide_type": "subslide"
    }
   },
   "source": [
    "- VFIと異なり、TIによる繰り返し計算が真の政策関数に収束する保証はない\n",
    "\n",
    "\n",
    "- このため、TIによって計算した解は、それが適切な解であるかどうか、シミュレーションの結果や計算誤差によってよく吟味する必要がある"
   ]
  },
  {
   "cell_type": "markdown",
   "metadata": {
    "slideshow": {
     "slide_type": "fragment"
    }
   },
   "source": [
    "- 政策関数の初期値は、ここでは資本のグリッド上の値を用いている\n",
    "\n",
    "\n",
    "- 最適化には、MATLABであれば、ニュートン法をベースとする関数fsolveを用いる"
   ]
  },
  {
   "cell_type": "code",
   "execution_count": 1,
   "metadata": {
    "slideshow": {
     "slide_type": "subslide"
    }
   },
   "outputs": [
    {
     "name": "stderr",
     "output_type": "stream",
     "text": [
      "\u001b[1;31m'charmap' codec can't encode characters in position 34-55: character maps to <undefined>\n",
      "\u001b[0m"
     ]
    }
   ],
   "source": [
    "%%file EulerEq.m\n",
    "function  res = EulerEq(cons)\n",
    "% cを与えたときのオイラー方程式の残差を返す関数\n",
    "\n",
    "global beta gamma alpha delta capital cfcn0 kgrid\n",
    "\n",
    "wealth = capital.^alpha + (1.-delta).*capital;\n",
    "\n",
    "kprime = wealth - cons;\n",
    "% トリック: k'は正の値しか取らない\n",
    "kprime = max(kgrid(1),kprime);\n",
    "\n",
    "% 次期の政策関数を線形補間\n",
    "%cnext = interp1(m.kgrid,cfcn,kprime,'linear','extrap');\n",
    "% 次期の価値関数をスプライン補間\n",
    "cnext = interp1(kgrid,cfcn0,kprime,'spline');\n",
    "\n",
    "%% オイラー方程式\n",
    "res = (1/cons) - beta*(1/cnext)*(alpha*kprime.^(alpha-1) + (1.-delta));\n",
    " \n",
    "return"
   ]
  },
  {
   "cell_type": "code",
   "execution_count": 2,
   "metadata": {
    "slideshow": {
     "slide_type": "subslide"
    }
   },
   "outputs": [
    {
     "name": "stdout",
     "output_type": "stream",
     "text": [
      "\n"
     ]
    }
   ],
   "source": [
    "global beta gamma alpha delta capital cfcn0 kgrid\n",
    "\n",
    "%% *** カリブレーション ***\n",
    "beta  = 0.96; % 割引因子\n",
    "gamma = 1.0;  % 相対的危険回避度(異時点間の代替の弾力性の逆数)\n",
    "alpha = 0.4;  % 資本分配率\n",
    "delta = 1.00; % 固定資本減耗(delta=1.0のときは解析解が存在)\n",
    "\n",
    "% 定常状態の値\n",
    "ykss = (1/beta-1+delta)/alpha;\n",
    "kss = ykss^(1/(alpha-1));\n",
    "yss = ykss*kss;\n",
    "css = yss-delta*kss;\n",
    "\n",
    "% *** 離散化用のパラメータ ***\n",
    "nk   = 21;    % グリッドの数\n",
    "kmax =  0.5;  % 資本グリッドの最大値\n",
    "kmin =  0.05; % 資本グリッドの最小値"
   ]
  },
  {
   "cell_type": "code",
   "execution_count": 3,
   "metadata": {
    "slideshow": {
     "slide_type": "subslide"
    }
   },
   "outputs": [
    {
     "name": "stdout",
     "output_type": "stream",
     "text": [
      "\n"
     ]
    }
   ],
   "source": [
    "% *** 収束の基準 ***\n",
    "it = 1;          % ループ・カウンター\n",
    "maxit = 1000;    % 繰り返し計算の最大値\n",
    "tol  = 1.0e-005; % 許容誤差(STEP 2)\n",
    "%dif1 = 1;        % 価値関数の繰り返し誤差\n",
    "dif2 = 1.0;      % 政策関数の繰り返し誤差\n",
    "count = 1;\n",
    "\n",
    "%% STEP 1(a): グリッド生成\n",
    "kgrid = linspace(kmin, kmax, nk)';\n",
    "\n",
    "%% STEP 1(b): 政策関数の初期値を設定\n",
    "cfcn0 = kgrid;\n",
    "%cfcn0 = m.css/m.kss*m.kgrid; % m.nk=21のときは政策関数の形がおかしい???\n",
    "%cfcn0 = m.kgrid.^m.alpha - p_true;\n",
    "%cfcn0 = m.css*ones(nk,1);\n",
    "cfcn1 = zeros(nk,1);"
   ]
  },
  {
   "cell_type": "code",
   "execution_count": 4,
   "metadata": {
    "slideshow": {
     "slide_type": "subslide"
    }
   },
   "outputs": [
    {
     "name": "stderr",
     "output_type": "stream",
     "text": [
      "\u001b[1;31m\n",
      "  File C:\\Program Files\\MATLAB\\R2021b\\toolbox\\optim\\optim\\fsolve.m, line 260, in fsolve\n",
      "Execution of script EulerEq as a function is not supported:\n",
      "C:\\Users\\takek\\Dropbox\\teaching\\2021winter\\macrotopicsA2021\\EulerEq.m\n",
      "\n",
      "\u001b[0m"
     ]
    },
    {
     "ename": "Error",
     "evalue": -1,
     "output_type": "error",
     "traceback": "\n  File C:\\Program Files\\MATLAB\\R2021b\\toolbox\\optim\\optim\\fsolve.m, line 260, in fsolve\nExecution of script EulerEq as a function is not supported:\nC:\\Users\\takek\\Dropbox\\teaching\\2021winter\\macrotopicsA2021\\EulerEq.m\n"
    }
   ],
   "source": [
    "options = optimoptions('fsolve','Display','none'); % fsolveのオプション(最適化の結果を非表示にする)\n",
    "\n",
    "%% STEP 4: 政策関数を繰り返し計算\n",
    "while (it < maxit && dif2 > tol)\n",
    "\n",
    "    fprintf('iteration index: %i \\n', it);\n",
    "    fprintf('policy function iteration error: %e\\n', dif2);\n",
    "\n",
    "    for i = 1:nk\n",
    "\n",
    "        capital = kgrid(i);\n",
    "        wealth = capital.^alpha + (1.-delta).*capital;\n",
    "\n",
    "        % MATLABの最適化関数(fsolve)を使って各グリッド上の政策関数の値を探す\n",
    "        % 最適化の初期値は古い政策関数の値\n",
    "        cons = fsolve(@EulerEq,cfcn0(i,1),options);\n",
    "        % 最適化の初期値は定常状態の値: これでは解けない\n",
    "        % cons = fsolve(@EulerEq,css,options,m,capital,cfcn0);\n",
    "        cfcn1(i,1) = cons;\n",
    "        kprime = wealth-cons;\n",
    "        % グリッドごとに最適化の結果を確認\n",
    "        %disp([cons capital wealth kprime]);\n",
    "        %pause\n",
    "\n",
    "    end\n",
    "\n",
    "    % 繰り返し計算誤差を確認\n",
    "    dif2 = max(abs(cfcn1-cfcn0));\n",
    "\n",
    "    % 収束途中の繰り返し計算誤差を保存\n",
    "    dif(2,it) = dif2;\n",
    "\n",
    "    % 政策関数をアップデート\n",
    "    cfcn0 = cfcn1;\n",
    "\n",
    "    it = it + 1;\n",
    "\n",
    "end"
   ]
  },
  {
   "cell_type": "code",
   "execution_count": null,
   "metadata": {
    "slideshow": {
     "slide_type": "subslide"
    }
   },
   "outputs": [],
   "source": [
    "%% 最終的な政策関数が得られてから貯蓄関数を計算\n",
    "pfcn0 = kgrid.^alpha + (1-delta)*kgrid - cfcn0;\n",
    "\n",
    "%% 解析的解\n",
    "p_true = beta*alpha*(kgrid.^alpha);"
   ]
  },
  {
   "cell_type": "code",
   "execution_count": null,
   "metadata": {
    "slideshow": {
     "slide_type": "fragment"
    }
   },
   "outputs": [],
   "source": [
    "%%\n",
    "figure;\n",
    "plot(kgrid, pfcn0, '-', 'Color', 'blue', 'LineWidth', 3);\n",
    "hold on;\n",
    "plot(kgrid, p_true, '--', 'Color', 'red', 'LineWidth', 3);\n",
    "plot(kgrid, kgrid, ':', 'Color', 'black', 'LineWidth', 2);\n",
    "xlabel('今期の資本保有量：k', 'FontSize', 16);\n",
    "ylabel(\"次期の資本保有量：k'\", 'FontSize', 16);\n",
    "xlim([0 kmax]);\n",
    "%xticks([0.05 0.1 0.2 0.3 0.4 0.5]);\n",
    "%xticklabels([0.05 0.1 0.2 0.3 0.4 0.5]);\n",
    "legend('近似解', '解析的解', '45度線', 'Location', 'NorthWest');\n",
    "grid on;\n",
    "set(gca,'FontSize', 16);"
   ]
  },
  {
   "cell_type": "markdown",
   "metadata": {
    "slideshow": {
     "slide_type": "subslide"
    }
   },
   "source": [
    "- VFIと同様、高い精度で真の関数を近似できている\n",
    "\n",
    "- 政策関数を収束基準としていることから、収束のスピードはVFIと比べて速い\n",
    "\n",
    "- もっとも、VFIにおいても政策関数を収束基準とすることで収束を速めることはできる"
   ]
  },
  {
   "cell_type": "markdown",
   "metadata": {
    "slideshow": {
     "slide_type": "subslide"
    }
   },
   "source": [
    "- オイラー方程式における計算誤差は、以下の式で得られる\n",
    "\n",
    "$$\n",
    "  \\frac{\\beta u'\\big([g(k^{i})]^{\\alpha}-g(g(k^{i}))\\big)f'(g(k^{i}))}{u'\\big([k^{i}]^{\\alpha}-g(k^{i})\\big)}-1\n",
    "$$\n",
    "\n",
    "ここで、$k'=g(k)=f(k)-h(k)$である\n",
    "\n",
    "- TIにおいては、この計算誤差が各グリッドでゼロとなるように$c$を求めているため、計算誤差は繰り返し計算誤差とほぼ一致する\n",
    "\n",
    "- ここでは、グリッドをさらに細かく取り、TIで使用したグリッドの間でも計算誤差をみることにする"
   ]
  },
  {
   "cell_type": "code",
   "execution_count": null,
   "metadata": {
    "slideshow": {
     "slide_type": "subslide"
    }
   },
   "outputs": [],
   "source": [
    "%% オイラー方程式から誤差を測定\n",
    "% 元のグリッドではオイラー方程式の誤差はゼロになるため、グリッドを細かくとる\n",
    "kgrid_err = linspace(kmin, kmax, (nk-1)*10+1)';\n",
    "%kgrid_err = kgrid; %linspace(kmin, kmax, (nk-1)*10+1)';\n",
    "cons = interp1(kgrid,cfcn0(:,1),kgrid_err); % 線形補間\n",
    "LHS  = mu_CRRA(cons, gamma);\n",
    "\n",
    "kp   = kgrid_err.^alpha + (1-delta)*kgrid_err - cons;\n",
    "cnext = interp1(kgrid, cfcn0(:,1), kp);\n",
    "rent = alpha.*kp.^(alpha-1.0) - delta;\n",
    "RHS  = beta.*(1.+rent).*mu_CRRA(cnext,gamma);\n",
    "\n",
    "err  = RHS./LHS-1.0;"
   ]
  },
  {
   "cell_type": "code",
   "execution_count": null,
   "metadata": {
    "slideshow": {
     "slide_type": "subslide"
    }
   },
   "outputs": [],
   "source": [
    "err2 = csvread(\"err_ddp.csv\");\n",
    "\n",
    "figure;\n",
    "plot(kgrid_err, abs(err), '-', 'Color', 'blue', 'LineWidth', 3);\n",
    "hold on;\n",
    "plot(kgrid_err, abs(err2), '--', 'Color', 'red', 'LineWidth', 3);\n",
    "xlabel('資本保有量：k', 'FontSize', 16);\n",
    "ylabel('オイラー方程式誤差(絶対値)', 'FontSize', 16);\n",
    "xlim([kmin kmax]);\n",
    "%xticks([0.05 0.1 0.2 0.3 0.4 0.5]);\n",
    "%xticklabels([0.05 0.1 0.2 0.3 0.4 0.5]);\n",
    "legend('TI', 'VFI', 'Location', 'NorthEast');\n",
    "grid on;\n",
    "set(gca,'FontSize', 16);"
   ]
  },
  {
   "cell_type": "markdown",
   "metadata": {
    "slideshow": {
     "slide_type": "slide"
    }
   },
   "source": [
    "# 多項式近似\n",
    "\n",
    "- これまでは、次期の価値関数や政策関数を近似するのに、線形補間やスプライン補間を用いた\n",
    "\n",
    "- これらの補間は、いずれも状態空間を分割するグリッドの間を異なる関数で近似するが、今度は状態空間全体を一つの多項式(polynomial)で近似する"
   ]
  },
  {
   "cell_type": "markdown",
   "metadata": {
    "slideshow": {
     "slide_type": "subslide"
    }
   },
   "source": [
    "- いま、\n",
    "\n",
    "$$\n",
    "  y=g(x)=\\frac{1}{1+x^{2}}, x \\in [-5,5]\n",
    "$$\n",
    "\n",
    "が我々が知りたい真の関数であるとする\n",
    "\n",
    "- しかし、我々はその真の姿を知らず、11個の点の情報だけを持っているとしよう"
   ]
  },
  {
   "cell_type": "code",
   "execution_count": null,
   "metadata": {
    "slideshow": {
     "slide_type": "subslide"
    }
   },
   "outputs": [],
   "source": [
    "%%file f.m\n",
    "function f0 = f(x0)\n",
    "\n",
    "    nx = size(x0,1);\n",
    "    f0 = ones(nx,1)./(ones(nx,1)+25*x0.^2);"
   ]
  },
  {
   "cell_type": "code",
   "execution_count": null,
   "metadata": {
    "slideshow": {
     "slide_type": "fragment"
    }
   },
   "outputs": [],
   "source": [
    "%% データ点\n",
    "xmin = -1;\n",
    "xmax = 1;\n",
    "nxd = 11;\n",
    "xd = linspace(xmin, xmax, nxd)'; %collect(LinRange(xmin, xmax, nxd))\n",
    "yd = f(xd);\n",
    "\n",
    "%% 関数による値\n",
    "nx = 1001;\n",
    "x0 = linspace(xmin, xmax, nx)'; %collect(LinRange(xmin, xmax, nx))\n",
    "y0 = f(x0);"
   ]
  },
  {
   "cell_type": "code",
   "execution_count": null,
   "metadata": {
    "slideshow": {
     "slide_type": "subslide"
    }
   },
   "outputs": [],
   "source": [
    "%%\n",
    "figure;\n",
    "plot(x0,y0,'k-','LineWidth',1.5);\n",
    "hold on;\n",
    "plot(xd,yd,'bo','MarkerSize',12,'LineWidth',2.0);\n",
    "grid on;\n",
    "legend({'$\\frac{1}{1+x^2}$'},'Interpreter','latex');\n",
    "set(gca,'Fontsize',16);"
   ]
  },
  {
   "cell_type": "code",
   "execution_count": null,
   "metadata": {
    "slideshow": {
     "slide_type": "subslide"
    }
   },
   "outputs": [],
   "source": [
    "%% Matlab関数(interp1)を使った線形補間による近似\n",
    "x1 = linspace(xmin, xmax, nx)';\n",
    "y1 = interp1(xd,yd,x1,'linear','extrap');\n",
    "\n",
    "%% 通常の多項式による近似\n",
    "Xd = ones(nxd,nxd);\n",
    "X2 = ones(nx,nxd);\n",
    "x2 = x1;\n",
    "for i = 1:nxd-1\n",
    "    Xd(:,i+1) = xd.^i;\n",
    "    X2(:,i+1) = x2.^i;\n",
    "end\n",
    "\n",
    "b = (Xd'*Xd)\\(Xd'*yd);\n",
    "y2 = X2*b;"
   ]
  },
  {
   "cell_type": "markdown",
   "metadata": {
    "slideshow": {
     "slide_type": "subslide"
    }
   },
   "source": [
    "- この11個の点を線形補間を使って近似すると下図の太線のようになる\n",
    "\n",
    "- 点と点の間を直線で結んでいるため、点の上で屈折しており、微分不可能になっている"
   ]
  },
  {
   "cell_type": "code",
   "execution_count": null,
   "metadata": {
    "slideshow": {
     "slide_type": "fragment"
    }
   },
   "outputs": [],
   "source": [
    "%%\n",
    "figure;\n",
    "plot(x0,y0,'k-','LineWidth',1.5);\n",
    "hold on;\n",
    "plot(x1,y1,'-','Color','blue','LineWidth',2.0);\n",
    "plot(x2,y2,'--','Color','red','LineWidth',2.0);\n",
    "legend({'$\\frac{1}{1+x^2}$','線形近似','多項式近似'},'Interpreter','latex');\n",
    "grid on;\n",
    "set(gca,'Fontsize',16);"
   ]
  },
  {
   "cell_type": "markdown",
   "metadata": {
    "slideshow": {
     "slide_type": "subslide"
    }
   },
   "source": [
    "- 一方、次のような10次の多項式を用いて11個の点の間を補間する\n",
    "\n",
    "$$\n",
    "  g(x;\\mathbb{\\theta}) = \\theta_{0}+\\theta_{1}x+\\theta_{2}x^{2}+\\cdots+\\theta_{10}x^{10}\n",
    "$$\n",
    "\n",
    "ここで、11つの未知の係数に対して11個の点の情報を用いて係数の値を求めることができる\n",
    "\n",
    "- しかし、多重共線性(multicollinearity)などから、とくにグラフの両端において多項式の近似の精度はよくない"
   ]
  },
  {
   "cell_type": "markdown",
   "metadata": {
    "slideshow": {
     "slide_type": "subslide"
    }
   },
   "source": [
    "## チェビシェフ多項式\n",
    "\n",
    "- 通常の多項式の代わりによく用いられるのが、チェビシェフ多項式(Chebyshev polinomial)である\n",
    "\n",
    "$$\n",
    "  g(x;\\mathbb{\\theta}) = \\theta_{0}+\\theta_{1}T_{1}(x)+\\theta_{2}T_{2}(x)+\\cdots+\\theta_{N-1}T_{N-1}(x)\n",
    "$$\n",
    "\n",
    "$T_{i}(x):[-1,1]\\rightarrow[-1,1]$ for $i=1,2,...,N-1$は基底関数(basis function)と呼ばれる"
   ]
  },
  {
   "cell_type": "markdown",
   "metadata": {
    "slideshow": {
     "slide_type": "subslide"
    }
   },
   "source": [
    "- 基底関数は次のように再帰的に書ける\n",
    "\n",
    "\\begin{align*}\n",
    "  T_{0}(x) &= 1, \\\\\n",
    "  T_{1}(x) &= x, \\\\\n",
    "  T_{2}(x) &= 2x^{2}-1, \\\\\n",
    "  \\vdots & \\\\\n",
    "  T_{N-1}(x) &= 2xT_{N-2}(x)-T_{N-3}(x), \\\\\n",
    "\\end{align*}"
   ]
  },
  {
   "cell_type": "markdown",
   "metadata": {
    "slideshow": {
     "slide_type": "subslide"
    }
   },
   "source": [
    "- チェビシェフ多項式をデータにフィットさせてパラメータ$\\mathbb{\\theta}=[\\theta_{0},...,\\theta_{N-1}]$を求めるには、N個の評価点$x_{j},j=0,1,...,N-1$を用いる\n",
    "\n",
    "- 評価点には2種類ある\n",
    "\n",
    "チェビシェフゼロ点(Chebyshev zeros)：$T_{N-1}(x)=0$の解および$x_{0}=0$\n",
    "\n",
    "\\begin{align*}\n",
    "  x_{0} &= 0, \\\\\n",
    "  x_{j} &= \\cos\\big(\\frac{(2j-1)\\pi}{2(N-1)}\\big)\n",
    "\\end{align*}\n",
    "\n",
    "チェビシェフ極値点(Chebyshev extrema)：$|T_{N-1}(x)|=1$の解\n",
    "\n",
    "$$\n",
    "  x_{j} = \\cos\\big(\\frac{j\\pi}{N-1}\\big)\n",
    "$$"
   ]
  },
  {
   "cell_type": "code",
   "execution_count": null,
   "metadata": {
    "slideshow": {
     "slide_type": "skip"
    }
   },
   "outputs": [],
   "source": [
    "%%file polygrid.m\n",
    "function k = polygrid(kmin,kmax,N)\n",
    "\n",
    "    temp = linspace(0,N-1,N)'; %[0:N-1:1]'; % チェビシェフ極値点\n",
    "    x = -cos((pi/(N-1))*temp);\n",
    "%     temp = linspace(0,N-1,N)'; %[0:N-1:1]'; % チェビシェフゼロ点\n",
    "%     x = [0; -cos((pi/2/(N-1))*(2*temp - 1))];\n",
    "    \n",
    "    % xからkに変換\n",
    "    k = 0.5*(kmax-kmin)*(x+1) + kmin;"
   ]
  },
  {
   "cell_type": "code",
   "execution_count": null,
   "metadata": {
    "slideshow": {
     "slide_type": "skip"
    }
   },
   "outputs": [],
   "source": [
    "%%file polybas.m\n",
    "function T = polybas(kmin,kmax,Np,kgrid)\n",
    "\n",
    "    % Np: 多項式の次数-1\n",
    "    % Ng: グリッドの数\n",
    "    Ng = size(kgrid,1);\n",
    "    x = (2/(kmax-kmin))*(kgrid-kmin) - 1;\n",
    "    \n",
    "    % 基底関数の行列(NgxNp)を再帰的に求める\n",
    "    T = zeros(Ng,Np);\n",
    "    T0 = ones(Ng,1);\n",
    "    T1 = x;\n",
    "    T2 = 2*x.*T1 - T0;\n",
    "    T(:,1) = T1;\n",
    "    T(:,2) = T2;\n",
    "    \n",
    "    for i=3:Np-1\n",
    "        T(:,i) = 2*x.*T(:,i-1) - T(:,i-2);\n",
    "    end\n",
    "    \n",
    "    T = [T0 T(:,1:(Np-1))];"
   ]
  },
  {
   "cell_type": "markdown",
   "metadata": {
    "slideshow": {
     "slide_type": "subslide"
    }
   },
   "source": [
    "- 通常の多項式と異なり、チェビシェフ多項式は、関数の値が空間を満遍なく覆っていることがわかる"
   ]
  },
  {
   "cell_type": "code",
   "execution_count": null,
   "metadata": {},
   "outputs": [],
   "source": [
    "x = linspace(-1,1,101)';\n",
    "\n",
    "% % ordinary polynomial\n",
    "% figure;\n",
    "% plot(x,x.^2,'k-','LineWidth',1.0);\n",
    "% hold on;\n",
    "% plot(x,x.^4,'k--','LineWidth',1.0);\n",
    "% plot(x,x.^8,'k:','LineWidth',1.0);\n",
    "% legend('x^2','x^4','x^8');\n",
    "% axis square;\n",
    "% set(gca,'Fontsize',16);\n",
    "%saveas (gcf,'ordipoly.eps','epsc2');\n",
    "%print -depsc2 ordipoly.eps\n",
    "\n",
    "% Chebyshev polynomial\n",
    "T = polybas(-1,1,9,x);\n",
    "\n",
    "figure;\n",
    "plot(x,T(:,3),'k-','LineWidth',1.0);\n",
    "hold on;\n",
    "plot(x,T(:,5),'k--','LineWidth',1.0);\n",
    "plot(x,T(:,9),'k:','LineWidth',1.0);\n",
    "plot([-1 1],[0 0],'r-');\n",
    "legend('T_2(x)','T_4(x)','T_8(x)');\n",
    "axis square;\n",
    "set(gca,'Fontsize',16);\n",
    "%saveas (gcf,'chebpoly.eps','epsc2');"
   ]
  },
  {
   "cell_type": "markdown",
   "metadata": {
    "slideshow": {
     "slide_type": "subslide"
    }
   },
   "source": [
    "- 評価点$x_{j}$とその点における関数の値$g(x_{j})$がわかると、多項式$g(x_{j};\\mathbf{\\theta})$を関数の値にフィットさせることで、パラメータ$\\mathbf{\\theta}$が得られる\n",
    "\n",
    "$$\n",
    "  \\left[\\begin{array}{c} g(x_{0}) \\\\ g(x_{1}) \\\\ \\vdots \\\\ g(x_{N-1}) \\end{array}\\right]\n",
    "  = \\left[\\begin{array}{ccccc} 1 & T_{1}(x_{0}) & T_{2}(x_{0}) & \\cdots & T_{N-1}(x_{0}) \\\\\n",
    "   1 & T_{1}(x_{1}) & T_{2}(x_{1}) & \\cdots & T_{N-1}(x_{1}) \\\\\n",
    "   \\vdots & \\vdots & \\vdots & \\ddots & \\vdots \\\\\n",
    "   1 & T_{1}(x_{N-1}) & T_{2}(x_{N-1}) & \\cdots & T_{N-1}(x_{N-1})\n",
    "   \\end{array}\\right]\n",
    "   \\left[\\begin{array}{c} \\theta_{0} \\\\ \\theta_{1} \\\\ \\vdots \\\\ \\theta_{N-1} \\end{array}\\right]\n",
    "$$\n",
    "\n",
    "または、\n",
    "\n",
    "$$\n",
    "  g(\\mathbf{x}) = T(\\mathbf{x})\\mathbf{\\theta}\n",
    "$$\n",
    "\n",
    "ここで、$\\mathbf{x}=[x_{0},\\dots,x_{N-1}]$である。もし行列$T(\\mathbf{x})$が正則であれば、$\\mathbf{\\theta} = T(\\mathbf{x})^{-1}g(\\mathbf{x})$が求まる"
   ]
  },
  {
   "cell_type": "markdown",
   "metadata": {
    "slideshow": {
     "slide_type": "subslide"
    }
   },
   "source": [
    "- 行列$T(\\mathbf{x})$が非正則に近い悪条件(ill-conditioned)になる場合、逆行列の計算結果に含まれる誤差が大きくなる\n",
    "\n",
    "\n",
    "- しかし、チェビシェフ基底関数とその評価点によって作られる行列は直交条件を満たし、正則になることが知られている\n",
    "\n",
    "\n",
    "- また、行列$T(\\mathbf{x})$は、ひとたび基底関数と評価点を選ぶとその後は固定される\n",
    "\n",
    "\n",
    "- 逆行列$T(\\mathbf{x})^{-1}$の計算をアルゴリズムの初期にあらかじめ行っておくことで、計算時間を節約できる"
   ]
  },
  {
   "cell_type": "markdown",
   "metadata": {
    "slideshow": {
     "slide_type": "subslide"
    }
   },
   "source": [
    "- 一般的な関数$g(k):[k_{1},k_{N}] \\rightarrow \\mathbb{R}$をチェビシェフ多項式で近似したい場合、以下の変換$\\varphi(k):[k_{1},k_{N}] \\rightarrow [-1,1]$を用いる\n",
    "\n",
    "$$\n",
    "  x_{j} = \\varphi(k_{j}) = \\frac{2(k_{j}-k_{1})}{k_{N}-k_{1}}-1\n",
    "$$\n",
    "\n",
    "そして以下のような多項式を得る\n",
    "\n",
    "$$\n",
    "  g(k;\\mathbb{\\theta}) = \\theta_{0}+\\theta_{1}T_{1}(\\varphi(k))+\\theta_{2}T_{2}(\\varphi(k))+\\cdots+\\theta_{N-1}T_{N-1}(\\varphi(k))\n",
    "$$"
   ]
  },
  {
   "cell_type": "markdown",
   "metadata": {
    "slideshow": {
     "slide_type": "subslide"
    }
   },
   "source": [
    "- チェビシェフ多項式と評価点を用いた近似で、通常の多項式と等間隔のグリッドを用いた近似に比べて、近似の精度が改善している"
   ]
  },
  {
   "cell_type": "code",
   "execution_count": null,
   "metadata": {
    "slideshow": {
     "slide_type": "subslide"
    }
   },
   "outputs": [],
   "source": [
    "%% チェビシェフ多項式による近似\n",
    "nxd = 21;\n",
    "xcheb = polygrid(xmin,xmax,nxd);\n",
    "ycheb = f(xcheb); %#ones(nxd)./(ones(nxd)+25*xcheb.^2)\n",
    "T = polybas(xmin,xmax,nxd,xcheb);\n",
    "theta = T\\ycheb;\n",
    "\n",
    "x3 = x1;\n",
    "T3 = polybas(xmin,xmax,nxd,x3);\n",
    "y3 = T3*theta;\n",
    "\n",
    "figure;\n",
    "plot(x0,y0,'k-','LineWidth',1.5);\n",
    "hold on;\n",
    "plot(x3,y3,'-','Color','blue','LineWidth',2.0);\n",
    "plot(xcheb,ycheb,'*','Color','blue','MarkerSize',12,'LineWidth',2.0);\n",
    "legend({'$\\frac{1}{1+x^2}$','多項式近似','評価点'},'Interpreter','latex'); %,'Location','NorthEast');\n",
    "grid on;\n",
    "set(gca,'FontSize',16);\n",
    "%saveas (gcf,'Fig_cheb_n11.eps','epsc2');"
   ]
  },
  {
   "cell_type": "markdown",
   "metadata": {
    "slideshow": {
     "slide_type": "slide"
    }
   },
   "source": [
    "## 時間反復法の多項式近似への応用\n",
    "\n",
    "- 数値計算のアルゴリズム自体は変わらない。実際のコードでもこれまでと異なるのはステップ3の近似のところだけである"
   ]
  },
  {
   "cell_type": "markdown",
   "metadata": {
    "slideshow": {
     "slide_type": "subslide"
    }
   },
   "source": [
    "- アルゴリズム（再掲）\n",
    "\n",
    "\n",
    "1. グリッド生成：状態空間の評価点を$I=21$個のグリッドに区切る。また、グリッド上における政策関数$h^{(0)}(k^{i})$の初期値を当て推量(initial guess)する。VFIと異なり、政策関数の収束は必ずしも保証されていないため、初期値はより重要になる\n",
    "\n",
    "2. 収束の基準：収束の基準になるパラメータ$\\varepsilon=10^{-5}$を与える\n",
    "\n",
    "3. 近似・評価：$k^{i}$上にない政策関数の値については近似する必要がある。$h(k;\\mathbb{b})$をパラメータ$\\mathbb{b}$を使って近似した時の、$k$上での価値関数の値とする"
   ]
  },
  {
   "cell_type": "markdown",
   "metadata": {
    "slideshow": {
     "slide_type": "subslide"
    }
   },
   "source": [
    "4. 最適化：古い政策関数$h^{(n-1)}(k^{i})$を所与として、各$k^{i}$について、\n",
    "\n",
    "$$\n",
    "  u'(c) = \\beta u'(h^{(n-1)}(f(k^{i})-c))f'(f(k^{i})-c)\n",
    "$$\n",
    "\n",
    "を$c$について解く。オイラー方程式の解である$c$を探すためには、各言語の最適化関数を利用する。特にTIでは、ここをどう工夫するかで収束のスピードや安定性が変わってくる。このステップで新しい政策関数$h^{(n)}(k^{i})$を得る\n",
    "\n",
    "5. 全ての$k^{i}$について$\\|h^{(0)}(k^{i})-h^{(1)}(k^{i})\\|<\\varepsilon$であればストップ。そうでなければ、$h^{(1)}(k^{i})$を$h^{(0)}(k^{i})$に代入して、ステップ3-4を繰り返す"
   ]
  },
  {
   "cell_type": "markdown",
   "metadata": {
    "slideshow": {
     "slide_type": "subslide"
    }
   },
   "source": [
    "- グリッドの数をスプライン補間の場合より少ない$N=3,5,9$個とする。このとき、多項式の次数はそれぞれ$N-1=2,4,8$\n",
    "\n",
    "\n",
    "- 計算誤差の絶対値の10を底とする対数の平均値と最大値は、低次の多項式ではやや悪化する\n",
    "\n",
    "\n",
    "- $k$が非常に低い値をとることがありえない場合、グリッドの取り得る値を狭くして、近似誤差が起こりやすい資本の値が少ない場合を避けることで、定次の多項式でも計算誤差を小さくすることができる\n",
    "\n",
    "\n",
    "- 例えば、$k\\in[0.8\\bar{k},1.2\\bar{k}]$とすると、2次の多項式を使っても、計算誤差は$10^{-3}\\sim10^{-4}$程度に収まる"
   ]
  },
  {
   "cell_type": "code",
   "execution_count": null,
   "metadata": {
    "slideshow": {
     "slide_type": "subslide"
    }
   },
   "outputs": [],
   "source": [
    "%%file EulerEq_cheb.m\n",
    "function  res = EulerEq_cheb(cons)\n",
    "% cを与えたときのオイラー方程式の残差を返す関数\n",
    "\n",
    "global beta gamma alpha delta capital theta kgrid\n",
    "\n",
    "wealth = capital.^alpha + (1.-delta).*capital;\n",
    "\n",
    "kprime = wealth - cons;\n",
    "% トリック: k'は正の値しか取らない\n",
    "kprime = max(kgrid(1),kprime);\n",
    "\n",
    "% 次期の政策関数を線形補間\n",
    "%cnext = interp1(m.kgrid,cfcn,kprime,'linear','extrap');\n",
    "% 次期の価値関数をスプライン補間\n",
    "%cnext = interp1(kgrid,cfcn0,kprime,'spline');\n",
    "% 次期の価値関数を多項式補間\n",
    "nk = size(kgrid,1);\n",
    "T = polybas(kgrid(1),kgrid(end),nk,kprime);\n",
    "cnext = T*theta;\n",
    "\n",
    "%% オイラー方程式\n",
    "res = (1/cons) - beta*(1/cnext)*(alpha*kprime.^(alpha-1) + (1.-delta));\n",
    " \n",
    "return"
   ]
  },
  {
   "cell_type": "code",
   "execution_count": null,
   "metadata": {
    "slideshow": {
     "slide_type": "subslide"
    }
   },
   "outputs": [],
   "source": [
    "clear all;\n",
    "\n",
    "global beta gamma alpha delta capital theta kgrid\n",
    "\n",
    "%% *** カリブレーション ***\n",
    "beta  = 0.96; % 割引因子\n",
    "gamma = 1.0;  % 相対的危険回避度(異時点間の代替の弾力性の逆数)\n",
    "alpha = 0.4;  % 資本分配率\n",
    "delta = 1.00; % 固定資本減耗(delta=1.0のときは解析解が存在)\n",
    "\n",
    "% 定常状態の値\n",
    "ykss = (1/beta-1+delta)/alpha;\n",
    "kss = ykss^(1/(alpha-1));\n",
    "yss = ykss*kss;\n",
    "css = yss-delta*kss;\n",
    "\n",
    "% *** 離散化用のパラメータ ***\n",
    "nk   = 9;    % グリッドの数\n",
    "kmax =  1.2*kss; %0.5;  % 資本グリッドの最大値\n",
    "kmin =  0.8*kss; %0.05; % 資本グリッドの最小値"
   ]
  },
  {
   "cell_type": "code",
   "execution_count": null,
   "metadata": {
    "slideshow": {
     "slide_type": "subslide"
    }
   },
   "outputs": [],
   "source": [
    "% *** 収束の基準 ***\n",
    "it = 1;          % ループ・カウンター\n",
    "maxit = 1000;    % 繰り返し計算の最大値\n",
    "tol  = 1.0e-005; % 許容誤差(STEP 2)\n",
    "%dif1 = 1;        % 価値関数の繰り返し誤差\n",
    "dif2 = 1.0;      % 政策関数の繰り返し誤差\n",
    "count = 1;\n",
    "\n",
    "%% STEP 1(a): グリッド生成\n",
    "%kgrid = linspace(kmin, kmax, nk)';\n",
    "kgrid = polygrid(kmin,kmax,nk);\n",
    "T = polybas(kmin,kmax,nk,kgrid);\n",
    "invT = inv(T);\n",
    "\n",
    "%% STEP 1(b): 政策関数の初期値を設定\n",
    "cfcn0 = kgrid;\n",
    "%cfcn0 = m.css/m.kss*m.kgrid; % m.nk=21のときは政策関数の形がおかしい???\n",
    "%cfcn0 = m.kgrid.^m.alpha - p_true;\n",
    "%cfcn0 = m.css*ones(nk,1);\n",
    "cfcn1 = zeros(nk,1);"
   ]
  },
  {
   "cell_type": "code",
   "execution_count": null,
   "metadata": {
    "slideshow": {
     "slide_type": "subslide"
    }
   },
   "outputs": [],
   "source": [
    "options = optimoptions('fsolve','Display','none'); % fsolveのオプション(最適化の結果を非表示にする)\n",
    "\n",
    "options.TolFun = 1.0e-10; % fsolveのオプション(最適化の許容誤差)\n",
    "\n",
    "%% STEP 4: 政策関数を繰り返し計算\n",
    "while (it < maxit && dif2 > tol)\n",
    "\n",
    "    fprintf('iteration index: %i \\n', it);\n",
    "    fprintf('policy function iteration error: %e\\n', dif2);\n",
    "\n",
    "    theta = invT*cfcn0;\n",
    "\n",
    "    for i = 1:nk\n",
    "\n",
    "        capital = kgrid(i);\n",
    "        wealth = capital.^alpha + (1.-delta).*capital;\n",
    "\n",
    "        % MATLABの最適化関数(fsolve)を使って各グリッド上の政策関数の値を探す\n",
    "        % 最適化の初期値は古い政策関数の値\n",
    "        cons = fsolve(@EulerEq_cheb,cfcn0(i,1),options);\n",
    "        cfcn1(i,1) = cons;\n",
    "        kprime = wealth-cons;\n",
    "        % グリッドごとに最適化の結果を確認\n",
    "        %disp([cons capital wealth kprime]);\n",
    "        %pause\n",
    "\n",
    "    end\n",
    "\n",
    "    % 繰り返し計算誤差を確認\n",
    "    dif2 = max(abs(cfcn1-cfcn0));\n",
    "\n",
    "    % 収束途中の繰り返し計算誤差を保存\n",
    "    dif(2,it) = dif2;\n",
    "\n",
    "    % 政策関数をアップデート\n",
    "    cfcn0 = cfcn1;\n",
    "\n",
    "    it = it + 1;\n",
    "\n",
    "end"
   ]
  },
  {
   "cell_type": "code",
   "execution_count": null,
   "metadata": {
    "slideshow": {
     "slide_type": "subslide"
    }
   },
   "outputs": [],
   "source": [
    "%% 最終的な政策関数が得られてから貯蓄関数を計算\n",
    "pfcn0 = kgrid.^alpha + (1-delta)*kgrid - cfcn0;\n",
    "\n",
    "%% 解析的解\n",
    "p_true = beta*alpha*(kgrid.^alpha);"
   ]
  },
  {
   "cell_type": "code",
   "execution_count": null,
   "metadata": {
    "slideshow": {
     "slide_type": "fragment"
    }
   },
   "outputs": [],
   "source": [
    "%%\n",
    "figure;\n",
    "plot(kgrid, pfcn0, '-', 'Color', 'blue', 'LineWidth', 3);\n",
    "hold on;\n",
    "plot(kgrid, p_true, '--', 'Color', 'red', 'LineWidth', 3);\n",
    "plot(kgrid, kgrid, ':', 'Color', 'black', 'LineWidth', 2);\n",
    "xlabel('今期の資本保有量：k', 'FontSize', 16);\n",
    "ylabel(\"次期の資本保有量：k'\", 'FontSize', 16);\n",
    "%xlim([0 kmax]);\n",
    "%xticks([0.05 0.1 0.2 0.3 0.4 0.5]);\n",
    "%xticklabels([0.05 0.1 0.2 0.3 0.4 0.5]);\n",
    "legend('近似解', '解析的解', '45度線', 'Location', 'NorthWest');\n",
    "grid on;\n",
    "set(gca,'FontSize', 16);"
   ]
  },
  {
   "cell_type": "code",
   "execution_count": null,
   "metadata": {
    "slideshow": {
     "slide_type": "subslide"
    }
   },
   "outputs": [],
   "source": [
    "%% オイラー方程式から誤差を測定\n",
    "% 元のグリッドではオイラー方程式の誤差はゼロになるため、グリッドを細かくとる\n",
    "kgrid_err = linspace(kmin, kmax, (nk-1)*10+1)';\n",
    "%kgrid_err = kgrid; %linspace(kmin, kmax, (nk-1)*10+1)';\n",
    "T = polybas(kmin,kmax,nk,kgrid_err);\n",
    "cons = T*theta;\n",
    "%cons = interp1(kgrid,cfcn0(:,1),kgrid_err); % 線形補間\n",
    "LHS  = mu_CRRA(cons, gamma);\n",
    "\n",
    "kp   = kgrid_err.^alpha + (1-delta)*kgrid_err - cons;\n",
    "T = polybas(kmin,kmax,nk,kp);\n",
    "cnext = T*theta;\n",
    "%cnext = interp1(kgrid, cfcn0(:,1), kp);\n",
    "rent = alpha.*kp.^(alpha-1.0) - delta;\n",
    "RHS  = beta.*(1.+rent).*mu_CRRA(cnext,gamma);\n",
    "\n",
    "err  = RHS./LHS-1.0;"
   ]
  },
  {
   "cell_type": "code",
   "execution_count": null,
   "metadata": {},
   "outputs": [],
   "source": [
    "disp(log10([mean(abs(err)) max(abs(err))]))"
   ]
  },
  {
   "cell_type": "code",
   "execution_count": null,
   "metadata": {
    "slideshow": {
     "slide_type": "subslide"
    }
   },
   "outputs": [],
   "source": [
    "%err2 = csvread(\"err_ddp.csv\");\n",
    "\n",
    "figure;\n",
    "plot(kgrid_err, abs(err), '-', 'Color', 'blue', 'LineWidth', 3);\n",
    "%hold on;\n",
    "%plot(kgrid_err, abs(err2), '--', 'Color', 'red', 'LineWidth', 3);\n",
    "xlabel('資本保有量：k', 'FontSize', 16);\n",
    "ylabel('オイラー方程式誤差(絶対値)', 'FontSize', 16);\n",
    "xlim([kmin kmax]);\n",
    "%xticks([0.05 0.1 0.2 0.3 0.4 0.5]);\n",
    "%xticklabels([0.05 0.1 0.2 0.3 0.4 0.5]);\n",
    "%legend('TI', 'VFI', 'Location', 'NorthEast');\n",
    "grid on;\n",
    "set(gca,'FontSize', 16);"
   ]
  }
 ],
 "metadata": {
  "celltoolbar": "Slideshow",
  "kernelspec": {
   "display_name": "Matlab",
   "language": "matlab",
   "name": "matlab"
  },
  "language_info": {
   "codemirror_mode": "octave",
   "file_extension": ".m",
   "help_links": [
    {
     "text": "MetaKernel Magics",
     "url": "https://metakernel.readthedocs.io/en/latest/source/README.html"
    }
   ],
   "mimetype": "text/x-octave",
   "name": "matlab",
   "version": "0.16.11"
  }
 },
 "nbformat": 4,
 "nbformat_minor": 4
}
