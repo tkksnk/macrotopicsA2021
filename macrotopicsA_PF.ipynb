{
 "cells": [
  {
   "cell_type": "markdown",
   "metadata": {
    "slideshow": {
     "slide_type": "slide"
    }
   },
   "source": [
    "<div style=\"text-align: center;\">\n",
    "# マクロ経済特論A\n",
    "<div style=\"text-align: center;\">\n",
    "「完全予見の下での非線形解法」\n",
    "<br>\n",
    "<br>\n",
    "<div style=\"text-align: center;\">    \n",
    "2020年12月\n",
    "<div style=\"text-align: center;\">   \n",
    "一橋大学　砂川武貴"
   ]
  },
  {
   "cell_type": "markdown",
   "metadata": {
    "slideshow": {
     "slide_type": "subslide"
    }
   },
   "source": [
    "# イントロダクション\n",
    "\n",
    "- ゼロ金利制約のような非線形な現象を分析するためには、モデルを非線形に解くことが必要になる\n",
    "\n",
    "- 将来の事象について完全予見(perfect foresight)を仮定することで、そのような非線形モデルを比較的簡単に解くことができる"
   ]
  },
  {
   "cell_type": "markdown",
   "metadata": {
    "slideshow": {
     "slide_type": "subslide"
    }
   },
   "source": [
    "- アルゴリズムの解説：ためし打ち法、ニュートン法、修正ニュートン法\n",
    "\n",
    "- 応用例\n",
    "  1. Ramsey-Cass-Koopmans(RCK)モデル\n",
    "  2. ニューケインジアンモデル\n",
    "  \n",
    "- 仲田泰祐氏（東大）が作成したコードおよび講義資料を参照した"
   ]
  },
  {
   "cell_type": "markdown",
   "metadata": {
    "slideshow": {
     "slide_type": "slide"
    }
   },
   "source": [
    "# RCKモデルとその非線形解法\n",
    "\n",
    "- RCKモデルの均衡条件は、以下のようにまとめられる\n",
    "\n",
    "\\begin{align*}\n",
    "  C_{t}^{-\\sigma} &= C_{t+1}^{-\\sigma}\\beta\\left[ \\alpha A K_{t+1}^{\\alpha-1} + 1 -\\delta \\right] \\\\\n",
    "  K_{t+1} &= AK_{t}^{\\alpha} - C_{t} + (1-\\delta)K_{t}\n",
    "\\end{align*}\n",
    "\n",
    "given $K_{0}$"
   ]
  },
  {
   "cell_type": "markdown",
   "metadata": {
    "slideshow": {
     "slide_type": "subslide"
    }
   },
   "source": [
    "- $C_{0}$の値が分かれば、$\\{K_{1},C_{1},K_{2},C_{2},...\\}$の流列を求めることができる\n",
    "\n",
    "\\begin{align*}\n",
    "  K_{1} &= AK_{0}^{\\alpha} - C_{0} + (1-\\delta)K_{0} \\\\\n",
    "  C_{1} &= C_{0}\\beta^{1/\\sigma}\\left[ \\alpha A K_{1}^{\\alpha-1} + 1 -\\delta \\right]^{1/\\sigma}\n",
    "\\end{align*}"
   ]
  },
  {
   "cell_type": "markdown",
   "metadata": {
    "slideshow": {
     "slide_type": "subslide"
    }
   },
   "source": [
    "- $K_{0}$の値を所与とすると、そのような流列が定常状態に収束する$C_{0}$は、ただ一つだけ存在する\n",
    "\n",
    "<br>\n",
    "<div align=\"center\">\n",
    "<img src=\"./phase_diagram_6.PNG\",width=\"1000\",height=\"400\">\n",
    "</div>"
   ]
  },
  {
   "cell_type": "markdown",
   "metadata": {
    "slideshow": {
     "slide_type": "subslide"
    }
   },
   "source": [
    "## ためし打ち法\n",
    "\n",
    "ためし打ち(shooting)アルゴリズム：\n",
    "\n",
    "1. $C_{0}^{i}$の値を推測する（$i=1,2,...$は繰り返しの添字）\n",
    "\n",
    "2. $(K_{1}^{i},C_{1}^{i})$の値を以下の式から計算する。このようにして$\\{K_{1},C_{1},K_{2},C_{2},...\\}$の流列を十分に大きい$T$まで計算する\n",
    "\n",
    "\\begin{align*}\n",
    "  K_{1} &= AK_{0}^{\\alpha} - C_{0} + (1-\\delta)K_{0} \\\\\n",
    "  C_{1} &= C_{0}\\beta^{1/\\sigma}\\left[ \\alpha A K_{1}^{\\alpha-1} + 1 -\\delta \\right]^{1/\\sigma}\n",
    "\\end{align*}\n",
    "\n",
    "3. $C_{T}^{i}=C_{ss},K_{T}^{i}=K_{ss}$であるか確認。そうでなければ、$C_{0}^{i+1}$の値を調整して、2-3を繰り返す"
   ]
  },
  {
   "cell_type": "markdown",
   "metadata": {
    "slideshow": {
     "slide_type": "slide"
    }
   },
   "source": [
    "## ニュートン法\n",
    "\n",
    "- ためし打ち法は（比較的）簡単に実装できるが、モデルの内生変数が多いときには適用が難しい\n",
    "\n",
    "- これから説明する修正ニュートン法(Modified Newton method)は、モデルの内生変数が多いときにも役立つ。モデルの解が存在する場合、ロバストにその解を求めることができる\n",
    "\n",
    "- 参考文献：\n"
   ]
  },
  {
   "cell_type": "markdown",
   "metadata": {
    "slideshow": {
     "slide_type": "subslide"
    }
   },
   "source": [
    "- 十分に大きい$T$について、$K_{T+1}=K_{ss}, C_{T}=C_{ss}$が成り立つ。このとき、\n",
    "\n",
    "\\begin{align*}\n",
    "  0 &= -C_{0}^{-\\sigma} + C_{1}^{-\\sigma}\\beta\\left[ \\alpha A K_{1}^{\\alpha-1} + 1 -\\delta \\right] \\\\\n",
    "  0 &= -K_{1} + AK_{0}^{\\alpha} - C_{0} + (1-\\delta)K_{0} \\\\\n",
    "  & \\cdots \\\\\n",
    "  0 &= -C_{t}^{-\\sigma} + C_{t+1}^{-\\sigma}\\beta\\left[ \\alpha A K_{t+1}^{\\alpha-1} + 1 -\\delta \\right] \\\\\n",
    "  0 &= -K_{t+1} + AK_{t}^{\\alpha} - C_{t} + (1-\\delta)K_{t} \\\\\n",
    "  & \\cdots \\\\\n",
    "  0 &= -C_{T-1}^{-\\sigma} + C_{\\color{red}{ss}}^{-\\sigma}\\beta\\left[ \\alpha A K_{T}^{\\alpha-1} + 1 -\\delta \\right] \\\\\n",
    "  0 &= -K_{T} + AK_{T-1}^{\\alpha} - C_{T-1} + (1-\\delta)K_{T-1}\n",
    "\\end{align*}\n",
    "\n",
    "$2T$の未知数$\\{C_{t},K_{t+1}\\}_{t=0}^{T-1}$に対して、$2T$の非線形の連立方程式が得られる\n",
    "\n",
    "このシステムを、$X$について解くことができる"
   ]
  },
  {
   "cell_type": "markdown",
   "metadata": {
    "slideshow": {
     "slide_type": "subslide"
    }
   },
   "source": [
    "### 1変数のケース\n",
    "\n",
    "ニュートン法(Newton's method)を用いて、以下の式を満たすゼロ点$x\\in\\mathbb{R}$を求める\n",
    "\n",
    "$$\n",
    "  f(x) = 0\n",
    "$$\n",
    "\n",
    "ここで、$f(\\cdot):\\mathbb{R} \\rightarrow \\mathbb{R}$"
   ]
  },
  {
   "cell_type": "markdown",
   "metadata": {
    "slideshow": {
     "slide_type": "subslide"
    }
   },
   "source": [
    "アルゴリズム\n",
    "\n",
    "1. $x^{0}$を推測する\n",
    "\n",
    "2. $x^{i+1}$をアップデート\n",
    "\n",
    "$$\n",
    "  x^{i+1} = x^{i} - \\frac{f(x^{i})}{f'(x^{i})}\n",
    "$$\n",
    "\n",
    "3. $x^{i}$が収束するまで繰り返す"
   ]
  },
  {
   "cell_type": "markdown",
   "metadata": {
    "slideshow": {
     "slide_type": "subslide"
    }
   },
   "source": [
    "たとえば、$f(x) = x^2 - 5$のとき、\n",
    "\n",
    "\\begin{align*}\n",
    "  x^{i+1} &= x^{i} - \\frac{f(x^{i})}{f'(x^{i})} \\\\\n",
    "  &= x^{i} - \\frac{(x^{i})^2 - 5}{2x^{i}} \n",
    "\\end{align*}\n",
    "\n"
   ]
  },
  {
   "cell_type": "markdown",
   "metadata": {
    "slideshow": {
     "slide_type": "subslide"
    }
   },
   "source": [
    "### 多変数のケース\n",
    "\n",
    "以下の式を満たすゼロ点$X\\in\\mathbb{R}^{n}$を求める\n",
    "\n",
    "$$\n",
    "  F(X)=0\n",
    "$$\n",
    "\n",
    "ここで、$F(\\cdot):\\mathbb{R}^{n} \\rightarrow \\mathbb{R}^{n}$"
   ]
  },
  {
   "cell_type": "markdown",
   "metadata": {
    "slideshow": {
     "slide_type": "subslide"
    }
   },
   "source": [
    "アルゴリズム\n",
    "\n",
    "1. $X^{0}$を推測する\n",
    "\n",
    "2. $X^{i+1}$をアップデート\n",
    "\n",
    "$$\n",
    "  X^{i+1} = X^{i} - \\left[\\frac{\\partial F(X)}{\\partial X} \\biggr|_{X=X^{i}} \\right]^{-1} F(X^{i})\n",
    "$$\n",
    "\n",
    "3. $X^{i}$が収束するまで繰り返す"
   ]
  },
  {
   "cell_type": "markdown",
   "metadata": {
    "slideshow": {
     "slide_type": "subslide"
    }
   },
   "source": [
    "たとえば、$X = \\left[\\begin{array}{c} y \\\\ z \\end{array}\\right], F(X) = \\left[\\begin{array}{c} F_{1}(y,z) \\\\  F_{2}(y,z) \\end{array}\\right] = \\left[\\begin{array}{c} yz-5 \\\\ y+z \\end{array}\\right]$のとき、\n",
    "\n",
    "\\begin{align*}\n",
    "  \\frac{\\partial F(X)}{\\partial X} &= \\left[\\begin{array}{cc}\n",
    "  \\frac{\\partial F_{1}(y,z)}{\\partial y} & \\frac{\\partial F_{1}(y,z)}{\\partial z} \\\\\n",
    "  \\frac{\\partial F_{2}(y,z)}{\\partial y} & \\frac{\\partial F_{2}(y,z)}{\\partial z} \\end{array}\\right] \\\\\n",
    "  &= \\left[\\begin{array}{cc}\n",
    "  z & y \\\\\n",
    "  1 & 1 \\end{array}\\right]\n",
    "\\end{align*}\n",
    "\n",
    "$\\frac{\\partial F(X)}{\\partial X}$はヘシアン(Hessian)とも呼ばれる"
   ]
  },
  {
   "cell_type": "markdown",
   "metadata": {
    "slideshow": {
     "slide_type": "subslide"
    }
   },
   "source": [
    "したがって、\n",
    "\n",
    "\\begin{align*}\n",
    "  \\left[\\frac{\\partial F(X)}{\\partial X} \\biggr|_{X=X^{i}} \\right]^{-1} F(X^{i}) &= \\left[\\begin{array}{cc}\n",
    "  z^{i} & y^{i} \\\\\n",
    "  1 & 1 \\end{array}\\right]^{-1}\n",
    "  \\left[\\begin{array}{c} y^{i}z^{i}-5 \\\\ y^{i}+z^{i} \\end{array}\\right] \\\\\n",
    "  &= \\cdots\n",
    "\\end{align*}"
   ]
  },
  {
   "cell_type": "markdown",
   "metadata": {
    "slideshow": {
     "slide_type": "subslide"
    }
   },
   "source": [
    "- RCKモデルにおいては、\n",
    "\n",
    "$$\n",
    "  X = \\left[\\begin{array}{c}\n",
    "  K_{T} \\\\\n",
    "  C_{T-1} \\\\\n",
    "  K_{T-1} \\\\\n",
    "  C_{T-2} \\\\\n",
    "  \\dots \\\\\n",
    "  C_{1} \\\\\n",
    "  K_{1} \\\\\n",
    "  C_{0} \\end{array}\\right], \n",
    "  F(X) = \\left[\\begin{array}{c}\n",
    "  F_{1}(X) \\\\\n",
    "  F_{2}(X) \\\\\n",
    "  F_{3}(X) \\\\\n",
    "  F_{4}(X) \\\\\n",
    "  \\dots \\\\\n",
    "  F_{2T-2}(X) \\\\\n",
    "  F_{2T-1}(X) \\\\\n",
    "  F_{2T}(X) \\\\\n",
    "  \\end{array}\\right]\n",
    "  = \\left[\\begin{array}{c}\n",
    "  -C_{T-1}^{-\\sigma} + C_{\\color{red}{ss}}^{-\\sigma}\\beta\\left[ \\alpha A K_{T}^{\\alpha-1} + 1 -\\delta \\right] \\\\\n",
    "  -K_{T} + AK_{T-1}^{\\alpha} - C_{T-1} + (1-\\delta)K_{T-1} \\\\\n",
    "  \\dots \\\\\n",
    "  -C_{t}^{-\\sigma} + C_{t+1}^{-\\sigma}\\beta\\left[ \\alpha A K_{t+1}^{\\alpha-1} + 1 -\\delta \\right] \\\\\n",
    "  -K_{t+1} + AK_{t}^{\\alpha} - C_{t} + (1-\\delta)K_{t} \\\\\n",
    "  \\dots \\\\\n",
    "  -C_{0}^{-\\sigma} + C_{1}^{-\\sigma}\\beta\\left[ \\alpha A K_{1}^{\\alpha-1} + 1 -\\delta \\right] \\\\\n",
    "  -K_{1} + AK_{0}^{\\alpha} - C_{0} + (1-\\delta)K_{0} \\end{array}\\right]\n",
    "$$\n",
    "\n",
    "$X$はサイズ$2T$の列ベクトル。$F(\\cdot):\\mathbb{R}^{2T} \\rightarrow \\mathbb{R}^{2T}$"
   ]
  },
  {
   "cell_type": "markdown",
   "metadata": {
    "slideshow": {
     "slide_type": "subslide"
    }
   },
   "source": [
    "- $\\left[\\frac{\\partial F(X)}{\\partial X} \\biggr|_{X=X^{i}} \\right]^{-1}$はサイズ$2T \\times 2T$の行列になる\n",
    "\n",
    "- $\\frac{\\partial F(X)}{\\partial X}$の$i$行$j$列目の要素を$\\frac{\\partial F(X)}{\\partial X}(i,j)$とすると\n",
    "\n",
    "\\begin{align*}\n",
    "  \\frac{\\partial F(X)}{\\partial X}(1,1) &= \\frac{\\partial F_{1}(X)}{\\partial K_{T}} = C_{ss}^{-\\sigma}\\beta\\alpha(\\alpha-1) A K_{T}^{\\alpha-2} \\\\\n",
    "  \\frac{\\partial F(X)}{\\partial X}(1,2) &= \\frac{\\partial F_{1}(X)}{\\partial C_{T-1}} = \\sigma C_{T-1}^{-\\sigma-1} \\\\\n",
    "  \\frac{\\partial F(X)}{\\partial X}(1,3) &= \\frac{\\partial F_{1}(X)}{\\partial K_{T-1}} = 0 \\\\\n",
    "  \\frac{\\partial F(X)}{\\partial X}(1,4) &= \\frac{\\partial F_{1}(X)}{\\partial C_{T-2}} = 0 \\\\\n",
    "  & \\cdots \\\\\n",
    "  \\frac{\\partial F(X)}{\\partial X}(1,2T) &= \\frac{\\partial F_{1}(X)}{\\partial C_{0}} = 0 \\\\\n",
    "\\end{align*}"
   ]
  },
  {
   "cell_type": "markdown",
   "metadata": {
    "slideshow": {
     "slide_type": "subslide"
    }
   },
   "source": [
    "- 同様に、\n",
    "\n",
    "\\begin{align*}\n",
    "  \\frac{\\partial F(X)}{\\partial X}(2,1) &= \\frac{\\partial F_{2}(X)}{\\partial K_{T}} = -1 \\\\\n",
    "  \\frac{\\partial F(X)}{\\partial X}(2,2) &= \\frac{\\partial F_{2}(X)}{\\partial C_{T-1}} = -1 \\\\\n",
    "  \\frac{\\partial F(X)}{\\partial X}(2,3) &= \\frac{\\partial F_{2}(X)}{\\partial K_{T-1}} = \\alpha A K_{T-1}^{\\alpha-1}+1-\\delta \\\\\n",
    "  \\frac{\\partial F(X)}{\\partial X}(2,4) &= \\frac{\\partial F_{2}(X)}{\\partial C_{T-2}} = 0 \\\\\n",
    "  & \\cdots \\\\\n",
    "  \\frac{\\partial F(X)}{\\partial X}(2,2T) &= \\frac{\\partial F_{2}(X)}{\\partial C_{0}} = 0 \\\\\n",
    "\\end{align*}"
   ]
  },
  {
   "cell_type": "markdown",
   "metadata": {
    "slideshow": {
     "slide_type": "subslide"
    }
   },
   "source": [
    "- 同様に、\n",
    "\n",
    "\\begin{align*}\n",
    "  \\frac{\\partial F(X)}{\\partial X}(2T,1) &= \\frac{\\partial F_{2T}(X)}{\\partial K_{T}} = 0 \\\\\n",
    "  \\frac{\\partial F(X)}{\\partial X}(2T,2) &= \\frac{\\partial F_{2T}(X)}{\\partial C_{T-1}} = 0 \\\\\n",
    "  & \\cdots \\\\\n",
    "  \\frac{\\partial F(X)}{\\partial X}(2T,2T-2) &= \\frac{\\partial F_{2T}(X)}{\\partial C_{1}} = 0 \\\\\n",
    "  \\frac{\\partial F(X)}{\\partial X}(2T,2T-1) &= \\frac{\\partial F_{2T}(X)}{\\partial K_{1}} = -1 \\\\\n",
    "  \\frac{\\partial F(X)}{\\partial X}(2T,2T) &= \\frac{\\partial F_{2T}(X)}{\\partial C_{0}} = -1 \\\\\n",
    "\\end{align*}"
   ]
  },
  {
   "cell_type": "markdown",
   "metadata": {
    "slideshow": {
     "slide_type": "subslide"
    }
   },
   "source": [
    "- このように、$F(X)$のヘシアンを解析的に求めることで、多変数のニュートン法を適用できる\n",
    "\n",
    "$$\n",
    "  X^{i+1} = X^{i} - \\left[\\frac{\\partial F(X)}{\\partial X} \\biggr|_{X=X^{i}} \\right]^{-1} F(X^{i})\n",
    "$$"
   ]
  },
  {
   "cell_type": "markdown",
   "metadata": {
    "slideshow": {
     "slide_type": "slide"
    }
   },
   "source": [
    "## 修正ニュートン法のRCKモデルへの応用\n",
    "\n",
    "- ここで、この行列は帯行列(band matrix)（対角(diagonal)要素の上下に帯（バンド）状に非ゼロ要素をもつ行列）になっていることに着目する\n",
    "\n",
    "\n",
    "<br>\n",
    "<div align=\"center\">\n",
    "<img src=\"./band_matrix.png\",width=\"400\",height=\"400\">\n",
    "</div>"
   ]
  },
  {
   "cell_type": "markdown",
   "metadata": {
    "slideshow": {
     "slide_type": "subslide"
    }
   },
   "source": [
    "ここで、$x_{t} = \\left[\\begin{array}{c} K_{t+1} \\\\ C_{t} \\end{array}\\right],\n",
    "f(x_{t+1},x_{t},x_{t-1}) = \\left[\\begin{array}{c} f_{1}(x_{t+1},x_{t},x_{t-1}) \\\\  f_{2}(x_{t+1},x_{t},x_{t-1}) \\end{array}\\right] = \\left[\\begin{array}{c} \n",
    "-C_{t}^{-\\sigma} + C_{t+1}^{-\\sigma}\\beta\\left[ \\alpha A K_{t+1}^{\\alpha-1} + 1 -\\delta \\right] \\\\ \n",
    "-K_{t+1} + AK_{t}^{\\alpha} - C_{t} + (1-\\delta)K_{t} \\end{array}\\right],\n",
    "$\n",
    "\n",
    "\\begin{align*}\n",
    "  L_{t} &= \\frac{\\partial f(x_{t+1},x_{t},x_{t-1})}{\\partial x_{t+1}} \\\\\n",
    "  J_{t} &= \\frac{\\partial f(x_{t+1},x_{t},x_{t-1})}{\\partial x_{t}} \\\\\n",
    "  M_{t} &= \\frac{\\partial f(x_{t+1},x_{t},x_{t-1})}{\\partial x_{t-1}}\n",
    "\\end{align*}\n",
    "\n",
    "とする。このとき、$L_{t},J_{t},M_{t}$は$(2 \\times 2)$の行列である"
   ]
  },
  {
   "cell_type": "markdown",
   "metadata": {
    "slideshow": {
     "slide_type": "subslide"
    }
   },
   "source": [
    "すなわち、\n",
    "\n",
    "\\begin{align*}\n",
    "  L_{t} &= \n",
    "  \\left[\\begin{array}{cc} \\frac{\\partial f_{1}(x_{t+1},x_{t},x_{t-1})}{\\partial K_{t+2}} & \\frac{\\partial f_{1}(x_{t+1},x_{t},x_{t-1})}{\\partial C_{t+1}} \\\\\n",
    "  \\frac{\\partial f_{2}(x_{t+1},x_{t},x_{t-1})}{\\partial K_{t+2}} & \\frac{\\partial f_{2}(x_{t+1},x_{t},x_{t-1})}{\\partial C_{t+1}} \\end{array}\\right]\n",
    "  = \\left[\\begin{array}{cc} 0 & -\\sigma C_{t+1}^{-\\sigma-1} \\beta \\left[ \\alpha A K_{t+1}^{\\alpha-1} + 1 -\\delta \\right] \\\\\n",
    "  0 & 0 \\end{array}\\right] \\\\\n",
    "  J_{t} &= \n",
    "  \\left[\\begin{array}{cc} \\frac{\\partial f_{1}(x_{t+1},x_{t},x_{t-1})}{\\partial K_{t+1}} & \\frac{\\partial f_{1}(x_{t+1},x_{t},x_{t-1})}{\\partial C_{t}} \\\\\n",
    "  \\frac{\\partial f_{2}(x_{t+1},x_{t},x_{t-1})}{\\partial K_{t+1}} & \\frac{\\partial f_{2}(x_{t+1},x_{t},x_{t-1})}{\\partial C_{t}} \\end{array}\\right]\n",
    "  = \\left[\\begin{array}{cc} (\\alpha-1) C_{t+1}^{-\\sigma} \\beta \\alpha A K_{t+1}^{\\alpha-2} & \\sigma C_{t}^{-\\sigma-1} \\\\\n",
    "  -1 & -1 \\end{array}\\right] \\\\\n",
    "  M_{t} &= \n",
    "    \\left[\\begin{array}{cc} \\frac{\\partial f_{1}(x_{t+1},x_{t},x_{t-1})}{\\partial K_{t}} & \\frac{\\partial f_{1}(x_{t+1},x_{t},x_{t-1})}{\\partial C_{t-1}} \\\\\n",
    "  \\frac{\\partial f_{2}(x_{t+1},x_{t},x_{t-1})}{\\partial K_{t}} & \\frac{\\partial f_{2}(x_{t+1},x_{t},x_{t-1})}{\\partial C_{t-1}} \\end{array}\\right]\n",
    "  = \\left[\\begin{array}{cc} 0 & 0 \\\\\n",
    "  \\alpha A K_{t}^{\\alpha-1} + 1-\\delta & 0 \\end{array}\\right] \\\\\n",
    "\\end{align*}"
   ]
  },
  {
   "cell_type": "markdown",
   "metadata": {
    "slideshow": {
     "slide_type": "subslide"
    }
   },
   "source": [
    "すると、\n",
    "\n",
    "\\begin{align*}\n",
    "  & \\left[\\frac{\\partial F(X)}{\\partial X} \\biggr|_{X=X^{i}} \\right] \\\\\n",
    "  &= \\left[\\begin{array}{cccccccccc}\n",
    "  J_{T}^{i} & M_{T-1}^{i} & 0 & 0 & \\dots & \\dots & 0 & 0 & 0 & 0 \\\\\n",
    "  L_{T}^{i} & J_{T-1}^{i} & M_{T-2}^{i} & 0 & \\dots & \\dots & 0 & 0 & 0 & 0 \\\\\n",
    "  0 & L_{T-1}^{i} & J_{T-2}^{i} & M_{T-3}^{i} & \\dots & \\dots & 0 & 0 & 0 & 0 \\\\\n",
    "  & & & & \\dots & \\dots & & & & \\\\\n",
    "  & & & & \\dots & \\dots & & & & \\\\\n",
    "  0 & 0 & 0 & 0 & \\dots & \\dots & L_{4}^{i} & J_{3}^{i} & M_{2}^{i} & 0 \\\\\n",
    "  0 & 0 & 0 & 0 & \\dots & \\dots & 0 & L_{3}^{i} & J_{2}^{i} & M_{1}^{i} \\\\\n",
    "  0 & 0 & 0 & 0 & \\dots & \\dots & 0 & 0 & L_{2}^{i} & J_{1}^{i}\n",
    "  \\end{array}\\right]\n",
    "\\end{align*}"
   ]
  },
  {
   "cell_type": "markdown",
   "metadata": {
    "slideshow": {
     "slide_type": "subslide"
    }
   },
   "source": [
    "あるいは、$\\Delta X^{i+1} = X^{i+1}-X^{i}$とすると、\n",
    "\n",
    "\\begin{align*}\n",
    "  & \\left[\\frac{\\partial F(X)}{\\partial X} \\biggr|_{X=X^{i}} \\right] \\Delta X^{i+1} = -F(X^{i}) \\\\\n",
    "  \\Leftrightarrow & \\\\\n",
    "  & \\left[\\begin{array}{cccccccccc}\n",
    "  J_{T}^{i} & M_{T-1}^{i} & 0 & 0 & \\dots & \\dots & 0 & 0 & 0 & 0 \\\\\n",
    "  L_{T}^{i} & J_{T-1}^{i} & M_{T-2}^{i} & 0 & \\dots & \\dots & 0 & 0 & 0 & 0 \\\\\n",
    "  0 & L_{T-1}^{i} & J_{T-2}^{i} & M_{T-3}^{i} & \\dots & \\dots & 0 & 0 & 0 & 0 \\\\\n",
    "  & & & & \\dots & \\dots & & & & \\\\\n",
    "  & & & & \\dots & \\dots & & & & \\\\\n",
    "  0 & 0 & 0 & 0 & \\dots & \\dots & L_{4}^{i} & J_{3}^{i} & M_{2}^{i} & 0 \\\\\n",
    "  0 & 0 & 0 & 0 & \\dots & \\dots & 0 & L_{3}^{i} & J_{2}^{i} & M_{1}^{i} \\\\\n",
    "  0 & 0 & 0 & 0 & \\dots & \\dots & 0 & 0 & L_{2}^{i} & J_{1}^{i}\n",
    "  \\end{array}\\right]\n",
    "  \\left[\\begin{array}{c}\n",
    "  \\Delta x_{T}^{i+1} \\\\\n",
    "  \\Delta x_{T-1}^{i+1} \\\\\n",
    "  \\Delta x_{T-2}^{i+1} \\\\\n",
    "  \\dots \\\\\n",
    "  \\dots \\\\\n",
    "  \\Delta x_{3}^{i+1} \\\\\n",
    "  \\Delta x_{2}^{i+1} \\\\\n",
    "  \\Delta x_{1}^{i+1}\n",
    "  \\end{array}\\right]\n",
    "  = \\left[\\begin{array}{c}\n",
    "  -f(x_{ss}^{i},x_{T}^{i},x_{T-1}^{i}) \\\\\n",
    "  -f(x_{T}^{i},x_{T-1}^{i},x_{T-2}^{i}) \\\\\n",
    "  -f(x_{T-1}^{i},x_{T-2}^{i},x_{T-3}^{i}) \\\\\n",
    "  \\dots \\\\\n",
    "  \\dots \\\\\n",
    "  -f(x_{4}^{i},x_{3}^{i},x_{2}^{i}) \\\\\n",
    "  -f(x_{3}^{i},x_{2}^{i},x_{3}^{i}) \\\\\n",
    "  -f(x_{2}^{i},x_{1}^{i},x_{ss}^{i})\n",
    "  \\end{array}\\right]\n",
    "\\end{align*}\n"
   ]
  },
  {
   "cell_type": "markdown",
   "metadata": {
    "slideshow": {
     "slide_type": "subslide"
    }
   },
   "source": [
    "あるいは、\n",
    "\n",
    "\\begin{align*}\n",
    "  J_{T}^{i}\\Delta x_{T}^{i+1} + M_{T}^{i}\\Delta x_{T-1}^{i+1} &= -f(x_{ss}^{i},x_{T}^{i},x_{T-1}^{i}) \\\\\n",
    "  L_{T}^{i}\\Delta x_{T}^{i+1} + J_{T-1}^{i}\\Delta x_{T-1}^{i+1} + M_{T-2}^{i}\\Delta x_{T-2}^{i+1} &= -f(x_{T}^{i},x_{T-1}^{i},x_{T-2}^{i}) \\\\\n",
    "  L_{T-1}^{i}\\Delta x_{T-1}^{i+1} + J_{T-2}^{i}\\Delta x_{T-2}^{i+1} + M_{T-3}^{i}\\Delta x_{T-3}^{i+1} &= -f(x_{T-1}^{i},x_{T-2}^{i},x_{T-3}^{i}) \\\\\n",
    "  \\dots & \\\\\n",
    "  \\dots & \\\\\n",
    "  L_{4}^{i}\\Delta x_{4}^{i+1} + J_{3}^{i}\\Delta x_{3}^{i+1} + M_{2}^{i}\\Delta x_{2}^{i+1} &= -f(x_{4}^{i},x_{3}^{i},x_{2}^{i}) \\\\\n",
    "  L_{3}^{i}\\Delta x_{3}^{i+1} + J_{2}^{i}\\Delta x_{2}^{i+1} + M_{1}^{i}\\Delta x_{1}^{i+1} &= -f(x_{3}^{i},x_{2}^{i},x_{1}^{i}) \\\\\n",
    "  L_{2}^{i}\\Delta x_{2}^{i+1} + J_{1}^{i}\\Delta x_{1}^{i+1} &= -f(x_{2}^{i},x_{1}^{i},x_{ss}^{i})\n",
    "\\end{align*}\n",
    "  "
   ]
  },
  {
   "cell_type": "markdown",
   "metadata": {
    "slideshow": {
     "slide_type": "subslide"
    }
   },
   "source": [
    "このとき、$T$期の均衡条件は、\n",
    "\n",
    "\\begin{align*}\n",
    "  & J_{T}^{i}\\Delta x_{T}^{i+1} + M_{T}^{i}\\Delta x_{T-1}^{i+1} = -f(x_{ss}^{i},x_{T}^{i},x_{T-1}^{i}) \\\\\n",
    "  \\Leftrightarrow \\quad & \\\\\n",
    "  \\Delta x_{T}^{i+1} &= -[J_{T}^{i}]^{-1}f(x_{ss}^{i},x_{T}^{i},x_{T-1}^{i}) - [J_{T}^{i}]^{-1}M_{T}^{i}\\Delta x_{T-1}^{i+1} \\\\\n",
    "  &= \\Lambda_{T}^{i} + \\Phi_{T}^{i}\\Delta x_{T-1}^{i+1}\n",
    "\\end{align*}\n",
    "\n",
    "ここで、\n",
    "\n",
    "\\begin{align*}\n",
    "  \\Lambda_{T}^{i} &= -[J_{T}^{i}]^{-1}f(x_{ss}^{i},x_{T}^{i},x_{T-1}^{i}), \\\\\n",
    "  \\Phi_{T}^{i} &= -[J_{T}^{i}]^{-1}M_{T}^{i}\n",
    "\\end{align*}\n",
    "\n",
    "とした"
   ]
  },
  {
   "cell_type": "markdown",
   "metadata": {
    "slideshow": {
     "slide_type": "subslide"
    }
   },
   "source": [
    "$T$期の均衡条件を$T-1$期の均衡条件に代入して、\n",
    "\n",
    "\\begin{align*}\n",
    "  & L_{T}^{i}\\Delta x_{T}^{i+1} + J_{T-1}^{i}\\Delta x_{T-1}^{i+1} + M_{T-2}^{i}\\Delta x_{T-2}^{i+1} = -f(x_{T}^{i},x_{T-1}^{i},x_{T-2}^{i}) \\\\\n",
    "  \\Leftrightarrow \\quad & L_{T}^{i}\\left[\\Lambda_{T}^{i} + \\Phi_{T}^{i}\\Delta x_{T-1}^{i+1}\\right] + J_{T-1}^{i}\\Delta x_{T-1}^{i+1} + M_{T-2}^{i}\\Delta x_{T-2}^{i+1} = -f(x_{T}^{i},x_{T-1}^{i},x_{T-2}^{i}) \\\\\n",
    "  \\Leftrightarrow \\quad & \\left[L_{T}^{i}\\Phi_{T}^{i} + J_{T-1}^{i}\\right]\\Delta x_{T-1}^{i+1} = -f(x_{T}^{i},x_{T-1}^{i},x_{T-2}^{i}) - L_{T}^{i}\\Lambda_{T}^{i} - M_{T-2}^{i}\\Delta x_{T-2}^{i+1} \\\\\n",
    "  \\Leftrightarrow \\quad & \\\\\n",
    "  \\Delta x_{T-1}^{i+1} &= -\\left[L_{T}^{i}\\Phi_{T}^{i} + J_{T-1}^{i}\\right]^{-1}\\left[f(x_{T}^{i},x_{T-1}^{i},x_{T-2}^{i}) + L_{T}^{i}\\Lambda_{T}^{i}\\right] - \\left[L_{T}^{i}\\Phi_{T}^{i} + J_{T-1}^{i}\\right]^{-1}M_{T-2}^{i}\\Delta x_{T-2}^{i+1} \\\\\n",
    "  &= \\Lambda_{T-1}^{i} + \\Phi_{T-1}^{i}\\Delta x_{T-2}^{i+1} \n",
    "\\end{align*}\n",
    "\n",
    "ここで、\n",
    "\n",
    "\\begin{align*}\n",
    "  \\Lambda_{T-1}^{i} &= -\\left[L_{T}^{i}\\Phi_{T}^{i} + J_{T-1}^{i}\\right]^{-1}\\left[f(x_{T}^{i},x_{T-1}^{i},x_{T-2}^{i}) + L_{T}^{i}\\Lambda_{T}^{i}\\right], \\\\\n",
    "  \\Phi_{T-1}^{i} &= -\\left[L_{T}^{i}\\Phi_{T}^{i} + J_{T-1}^{i}\\right]^{-1}M_{T-2}^{i}\n",
    "\\end{align*}\n",
    "\n",
    "とした"
   ]
  },
  {
   "cell_type": "markdown",
   "metadata": {
    "slideshow": {
     "slide_type": "subslide"
    }
   },
   "source": [
    "このような計算を繰り返すことで、$\\Delta x_{t}$の遷移式を得ることができる。すなわち、\n",
    "\n",
    "\\begin{align*}\n",
    "  \\Delta x_{T}^{i+1} &= \\Lambda_{T}^{i} + \\Phi_{T}^{i}\\Delta x_{T-1}^{i+1} \\\\\n",
    "  \\Delta x_{T-1}^{i+1} &= \\Lambda_{T-1}^{i} + \\Phi_{T-1}^{i}\\Delta x_{T-2}^{i+1} \\\\\n",
    "  \\Delta x_{T-2}^{i+1} &= \\Lambda_{T-2}^{i} + \\Phi_{T-2}^{i}\\Delta x_{T-3}^{i+1} \\\\\n",
    "  & \\dots \\\\\n",
    "  \\Delta x_{2}^{i+1} &= \\Lambda_{2}^{i} + \\Phi_{2}^{i}\\Delta x_{2}^{i+1} \\\\\n",
    "  \\Delta x_{1}^{i+1} &= \\Lambda_{1}^{i}\n",
    "\\end{align*}"
   ]
  },
  {
   "cell_type": "markdown",
   "metadata": {
    "slideshow": {
     "slide_type": "subslide"
    }
   },
   "source": [
    "ここで、\n",
    "\n",
    "\\begin{align*}\n",
    "  \\Lambda_{T}^{i} &= -\\left[J_{T}^{i}\\right]^{-1}f(x_{ss}^{i},x_{T}^{i},x_{T-1}^{i}), \\\\\n",
    "  \\Phi_{T}^{i} &= -\\left[J_{T}^{i}\\right]^{-1}M_{T}^{i} \\\\\n",
    "  \\Lambda_{T-1}^{i} &= \\left[L_{T}^{i}\\Phi_{T}^{i} + J_{T-1}^{i}\\right]^{-1}\\left[-f(x_{T}^{i},x_{T-1}^{i},x_{T-2}^{i}) - L_{T}^{i}\\Lambda_{T}^{i}\\right], \\\\\n",
    "  \\Phi_{T-1}^{i} &= -\\left[L_{T}^{i}\\Phi_{T}^{i} + J_{T-1}^{i}\\right]^{-1}M_{T-2}^{i} \\\\\n",
    "  & \\dots \\\\\n",
    "  \\Lambda_{2}^{i} &= \\left[L_{3}^{i}\\Phi_{3}^{i} + J_{2}^{i}\\right]^{-1}\\left[-f(x_{3}^{i},x_{2}^{i},x_{1}^{i}) - L_{3}^{i}\\Lambda_{3}^{i}\\right], \\\\\n",
    "  \\Phi_{2}^{i} &= -\\left[L_{3}^{i}\\Phi_{3}^{i} + J_{2}^{i}\\right]^{-1}M_{1}^{i} \\\\\n",
    "  \\Lambda_{1}^{i} &= \\left[L_{2}^{i}\\Phi_{2}^{i} + J_{1}^{i}\\right]^{-1}\\left[-f(x_{2}^{i},x_{1}^{i},x_{ss}^{i}) - L_{2}^{i}\\Lambda_{2}^{i}\\right], \\\\\n",
    "\\end{align*}"
   ]
  },
  {
   "cell_type": "markdown",
   "metadata": {
    "slideshow": {
     "slide_type": "subslide"
    }
   },
   "source": [
    "アルゴリズム：\n",
    "\n",
    "1. $\\{x_{t}^{0}\\}_{t=1}^{T}$を推測する\n",
    "\n",
    "2. $\\{x_{t}^{i+1}\\}_{t=1}^{T}$をアップデート\n",
    "\n",
    "  a. $\\{x_{t}^{i}\\}_{t=1}^{T}$を所与として、$(\\{\\Lambda_{t}^{i},\\Phi_{t}^{i}\\}_{t=2}^{T},\\Lambda_{1})$を計算\n",
    "  \n",
    "  b. $(\\{\\Lambda_{t}^{i},\\Phi_{t}^{i}\\}_{t=2}^{T},\\Lambda_{1})$を用いて、$\\Delta x_{1}^{i+1}=\\Lambda_{1}^{i}$から逐次的に$\\Delta x_{t}^{i+1}, t=2,...,T$を計算\n",
    "  \n",
    "  $$\n",
    "    \\Delta x_{t}^{i+1} = \\Lambda_{t}^{i} + \\Phi_{t}^{i}\\Delta x_{t-1}^{i+1}\n",
    "  $$\n",
    "\n",
    "  c. $\\{\\Delta x_{t}^{i+1}\\}_{t=1}^{T}$を用いて、$\\{x_{t}^{i+1}\\}_{t=1}^{T}$をアップデート\n",
    "  \n",
    "  $$\n",
    "    x_{t}^{i+1} = x_{t}^{i} + \\epsilon \\Delta x_{t}^{i+1} \n",
    "  $$\n",
    "  \n",
    "  for $t=1,2,...,T$. $\\epsilon>0$はパラメータ\n",
    "  \n",
    "3.  $\\{x_{t}^{i}\\}_{t=1}^{T}$が収束するまで繰り返す"
   ]
  },
  {
   "cell_type": "markdown",
   "metadata": {
    "slideshow": {
     "slide_type": "subslide"
    }
   },
   "source": [
    "- $F(X)$が線形のとき、このアルゴリズムは1回の繰り返しで収束する\n",
    "\n",
    "- Guerrieri and Iacoviello(2015)のアルゴリズムは、このアルゴリズムの特殊な形と考えることができる\n",
    "  - 制約条件がバインドする期間が分かっていれば、$F(X)$は線形になる"
   ]
  },
  {
   "cell_type": "markdown",
   "metadata": {
    "slideshow": {
     "slide_type": "slide"
    }
   },
   "source": [
    "## Guerrieri and Iacoviello (2015)\n",
    "\n",
    "均衡条件は、以下のいずれかで与えられる\n",
    "\n",
    "\\begin{align*}\n",
    "  A X_{t+1} + B X_{t} + C X_{t-1} = 0 & \\quad \\text{if } X_{t}(i)>\\underline{X}(i) \\\\\n",
    "  A^{*} X_{t+1} + B^{*} X_{t} + C^{*} X_{t-1} + D^{*} = 0 & \\quad \\text{otherwise}\n",
    "\\end{align*}\n",
    "\n",
    "ここで、$X_{t}(i)$は$X_{t}$の$i$番目の要素である"
   ]
  },
  {
   "cell_type": "markdown",
   "metadata": {
    "slideshow": {
     "slide_type": "subslide"
    }
   },
   "source": [
    "$X_{T+1}=X_{0}=0$とすると、\n",
    "\n",
    "\\begin{align*}\n",
    "  \\mathcal{B}X_{T} + \\mathcal{C}X_{T-1} &= -\\mathcal{D} \\\\\n",
    "  \\mathcal{A}X_{T} + \\mathcal{B}X_{T-1} + \\mathcal{C}X_{T-2} &= -\\mathcal{D} \\\\\n",
    "  \\mathcal{A}X_{T-1} + \\mathcal{B}X_{T-2} + \\mathcal{C}X_{T-3} &= -\\mathcal{D} \\\\\n",
    "  \\dots & \\\\\n",
    "  \\mathcal{A}X_{4} + \\mathcal{B}X_{3} + \\mathcal{C}X_{2} &= -\\mathcal{D} \\\\\n",
    "  \\mathcal{A}X_{3} + \\mathcal{B}X_{2} + \\mathcal{C}X_{1} &= -\\mathcal{D} \\\\\n",
    "  \\mathcal{A}X_{2} + \\mathcal{B}X_{1} &= -\\mathcal{D}\n",
    "\\end{align*}\n",
    "\n",
    "ここで、$\\mathcal{A}_{t}=A, \\mathcal{B}_{t}=B, \\mathcal{C}_{t}=C, \\mathcal{D}_{t}=0$\n",
    "または$\\mathcal{A}_{t}=A^{*}, \\mathcal{B}_{t}=B^{*}, \\mathcal{C}_{t}=C^{*}, \\mathcal{D}_{t}=D^{*}$"
   ]
  },
  {
   "cell_type": "markdown",
   "metadata": {
    "slideshow": {
     "slide_type": "subslide"
    }
   },
   "source": [
    "このとき、$T$期の均衡条件は、\n",
    "\n",
    "\\begin{align*}\n",
    "  X_{T} &= -\\mathcal{B}^{-1}\\mathcal{C}X_{T-1} - \\mathcal{B}^{-1}\\mathcal{D} \\\\\n",
    "  &= \\mathcal{R}_{T} + \\mathcal{P}_{T}X_{T-1}\n",
    "\\end{align*}\n",
    "\n",
    "$T-1$期の均衡条件に代入して、\n",
    "\n",
    "\\begin{align*}\n",
    "  & \\mathcal{A}X_{T} + \\mathcal{B}X_{T-1} + \\mathcal{C}X_{T-2} = -\\mathcal{D} \\\\\n",
    "  \\Leftrightarrow \\quad & \\mathcal{A}\\left[\\mathcal{R}_{T} + \\mathcal{P}_{T}X_{T-1}\\right] + \\mathcal{B}X_{T-1} + \\mathcal{C}X_{T-2} = -\\mathcal{D} \\\\\n",
    "  \\Leftrightarrow \\quad & \\mathcal{A}\\mathcal{R}_{T} + \\mathcal{A}\\mathcal{P}_{T}X_{T-1} + \\mathcal{B}X_{T-1} + \\mathcal{C}X_{T-2} = -\\mathcal{D} \\\\\n",
    "  \\Leftrightarrow \\quad & \\left[\\mathcal{A}\\mathcal{P}_{T} + \\mathcal{B}\\right]X_{T-1} = -\\mathcal{D} - \\mathcal{A}\\mathcal{R}_{T} - \\mathcal{C}X_{T-2} \\\\\n",
    "  \\Leftrightarrow \\quad & \\\\\n",
    "  X_{T-1} &= -\\left[\\mathcal{A}\\mathcal{P}_{T} + \\mathcal{B}\\right]^{-1}\\left[\\mathcal{D} + \\mathcal{A}\\mathcal{R}_{T}\\right] - \\left[\\mathcal{A}\\mathcal{P}_{T} + \\mathcal{B}\\right]^{-1}\\mathcal{C}X_{T-2} \\\\\n",
    "  &= \\mathcal{R}_{T-1} + \\mathcal{P}_{T-1}X_{T-2}\n",
    "\\end{align*}\n",
    "\n"
   ]
  },
  {
   "cell_type": "markdown",
   "metadata": {
    "slideshow": {
     "slide_type": "subslide"
    }
   },
   "source": [
    "このような計算を繰り返すことで、$X_{t}$の遷移式を得ることができる。すなわち、\n",
    "\n",
    "\\begin{align*}\n",
    "  X_{T} &= \\mathcal{R}_{T} + \\mathcal{P}_{T} X_{T-1} \\\\\n",
    "  X_{T-1} &= \\mathcal{R}_{T-1} + \\mathcal{P}_{T-1} X_{T-2} \\\\\n",
    "  X_{T-2} &= \\mathcal{R}_{T-2} + \\mathcal{P}_{T-2} X_{T-3} \\\\\n",
    "  & \\dots \\\\\n",
    "  X_{2} &= \\mathcal{R}_{2} + \\mathcal{P}_{2} X_{1} \\\\\n",
    "  X_{1} &= \\mathcal{R}_{1} + \\mathcal{P}_{1} X_{0}\n",
    "\\end{align*}"
   ]
  },
  {
   "cell_type": "markdown",
   "metadata": {
    "slideshow": {
     "slide_type": "subslide"
    }
   },
   "source": [
    "ここで、\n",
    "\n",
    "\\begin{align*}\n",
    "  \\mathcal{R}_{T} &= -\\mathcal{B}^{-1}\\mathcal{D} \\\\\n",
    "  \\mathcal{P}_{T} &= -\\mathcal{B}^{-1}\\mathcal{C} \\\\\n",
    "  \\mathcal{R}_{T-1} &= -\\left[\\mathcal{A}\\mathcal{P}_{T} + \\mathcal{B}\\right]^{-1}\\left[\\mathcal{D} + \\mathcal{A}\\mathcal{R}_{T}\\right] \\\\\n",
    "  \\mathcal{P}_{T-1} &= -\\left[\\mathcal{A}\\mathcal{P}_{T} + \\mathcal{B}\\right]^{-1}\\mathcal{C} \\\\\n",
    "  & \\dots\n",
    "\\end{align*}\n"
   ]
  },
  {
   "cell_type": "markdown",
   "metadata": {
    "slideshow": {
     "slide_type": "subslide"
    }
   },
   "source": [
    "アルゴリズム：\n",
    "\n",
    "1. $\\{X_{t}^{0}\\}_{t=1}^{T}$を推測する\n",
    "\n",
    "2. $\\{X_{t}^{i}\\}_{t=1}^{T}$の値に基づき、$\\mathcal{A}_{t}^{i}=A, \\mathcal{B}_{t}^{i}=B, \\mathcal{C}_{t}^{i}=C, \\mathcal{D}_{t}^{i}=0$\n",
    "または$\\mathcal{A}_{t}^{i}=A^{*}, \\mathcal{B}_{t}^{i}=B^{*}, \\mathcal{C}_{t}^{i}=C^{*}, \\mathcal{D}_{t}^{i}=D^{*}$とする\n",
    "\n",
    "  1. $\\{\\mathcal{R}_{t}^{i},\\mathcal{P}_{t}^{i}\\}_{t=1}^{T}$を計算\n",
    "\n",
    "  2. $\\{\\mathcal{R}_{t}^{i},\\mathcal{P}_{t}^{i}\\}_{t=1}^{T}$を用いて、逐次的に$X_{t}^{i+1}, t=1,...,T$を計算\n",
    "\n",
    "  $$\n",
    "    X_{t}^{i+1} = \\mathcal{R}_{t}^{i} + \\mathcal{P}_{t}^{i}X_{t-1}^{i+1}\n",
    "  $$\n",
    "\n",
    "3.  $\\{X_{t}^{i}\\}_{t=1}^{T}$が収束するまで繰り返す"
   ]
  }
 ],
 "metadata": {
  "celltoolbar": "Slideshow",
  "kernelspec": {
   "display_name": "Matlab",
   "language": "matlab",
   "name": "matlab"
  },
  "language_info": {
   "codemirror_mode": "octave",
   "file_extension": ".m",
   "help_links": [
    {
     "text": "MetaKernel Magics",
     "url": "https://metakernel.readthedocs.io/en/latest/source/README.html"
    }
   ],
   "mimetype": "text/x-octave",
   "name": "matlab",
   "version": "0.16.10"
  }
 },
 "nbformat": 4,
 "nbformat_minor": 4
}
