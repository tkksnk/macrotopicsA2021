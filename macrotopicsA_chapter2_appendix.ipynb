{
 "cells": [
  {
   "cell_type": "markdown",
   "metadata": {
    "slideshow": {
     "slide_type": "subslide"
    }
   },
   "source": [
    "- 効用関数を「特定化」：相対的危険回避度一定(constant relative risk aversion, CRRA)型効用関数\n",
    "\n",
    "$$\n",
    "  u(c) = \\frac{c^{1-\\gamma}-1}{1-\\gamma}\n",
    "$$\n",
    "\n",
    "- $1/\\gamma$は異時点間の代替の弾力性(intertemporal elasticity of substitution)\n",
    "\n",
    "- $\\gamma \\rightarrow 1$のとき、ロピタルの法則(L'Hopital's rule)より、$u(c)=\\ln(c)$"
   ]
  },
  {
   "cell_type": "markdown",
   "metadata": {
    "slideshow": {
     "slide_type": "subslide"
    }
   },
   "source": [
    "- 異時点間の代替の弾力性は以下で定義される：\n",
    "\n",
    "$$\n",
    "  \\frac{d\\ln(c_{2}/c_{1})}{dr}\n",
    "$$\n",
    "\n",
    "- オイラー方程式より、\n",
    "\n",
    "\\begin{align*}\n",
    "  & 1 = (1+r)\\beta(c_{2}/c_{1})^{-\\gamma} \\\\\n",
    "  \\Leftrightarrow & 0 = -\\rho -\\gamma\\ln(c_{2}/c_{1}) + r \\\\\n",
    "  \\Leftrightarrow & \\gamma\\ln(c_{2}/c_{1}) = r-\\rho \\\\\n",
    "  & \\therefore \\frac{d\\ln(c_{2}/c_{1})}{dr} = \\frac{1}{\\gamma} \n",
    "\\end{align*}\n",
    "\n",
    "ここで、$\\ln(1+r) \\approx r, \\beta = (1+\\rho)^{-1} \\Leftrightarrow \\ln\\beta \\approx -\\rho $"
   ]
  },
  {
   "cell_type": "markdown",
   "metadata": {
    "slideshow": {
     "slide_type": "subslide"
    }
   },
   "source": [
    "- ロピタルの法則：$f(a)=g(a)=0$のとき\n",
    "\n",
    "$$\n",
    "  \\lim_{x \\rightarrow a}\\frac{f(x)}{g(x)}=\\lim_{x \\rightarrow a}\\frac{f'(x)}{g'(x)}\n",
    "$$\n",
    "\n",
    "- ここで、$f(\\gamma)=c^{1-\\gamma}-1=\\big[\\exp(\\ln(c))\\big]^{1-\\gamma}-1=\\exp\\big[(1-\\gamma)\\ln(c)\\big]-1, g(\\gamma)=1-\\gamma$とすると\n",
    "\n",
    "\\begin{align*}\n",
    "  & \\lim_{\\gamma \\rightarrow 1}\\frac{f(\\gamma)}{g(\\gamma)} \\\\\n",
    "  =& \\lim_{\\gamma \\rightarrow 1}\\frac{f'(\\gamma)}{g'(\\gamma)} \\\\\n",
    "  =& \\lim_{\\gamma \\rightarrow 1}\\frac{\\exp\\big[(1-\\gamma)\\ln(c)\\big]\\big(-\\ln(c)\\big)}{-1} = \\ln(c)\n",
    "\\end{align*}\n"
   ]
  },
  {
   "cell_type": "code",
   "execution_count": 19,
   "metadata": {
    "slideshow": {
     "slide_type": "subslide"
    }
   },
   "outputs": [
    {
     "name": "stdout",
     "output_type": "stream",
     "text": [
      "Created file 'C:\\Users\\takeki\\Documents\\macrotopicsA2020\\CRRA.m'.\n"
     ]
    }
   ],
   "source": [
    "%%file CRRA.m\n",
    "function util = CRRA(cons, gamma)\n",
    "\n",
    "if gamma ~= 1\n",
    "%     util = cons.^(1-gamma)./(1-gamma);\n",
    "    util = (cons.^(1-gamma)-1)./(1-gamma);\n",
    "else\n",
    "    util = log(cons);\n",
    "end"
   ]
  },
  {
   "cell_type": "code",
   "execution_count": 2,
   "metadata": {
    "slideshow": {
     "slide_type": "subslide"
    }
   },
   "outputs": [
    {
     "name": "stdout",
     "output_type": "stream",
     "text": [
      "\n"
     ]
    },
    {
     "data": {
      "image/png": "[encoded data removed]",
      "text/plain": [
       "<IPython.core.display.Image object>"
      ]
     },
     "metadata": {},
     "output_type": "display_data"
    }
   ],
   "source": [
    "gvec = linspace(0.9,1.1,11)';\n",
    "uvec = zeros(11,1);\n",
    "cons = 2.0;\n",
    "\n",
    "for i = 1:11\n",
    "\n",
    "    gamma = gvec(i);\n",
    "    uvec(i) = CRRA(cons,gamma);\n",
    "    \n",
    "end\n",
    "\n",
    "plot(gvec,uvec,'*')"
   ]
  },
  {
   "cell_type": "markdown",
   "metadata": {
    "slideshow": {
     "slide_type": "subslide"
    }
   },
   "source": [
    "- 経済主体の最適化問題は、各$w_{i}$ for $i=1,\\dots,I$について、\n",
    "\n",
    "$$\n",
    "  \\max_{a} \\frac{[w_{i}-a]^{1-\\gamma}}{1-\\gamma}+\\beta\\frac{[(1+r)-a]^{1-\\gamma}}{1-\\gamma} \\tag{6}\n",
    "$$\n",
    "\n",
    "となるが、操作変数$a\\in\\mathbb{R}$については任意の実数をとりうる"
   ]
  },
  {
   "cell_type": "markdown",
   "metadata": {
    "slideshow": {
     "slide_type": "subslide"
    }
   },
   "source": [
    "- どうやって(6)式の解を得ればよいのであろうか？\n",
    "\n",
    "\n",
    "- とりあえず、最適化(optimization)と呼ばれるライブラリを使う\n",
    "    - MATLABであれば、Optimization Toolboxにある関数fminsearchやfminbnd\n",
    "    - Pythonであれば、SciPyにある関数fmin\n",
    "    - Juliaであれば、Optim.jlにある関数"
   ]
  }
 ],
 "metadata": {
  "celltoolbar": "Slideshow",
  "kernelspec": {
   "display_name": "Matlab",
   "language": "matlab",
   "name": "matlab"
  },
  "language_info": {
   "codemirror_mode": "octave",
   "file_extension": ".m",
   "help_links": [
    {
     "text": "MetaKernel Magics",
     "url": "https://metakernel.readthedocs.io/en/latest/source/README.html"
    }
   ],
   "mimetype": "text/x-octave",
   "name": "matlab",
   "version": "0.16.10"
  }
 },
 "nbformat": 4,
 "nbformat_minor": 4
}
