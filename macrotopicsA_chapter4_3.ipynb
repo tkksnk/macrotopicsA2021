{
 "cells": [
  {
   "cell_type": "markdown",
   "metadata": {
    "slideshow": {
     "slide_type": "slide"
    }
   },
   "source": [
    "## 時間反復法の多項式近似への応用\n",
    "\n",
    "- 数値計算のアルゴリズム自体は変わらない。実際のコードでもこれまでと異なるのはステップ3の近似のところだけである"
   ]
  },
  {
   "cell_type": "markdown",
   "metadata": {
    "slideshow": {
     "slide_type": "subslide"
    }
   },
   "source": [
    "- アルゴリズム（再掲）\n",
    "\n",
    "\n",
    "1. グリッド生成：状態空間の評価点を$I=21$個のグリッドに区切る。また、グリッド上における政策関数$h^{(0)}(k^{i})$の初期値を当て推量(initial guess)する。VFIと異なり、政策関数の収束は必ずしも保証されていないため、初期値はより重要になる\n",
    "\n",
    "2. 収束の基準：収束の基準になるパラメータ$\\varepsilon=10^{-5}$を与える\n",
    "\n",
    "3. 近似・評価：$k^{i}$上にない政策関数の値については近似する必要がある。$h(k;\\mathbb{b})$をパラメータ$\\mathbb{b}$を使って近似した時の、$k$上での価値関数の値とする"
   ]
  },
  {
   "cell_type": "markdown",
   "metadata": {
    "slideshow": {
     "slide_type": "subslide"
    }
   },
   "source": [
    "4. 最適化：古い政策関数$h^{(n-1)}(k^{i})$を所与として、各$k^{i}$について、\n",
    "\n",
    "$$\n",
    "  u'(c) = \\beta u'(h^{(n-1)}(f(k^{i})-c))f'(f(k^{i})-c)\n",
    "$$\n",
    "\n",
    "を$c$について解く。オイラー方程式の解である$c$を探すためには、各言語の最適化関数を利用する。特にTIでは、ここをどう工夫するかで収束のスピードや安定性が変わってくる。このステップで新しい政策関数$h^{(n)}(k^{i})$を得る\n",
    "\n",
    "5. 全ての$k^{i}$について$\\|h^{(0)}(k^{i})-h^{(1)}(k^{i})\\|<\\varepsilon$であればストップ。そうでなければ、$h^{(1)}(k^{i})$を$h^{(0)}(k^{i})$に代入して、ステップ3-4を繰り返す"
   ]
  },
  {
   "cell_type": "markdown",
   "metadata": {
    "slideshow": {
     "slide_type": "subslide"
    }
   },
   "source": [
    "- グリッドの数をスプライン補間の場合より少ない$N=3,5,9$個とする。このとき、多項式の次数はそれぞれ$N-1=2,4,8$\n",
    "\n",
    "\n",
    "- 計算誤差の絶対値の10を底とする対数の平均値と最大値は、低次の多項式ではやや悪化する\n",
    "\n",
    "\n",
    "- $k$が非常に低い値をとることがありえない場合、グリッドの取り得る値を狭くして、近似誤差が起こりやすい資本の値が少ない場合を避けることで、定次の多項式でも計算誤差を小さくすることができる\n",
    "\n",
    "\n",
    "- 例えば、$k\\in[0.8\\bar{k},1.2\\bar{k}]$とすると、2次の多項式を使っても、計算誤差は$10^{-3}\\sim10^{-4}$程度に収まる"
   ]
  },
  {
   "cell_type": "code",
   "execution_count": 1,
   "metadata": {
    "slideshow": {
     "slide_type": "skip"
    }
   },
   "outputs": [
    {
     "name": "stdout",
     "output_type": "stream",
     "text": [
      "Created file 'C:\\Users\\takek\\Dropbox\\teaching\\2021winter\\macrotopicsA2021\\polygrid.m'.\n"
     ]
    }
   ],
   "source": [
    "%%file polygrid.m\n",
    "function k = polygrid(kmin,kmax,N)\n",
    "\n",
    "    temp = linspace(0,N-1,N)'; %[0:N-1:1]'; % チェビシェフ極値点\n",
    "    x = -cos((pi/(N-1))*temp);\n",
    "%     temp = linspace(0,N-1,N)'; %[0:N-1:1]'; % チェビシェフゼロ点\n",
    "%     x = [0; -cos((pi/2/(N-1))*(2*temp - 1))];\n",
    "    \n",
    "    % xからkに変換\n",
    "    k = 0.5*(kmax-kmin)*(x+1) + kmin;"
   ]
  },
  {
   "cell_type": "code",
   "execution_count": 2,
   "metadata": {
    "slideshow": {
     "slide_type": "skip"
    }
   },
   "outputs": [
    {
     "name": "stdout",
     "output_type": "stream",
     "text": [
      "Created file 'C:\\Users\\takek\\Dropbox\\teaching\\2021winter\\macrotopicsA2021\\polybas.m'.\n"
     ]
    }
   ],
   "source": [
    "%%file polybas.m\n",
    "function T = polybas(kmin,kmax,Np,kgrid)\n",
    "\n",
    "    % Np: 多項式の次数-1\n",
    "    % Ng: グリッドの数\n",
    "    Ng = size(kgrid,1);\n",
    "    x = (2/(kmax-kmin))*(kgrid-kmin) - 1;\n",
    "    \n",
    "    % 基底関数の行列(NgxNp)を再帰的に求める\n",
    "    T = zeros(Ng,Np);\n",
    "    T0 = ones(Ng,1);\n",
    "    T1 = x;\n",
    "    T2 = 2*x.*T1 - T0;\n",
    "    T(:,1) = T1;\n",
    "    T(:,2) = T2;\n",
    "    \n",
    "    for i=3:Np-1\n",
    "        T(:,i) = 2*x.*T(:,i-1) - T(:,i-2);\n",
    "    end\n",
    "    \n",
    "    T = [T0 T(:,1:(Np-1))];"
   ]
  },
  {
   "cell_type": "code",
   "execution_count": 3,
   "metadata": {
    "slideshow": {
     "slide_type": "subslide"
    }
   },
   "outputs": [
    {
     "name": "stdout",
     "output_type": "stream",
     "text": [
      "Created file 'C:\\Users\\takek\\Dropbox\\teaching\\2021winter\\macrotopicsA2021\\EulerEq_cheb.m'.\n"
     ]
    }
   ],
   "source": [
    "%%file EulerEq_cheb.m\n",
    "function  res = EulerEq_cheb(cons)\n",
    "% cを与えたときのオイラー方程式の残差を返す関数\n",
    "\n",
    "global beta gamma alpha delta capital theta kgrid\n",
    "\n",
    "wealth = capital.^alpha + (1.-delta).*capital;\n",
    "\n",
    "kprime = wealth - cons;\n",
    "% トリック: k'は正の値しか取らない\n",
    "kprime = max(kgrid(1),kprime);\n",
    "\n",
    "% 次期の政策関数を線形補間\n",
    "%cnext = interp1(m.kgrid,cfcn,kprime,'linear','extrap');\n",
    "% 次期の価値関数をスプライン補間\n",
    "%cnext = interp1(kgrid,cfcn0,kprime,'spline');\n",
    "% 次期の価値関数を多項式補間\n",
    "nk = size(kgrid,1);\n",
    "T = polybas(kgrid(1),kgrid(end),nk,kprime);\n",
    "cnext = T*theta;\n",
    "\n",
    "%% オイラー方程式\n",
    "res = (1/cons) - beta*(1/cnext)*(alpha*kprime.^(alpha-1) + (1.-delta));\n",
    " \n",
    "return"
   ]
  },
  {
   "cell_type": "code",
   "execution_count": 22,
   "metadata": {
    "slideshow": {
     "slide_type": "subslide"
    }
   },
   "outputs": [
    {
     "name": "stdout",
     "output_type": "stream",
     "text": [
      "\n"
     ]
    }
   ],
   "source": [
    "clear all;\n",
    "\n",
    "global beta gamma alpha delta capital theta kgrid\n",
    "\n",
    "%% *** カリブレーション ***\n",
    "beta  = 0.96; % 割引因子\n",
    "gamma = 1.0;  % 相対的危険回避度(異時点間の代替の弾力性の逆数)\n",
    "alpha = 0.4;  % 資本分配率\n",
    "delta = 1.00; % 固定資本減耗(delta=1.0のときは解析解が存在)\n",
    "\n",
    "% 定常状態の値\n",
    "ykss = (1/beta-1+delta)/alpha;\n",
    "kss = ykss^(1/(alpha-1));\n",
    "yss = ykss*kss;\n",
    "css = yss-delta*kss;\n",
    "\n",
    "% *** 離散化用のパラメータ ***\n",
    "nk   = 3;    % グリッドの数\n",
    "kmax = 0.5; %1.2*kss; %0.5;  % 資本グリッドの最大値\n",
    "kmin = 0.05; %0.8*kss; %0.05; % 資本グリッドの最小値"
   ]
  },
  {
   "cell_type": "code",
   "execution_count": 23,
   "metadata": {
    "slideshow": {
     "slide_type": "subslide"
    }
   },
   "outputs": [
    {
     "name": "stdout",
     "output_type": "stream",
     "text": [
      "\n",
      "ans =\n",
      "\n",
      "    0.2250\n",
      "    0.2250\n",
      "\n",
      "\n"
     ]
    }
   ],
   "source": [
    "% *** 収束の基準 ***\n",
    "it = 1;          % ループ・カウンター\n",
    "maxit = 1000;    % 繰り返し計算の最大値\n",
    "tol  = 1.0e-005; % 許容誤差(STEP 2)\n",
    "%dif1 = 1;        % 価値関数の繰り返し誤差\n",
    "dif2 = 1.0;      % 政策関数の繰り返し誤差\n",
    "count = 1;\n",
    "\n",
    "%% STEP 1(a): グリッド生成\n",
    "% kgrid = linspace(kmin, kmax, nk)';\n",
    "kgrid = polygrid(kmin,kmax,nk);\n",
    "T = polybas(kmin,kmax,nk,kgrid);\n",
    "invT = inv(T);\n",
    "\n",
    "%% STEP 1(b): 政策関数の初期値を設定\n",
    "cfcn0 = kgrid;\n",
    "%cfcn0 = m.css/m.kss*m.kgrid; % m.nk=21のときは政策関数の形がおかしい???\n",
    "%cfcn0 = m.kgrid.^m.alpha - p_true;\n",
    "%cfcn0 = m.css*ones(nk,1);\n",
    "cfcn1 = zeros(nk,1);\n",
    "\n",
    "kgrid(2:end)-kgrid(1:end-1)"
   ]
  },
  {
   "cell_type": "code",
   "execution_count": 24,
   "metadata": {
    "slideshow": {
     "slide_type": "subslide"
    }
   },
   "outputs": [
    {
     "name": "stdout",
     "output_type": "stream",
     "text": [
      "iteration index: 1 \n",
      "policy function iteration error: 1.000000e+00\n",
      "iteration index: 2 \n",
      "policy function iteration error: 9.047494e-02\n",
      "iteration index: 3 \n",
      "policy function iteration error: 2.820522e-02\n",
      "iteration index: 4 \n",
      "policy function iteration error: 1.068586e-02\n",
      "iteration index: 5 \n",
      "policy function iteration error: 4.838721e-03\n",
      "iteration index: 6 \n",
      "policy function iteration error: 1.941251e-03\n",
      "iteration index: 7 \n",
      "policy function iteration error: 7.448687e-04\n",
      "iteration index: 8 \n",
      "policy function iteration error: 2.809058e-04\n",
      "iteration index: 9 \n",
      "policy function iteration error: 1.052150e-04\n",
      "iteration index: 10 \n",
      "policy function iteration error: 3.930226e-05\n",
      "iteration index: 11 \n",
      "policy function iteration error: 1.466522e-05\n",
      "\n"
     ]
    }
   ],
   "source": [
    "options = optimoptions('fsolve','Display','none'); % fsolveのオプション(最適化の結果を非表示にする)\n",
    "\n",
    "options.TolFun = 1.0e-10; % fsolveのオプション(最適化の許容誤差)\n",
    "\n",
    "%% STEP 4: 政策関数を繰り返し計算\n",
    "while (it < maxit && dif2 > tol)\n",
    "\n",
    "    fprintf('iteration index: %i \\n', it);\n",
    "    fprintf('policy function iteration error: %e\\n', dif2);\n",
    "\n",
    "    theta = invT*cfcn0;\n",
    "\n",
    "    for i = 1:nk\n",
    "\n",
    "        capital = kgrid(i);\n",
    "        wealth = capital.^alpha + (1.-delta).*capital;\n",
    "\n",
    "        % MATLABの最適化関数(fsolve)を使って各グリッド上の政策関数の値を探す\n",
    "        % 最適化の初期値は古い政策関数の値\n",
    "        cons = fsolve(@EulerEq_cheb,cfcn0(i,1),options);\n",
    "        cfcn1(i,1) = cons;\n",
    "        kprime = wealth-cons;\n",
    "        % グリッドごとに最適化の結果を確認\n",
    "        %disp([cons capital wealth kprime]);\n",
    "        %pause\n",
    "\n",
    "    end\n",
    "\n",
    "    % 繰り返し計算誤差を確認\n",
    "    dif2 = max(abs(cfcn1-cfcn0));\n",
    "\n",
    "    % 収束途中の繰り返し計算誤差を保存\n",
    "    dif(2,it) = dif2;\n",
    "\n",
    "    % 政策関数をアップデート\n",
    "    cfcn0 = cfcn1;\n",
    "\n",
    "    it = it + 1;\n",
    "\n",
    "end"
   ]
  },
  {
   "cell_type": "code",
   "execution_count": 25,
   "metadata": {
    "slideshow": {
     "slide_type": "subslide"
    }
   },
   "outputs": [
    {
     "name": "stdout",
     "output_type": "stream",
     "text": [
      "\n"
     ]
    }
   ],
   "source": [
    "%% 最終的な政策関数が得られてから貯蓄関数を計算\n",
    "pfcn0 = kgrid.^alpha + (1-delta)*kgrid - cfcn0;\n",
    "\n",
    "%% 解析的解\n",
    "p_true = beta*alpha*(kgrid.^alpha);"
   ]
  },
  {
   "cell_type": "code",
   "execution_count": 29,
   "metadata": {
    "slideshow": {
     "slide_type": "fragment"
    }
   },
   "outputs": [
    {
     "name": "stdout",
     "output_type": "stream",
     "text": [
      "\n",
      "ans =\n",
      "\n",
      "    0.0412\n",
      "    0.0141\n",
      "    0.0027\n",
      "\n",
      "\n"
     ]
    },
    {
     "data": {
      "image/png": "[encoded data removed]",
      "text/plain": [
       "<IPython.core.display.Image object>"
      ]
     },
     "metadata": {},
     "output_type": "display_data"
    }
   ],
   "source": [
    "%%\n",
    "figure;\n",
    "plot(kgrid, pfcn0, '-', 'Color', 'blue', 'LineWidth', 3);\n",
    "hold on;\n",
    "plot(kgrid, p_true, '--', 'Color', 'red', 'LineWidth', 3);\n",
    "plot(kgrid, kgrid, ':', 'Color', 'black', 'LineWidth', 2);\n",
    "xlabel('今期の資本保有量：k', 'FontSize', 16);\n",
    "ylabel(\"次期の資本保有量：k'\", 'FontSize', 16);\n",
    "%xlim([0 kmax]);\n",
    "%xticks([0.05 0.1 0.2 0.3 0.4 0.5]);\n",
    "%xticklabels([0.05 0.1 0.2 0.3 0.4 0.5]);\n",
    "legend('近似解', '解析的解', '45度線', 'Location', 'NorthWest');\n",
    "grid on;\n",
    "set(gca,'FontSize', 16);\n",
    "\n",
    "pfcn0./p_true-1"
   ]
  },
  {
   "cell_type": "code",
   "execution_count": 27,
   "metadata": {
    "slideshow": {
     "slide_type": "subslide"
    }
   },
   "outputs": [
    {
     "name": "stdout",
     "output_type": "stream",
     "text": [
      "\n"
     ]
    }
   ],
   "source": [
    "%% オイラー方程式から誤差を測定\n",
    "% 元のグリッドではオイラー方程式の誤差はゼロになるため、グリッドを細かくとる\n",
    "kgrid_err = linspace(kmin, kmax, (nk-1)*10+1)';\n",
    "%kgrid_err = kgrid; %linspace(kmin, kmax, (nk-1)*10+1)';\n",
    "T = polybas(kmin,kmax,nk,kgrid_err);\n",
    "cons = T*theta;\n",
    "%cons = interp1(kgrid,cfcn0(:,1),kgrid_err); % 線形補間\n",
    "LHS  = mu_CRRA(cons, gamma);\n",
    "\n",
    "kp   = kgrid_err.^alpha + (1-delta)*kgrid_err - cons;\n",
    "T = polybas(kmin,kmax,nk,kp);\n",
    "cnext = T*theta;\n",
    "%cnext = interp1(kgrid, cfcn0(:,1), kp);\n",
    "rent = alpha.*kp.^(alpha-1.0) - delta;\n",
    "RHS  = beta.*(1.+rent).*mu_CRRA(cnext,gamma);\n",
    "\n",
    "err  = RHS./LHS-1.0;"
   ]
  },
  {
   "cell_type": "code",
   "execution_count": 28,
   "metadata": {},
   "outputs": [
    {
     "name": "stdout",
     "output_type": "stream",
     "text": [
      "   -1.3545   -0.9396\n",
      "\n",
      "\n"
     ]
    }
   ],
   "source": [
    "\n",
    "disp(log10([mean(abs(err)) max(abs(err))]))"
   ]
  },
  {
   "cell_type": "code",
   "execution_count": 20,
   "metadata": {
    "slideshow": {
     "slide_type": "subslide"
    }
   },
   "outputs": [
    {
     "name": "stdout",
     "output_type": "stream",
     "text": [
      "\n"
     ]
    },
    {
     "data": {
      "image/png": "[encoded data removed]",
      "text/plain": [
       "<IPython.core.display.Image object>"
      ]
     },
     "metadata": {},
     "output_type": "display_data"
    }
   ],
   "source": [
    "%err2 = csvread(\"err_ddp.csv\");\n",
    "\n",
    "figure;\n",
    "plot(kgrid_err, abs(err), '-', 'Color', 'blue', 'LineWidth', 3);\n",
    "%hold on;\n",
    "%plot(kgrid_err, abs(err2), '--', 'Color', 'red', 'LineWidth', 3);\n",
    "xlabel('資本保有量：k', 'FontSize', 16);\n",
    "ylabel('オイラー方程式誤差(絶対値)', 'FontSize', 16);\n",
    "xlim([kmin kmax]);\n",
    "%xticks([0.05 0.1 0.2 0.3 0.4 0.5]);\n",
    "%xticklabels([0.05 0.1 0.2 0.3 0.4 0.5]);\n",
    "%legend('TI', 'VFI', 'Location', 'NorthEast');\n",
    "grid on;\n",
    "set(gca,'FontSize', 16);"
   ]
  }
 ],
 "metadata": {
  "celltoolbar": "Slideshow",
  "kernelspec": {
   "display_name": "Matlab",
   "language": "matlab",
   "name": "matlab"
  },
  "language_info": {
   "codemirror_mode": "octave",
   "file_extension": ".m",
   "help_links": [
    {
     "text": "MetaKernel Magics",
     "url": "https://metakernel.readthedocs.io/en/latest/source/README.html"
    }
   ],
   "mimetype": "text/x-octave",
   "name": "matlab",
   "version": "0.16.10"
  }
 },
 "nbformat": 4,
 "nbformat_minor": 4
}
