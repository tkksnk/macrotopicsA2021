{
 "cells": [
  {
   "cell_type": "markdown",
   "metadata": {
    "slideshow": {
     "slide_type": "slide"
    }
   },
   "source": [
    "# 無限期間モデル（新古典派成長モデル）\n",
    "\n",
    "- ロビンソン・クルーソーの無人島生活と違って、われわれが生活する社会では明確な最終期は存在しない\n",
    "\n",
    "- あるいは、自分の世代から子供、孫、またその子供と続く王朝的な経済活動を考える\n",
    "\n",
    "- 無限期間モデル(infinite horizon model)では、そのような永続的な経済活動を考える"
   ]
  },
  {
   "cell_type": "markdown",
   "metadata": {
    "slideshow": {
     "slide_type": "subslide"
    }
   },
   "source": [
    "- 代表的個人が存在する経済を無限期間に拡張する\n",
    "\n",
    "- ロビンソン・クルーソーは無限期間の消費から得られる効用の割引現在価値を最大化するように、消費と貯蓄を選択する\n",
    "\n",
    "$$\n",
    "  \\max_{\\{c_{t},k_{t+1}\\}_{t=0}^{\\infty}} \\sum_{t=0}^{\\infty} \\beta^{t} u(c_{t})\n",
    "$$\n",
    "\n",
    "subject to\n",
    "\n",
    "$$\n",
    "  c_{t} + k_{t+1} \\leq f(k_{t}) + (1-\\delta)k_{t}, k_{0} \\text{ given.}\n",
    "$$\n",
    "\n",
    "ここで、資本$k_{t}$は財$f(k_{t})$を生み出すが、$\\delta$の割合で減耗する"
   ]
  },
  {
   "cell_type": "markdown",
   "metadata": {
    "slideshow": {
     "slide_type": "subslide"
    }
   },
   "source": [
    "- これをベルマン方程式の形で書き換えると\n",
    "\n",
    "$$\n",
    "  V(k_{t}) = \\max\\{u(f(k_{t})+(1-\\delta)k_{t}-k_{t+1}) + \\beta V(k_{t+1})\\}\n",
    "$$\n",
    "\n",
    "あるいは、経済主体の意思決定を再帰的(recursive)に書き直すと\n",
    "\n",
    "$$\n",
    "  V(k) = \\max\\{u(f(k)+(1-\\delta)k-k') + \\beta V(k')\\} \\tag{6}\n",
    "$$\n",
    "\n",
    "- 時間をあらわすサブスクリプト$t+1$の代わりに、次期の変数を$k'$と表記している：有限期間モデルでは、時間が状態変数の一つとなっていたが、ここでは時間を明示的に書く必要がない"
   ]
  },
  {
   "cell_type": "markdown",
   "metadata": {
    "slideshow": {
     "slide_type": "slide"
    }
   },
   "source": [
    "# 無限期間モデルの解法\n",
    "## ベルマン方程式の特徴付け\n",
    "\n",
    "- 動的計画法及びその数値計算を正しく使うためには、理論的な理解が重要になってくる\n",
    "\n",
    "- ここではベルマン方程式の重要な性質について、直観的な結果だけ証明なしで紹介する\n",
    "  - 動的計画法について詳細な理解が得たいのであれば、Stokey et al.(1989)にじっくりと取り組むこと"
   ]
  },
  {
   "cell_type": "markdown",
   "metadata": {
    "slideshow": {
     "slide_type": "subslide"
    }
   },
   "source": [
    "- (6)式の解法は、有限期間モデルの後ろ向き帰納法と似ている\n",
    "\n",
    "- 価値関数反復法(value function iteration, VFI)には昔から多くの研究の蓄積があり、その長所と短所もはっきりしている"
   ]
  },
  {
   "cell_type": "markdown",
   "metadata": {
    "slideshow": {
     "slide_type": "subslide"
    }
   },
   "source": [
    "- 有限期間モデルの場合には、$V_{T}(k)$から始まって後ろ向きに$V_{T-1}(k),V_{T-2}(k),...,V_{0}(k)$と計算することで、全期間の価値関数を計算することができた"
   ]
  },
  {
   "cell_type": "markdown",
   "metadata": {
    "slideshow": {
     "slide_type": "fragment"
    }
   },
   "source": [
    "- 無限期間モデルの場合には、任意に価値関数$V^{(0)}(k)$を推測して、有限期間モデルの場合と同じように\n",
    "\n",
    "$$\n",
    "  V^{(1)}(k) = \\max_{k'} u(c) + \\beta V^{(0)}(k')\n",
    "$$\n",
    "\n",
    "を計算する"
   ]
  },
  {
   "cell_type": "markdown",
   "metadata": {
    "slideshow": {
     "slide_type": "subslide"
    }
   },
   "source": [
    "- その後、得られた$V^{(1)}(k)$を右辺に代入して、\n",
    "\n",
    "$$\n",
    "  V^{(2)}(k) = \\max_{k'} u(c) + \\beta V^{(1)}(k')\n",
    "$$\n",
    "\n",
    "を同じように計算する\n",
    "\n",
    "- 縮小写像の性質(contraction mapping property)により、「一定の条件下において」、この繰り返し計算により得られた$V^{(0)}(k),V^{(1)}(k),...$は真の価値関数に収束(converge)する"
   ]
  },
  {
   "cell_type": "markdown",
   "metadata": {
    "slideshow": {
     "slide_type": "subslide"
    }
   },
   "source": [
    "- 多くの数値計算手法では、もっともらしい値が得られていても本当に真の値に収束しているのか、理論的にきちんと確認できないことが多い\n",
    "\n",
    "- VFIの縮小写像の性質は、モデルをベルマン方程式の形にして一定の条件を満たすことができれば、数値的に分析可能にしてくれるという意味で極めて強い性質である"
   ]
  },
  {
   "cell_type": "markdown",
   "metadata": {
    "slideshow": {
     "slide_type": "subslide"
    }
   },
   "source": [
    "## 数値計算\n",
    "\n",
    "### 状態変数と操作変数を離散化する\n",
    "\n",
    "- $u(c)=\\ln c, f(k)=k^{\\alpha}, \\delta=1$と特定化した場合、次のような解析的解が存在する\n",
    "\n",
    "\\begin{align*}\n",
    "  V(k) &= A + B\\ln k, \\\\\n",
    "  A &= (1-\\beta)^{-1}\\big[\\ln(1-\\alpha\\beta) + \\frac{\\alpha\\beta}{1-\\alpha\\beta}\\ln\\alpha\\beta\\big], \\quad B = \\frac{\\alpha}{1-\\alpha\\beta}, \\\\\n",
    "  k' &= \\alpha\\beta k^{\\alpha}\n",
    "\\end{align*}\n",
    "\n",
    "- 近似的な計算によって得られた数値解と解析的解がどの程度近いかを確認する"
   ]
  },
  {
   "cell_type": "markdown",
   "metadata": {
    "slideshow": {
     "slide_type": "subslide"
    }
   },
   "source": [
    "- 状態変数$k$および操作変数$k'$を$I$個のグリッド$k^{i}\\in\\{k^{1},...,k^{I}\\}$で離散化する\n",
    "  - グリッドの下限については、正値とする：$k^{1}>0$\n",
    "  - 上限については、場合によっては試行錯誤が必要になる：政策関数と45度線が交わる点の右側（資本が減少していく）に設定"
   ]
  },
  {
   "cell_type": "markdown",
   "metadata": {
    "slideshow": {
     "slide_type": "subslide"
    }
   },
   "source": [
    "- アルゴリズム\n",
    "\n",
    "\n",
    "1. グリッド生成：状態変数および操作変数をそれぞれ$I=J=10000$個のグリッドに区切る。また、グリッド上における価値関数$V^{(0)}(k^{i})$の初期値を当て推量(initial guess)する\n",
    "\n",
    "2. 収束の基準：収束の基準になるパラメータ$\\varepsilon=10^{-5}$を与える\n",
    "\n",
    "3. 効用関数を設定：効用関数$u([k^{i}]^{\\alpha}+(1-\\delta)k^{i}-k^{j})$を状態変数と操作変数の全てのグリッド($I \\times J$個)上で評価する\n",
    "\n",
    "4. 価値関数の組み合わせを計算：各状態変数$k^{i}$について、\n",
    "\n",
    "$$\n",
    "  \\tilde{V}(k^{i},k^{j}) = u([k^{i}]^{\\alpha}+(1-\\delta)k^{i}-k^{j}) + \\beta V^{(0)}(k^{j})\n",
    "$$\n",
    "\n",
    "を計算する\n",
    "\n",
    "5. 価値関数を最大にする貯蓄を探す：各$k^{i}$について、$V^{(1)}(k^{i})=\\max_{k^{j}}\\tilde{V}(k^{i},k^{j})$を計算する\n",
    "\n",
    "6. 全ての$k^{i}$について$\\|V^{(0)}(k^{i})-V^{(1)}(k^{i})\\|<\\varepsilon$であればストップ。そうでなければ、$V^{(1)}(k^{i})$を$V^{(0)}(k^{i})$に代入して、ステップ4-5を繰り返す"
   ]
  },
  {
   "cell_type": "code",
   "execution_count": 1,
   "metadata": {
    "slideshow": {
     "slide_type": "subslide"
    }
   },
   "outputs": [
    {
     "name": "stdout",
     "output_type": "stream",
     "text": [
      "Created file 'C:\\Users\\takek\\Dropbox\\teaching\\2021winter\\macrotopicsA2021\\CRRA.m'.\n"
     ]
    }
   ],
   "source": [
    "%%file CRRA.m\n",
    "function util = CRRA(cons,gamma)\n",
    "\n",
    "if gamma ~= 1;\n",
    "    util = (cons.^(1-gamma)-1)./(1-gamma);\n",
    "else\n",
    "    util = log(cons);\n",
    "end\n",
    "\n",
    "return;"
   ]
  },
  {
   "cell_type": "code",
   "execution_count": 2,
   "metadata": {
    "slideshow": {
     "slide_type": "subslide"
    }
   },
   "outputs": [
    {
     "name": "stdout",
     "output_type": "stream",
     "text": [
      "\n"
     ]
    }
   ],
   "source": [
    "global beta gamma alpha capital vfcn kgrid\n",
    "\n",
    "%% *** カリブレーション ***\n",
    "beta  = 0.96; % 割引因子\n",
    "gamma = 1.0;  % 相対的危険回避度(異時点間の代替の弾力性の逆数)\n",
    "alpha = 0.40; % 資本分配率\n",
    "delta = 1.00; % 固定資本減耗(0.08)"
   ]
  },
  {
   "cell_type": "code",
   "execution_count": 3,
   "metadata": {
    "slideshow": {
     "slide_type": "fragment"
    }
   },
   "outputs": [
    {
     "name": "stdout",
     "output_type": "stream",
     "text": [
      "\n"
     ]
    }
   ],
   "source": [
    "% *** 離散化用のパラメータ ***\n",
    "nk   = 101;  % グリッドの数\n",
    "kmax = 0.5;   % 資本グリッドの最大値\n",
    "%kmax = 10.0; % 資本グリッドの最大値(固定資本減耗=0.08の場合に使用)\n",
    "kmin = 0.05;  % 資本グリッドの最小値 (0にすると生産が出来なくなる)"
   ]
  },
  {
   "cell_type": "code",
   "execution_count": 4,
   "metadata": {
    "slideshow": {
     "slide_type": "fragment"
    }
   },
   "outputs": [
    {
     "name": "stdout",
     "output_type": "stream",
     "text": [
      "\n"
     ]
    }
   ],
   "source": [
    "% *** 収束の基準 ***\n",
    "it = 1;          % ループ・カウンター\n",
    "maxit = 1000;    % 繰り返し計算の最大値\n",
    "tol  = 1.0e-005; % 許容誤差(STEP 2)\n",
    "dif1 = 1;        % 価値関数の繰り返し誤差\n",
    "dif2 = 1.0;      % 政策関数の繰り返し誤差\n",
    "count = 1;"
   ]
  },
  {
   "cell_type": "code",
   "execution_count": 5,
   "metadata": {
    "slideshow": {
     "slide_type": "subslide"
    }
   },
   "outputs": [
    {
     "name": "stdout",
     "output_type": "stream",
     "text": [
      "\n"
     ]
    }
   ],
   "source": [
    "%% STEP 1(a): グリッド生成\n",
    "kgrid = linspace(kmin, kmax, nk)';"
   ]
  },
  {
   "cell_type": "code",
   "execution_count": 6,
   "metadata": {
    "slideshow": {
     "slide_type": "fragment"
    }
   },
   "outputs": [
    {
     "name": "stdout",
     "output_type": "stream",
     "text": [
      "\n"
     ]
    }
   ],
   "source": [
    "%% STEP 1(b): 価値関数・政策関数の初期値を設定\n",
    "vfcn  = zeros(nk, 1);\n",
    "pfcn  = zeros(nk, 1);\n",
    "Tvfcn = zeros(nk, 1);\n",
    "Tpfcn = zeros(nk, 1);\n",
    "vkp   = zeros(nk, nk);\n",
    "val_tmp = zeros(nk, 4);"
   ]
  },
  {
   "cell_type": "code",
   "execution_count": 7,
   "metadata": {
    "slideshow": {
     "slide_type": "fragment"
    }
   },
   "outputs": [
    {
     "name": "stdout",
     "output_type": "stream",
     "text": [
      "\n"
     ]
    }
   ],
   "source": [
    "%% 解析的解\n",
    "AA = (1.0-beta).^(-1) * (log(1.0-alpha*beta) + ((alpha*beta)/(1.0-alpha*beta))*log(alpha*beta));\n",
    "BB = alpha/(1.0-alpha*beta);\n",
    "v_true = AA + BB*log(kgrid);\n",
    "p_true = beta*alpha*(kgrid.^alpha);"
   ]
  },
  {
   "cell_type": "code",
   "execution_count": 8,
   "metadata": {
    "slideshow": {
     "slide_type": "subslide"
    }
   },
   "outputs": [
    {
     "name": "stdout",
     "output_type": "stream",
     "text": [
      "\n"
     ]
    }
   ],
   "source": [
    "%% STEP 3: 効用関数の組み合わせ\n",
    "\n",
    "% 効用関数の初期値 (消費が0以下になる組み合わせにはペナルティ)\n",
    "util = -10000.0*ones(nk, nk);\n",
    "\n",
    "% 消費が正値になる(k,k')の組み合わせについて効用を計算\n",
    "for i = 1:nk\n",
    "    %  あらゆる操作変数k'について:\n",
    "    for j = 1:nk\n",
    "        wealth = kgrid(i).^alpha + (1.0-delta).*kgrid(i);\n",
    "        cons = wealth - kgrid(j);\n",
    "        if cons > 0\n",
    "           util(j,i) = CRRA(cons, gamma);\n",
    "        end\n",
    "    end\n",
    "end"
   ]
  },
  {
   "cell_type": "code",
   "execution_count": 9,
   "metadata": {
    "slideshow": {
     "slide_type": "subslide"
    }
   },
   "outputs": [
    {
     "name": "stdout",
     "output_type": "stream",
     "text": [
      "iteration index: 1, iteration diff of value: Inf, iteration diff of policy: 1 \n",
      "iteration index: 2, iteration diff of value: 2.744252e+00, iteration diff of policy: 1 \n",
      "iteration index: 3, iteration diff of value: 7.753374e-01, iteration diff of policy: 1 \n",
      "iteration index: 4, iteration diff of value: 4.316016e-01, iteration diff of policy: 1 \n",
      "iteration index: 5, iteration diff of value: 2.924695e-01, iteration diff of policy: 1 \n",
      "iteration index: 6, iteration diff of value: 2.180950e-01, iteration diff of policy: 1 \n",
      "iteration index: 7, iteration diff of value: 1.721794e-01, iteration diff of policy: 1 \n",
      "iteration index: 8, iteration diff of value: 1.410964e-01, iteration diff of policy: 1 \n",
      "iteration index: 9, iteration diff of value: 1.187272e-01, iteration diff of policy: 1 \n",
      "iteration index: 10, iteration diff of value: 1.019016e-01, iteration diff of policy: 1 \n",
      "iteration index: 11, iteration diff of value: 8.877882e-02, iteration diff of policy: 1 \n",
      "iteration index: 12, iteration diff of value: 7.827822e-02, iteration diff of policy: 1 \n",
      "iteration index: 13, iteration diff of value: 6.969175e-02, iteration diff of policy: 1 \n",
      "iteration index: 14, iteration diff of value: 6.254519e-02, iteration diff of policy: 1 \n",
      "iteration index: 15, iteration diff of value: 5.650902e-02, iteration diff of policy: 1 \n",
      "iteration index: 16, iteration diff of value: 5.134708e-02, iteration diff of policy: 1 \n",
      "iteration index: 17, iteration diff of value: 4.688575e-02, iteration diff of policy: 1 \n",
      "iteration index: 18, iteration diff of value: 4.299449e-02, iteration diff of policy: 1 \n",
      "iteration index: 19, iteration diff of value: 3.957328e-02, iteration diff of policy: 1 \n",
      "iteration index: 20, iteration diff of value: 3.654418e-02, iteration diff of policy: 1 \n",
      "iteration index: 21, iteration diff of value: 3.384555e-02, iteration diff of policy: 1 \n",
      "iteration index: 22, iteration diff of value: 3.142803e-02, iteration diff of policy: 1 \n",
      "iteration index: 23, iteration diff of value: 2.925159e-02, iteration diff of policy: 1 \n",
      "iteration index: 24, iteration diff of value: 2.728344e-02, iteration diff of policy: 1 \n",
      "iteration index: 25, iteration diff of value: 2.549647e-02, iteration diff of policy: 1 \n",
      "iteration index: 26, iteration diff of value: 2.386806e-02, iteration diff of policy: 1 \n",
      "iteration index: 27, iteration diff of value: 2.237919e-02, iteration diff of policy: 1 \n",
      "iteration index: 28, iteration diff of value: 2.101375e-02, iteration diff of policy: 1 \n",
      "iteration index: 29, iteration diff of value: 1.975801e-02, iteration diff of policy: 1 \n",
      "iteration index: 30, iteration diff of value: 1.860019e-02, iteration diff of policy: 1 \n",
      "iteration index: 31, iteration diff of value: 1.753012e-02, iteration diff of policy: 1 \n",
      "iteration index: 32, iteration diff of value: 1.653898e-02, iteration diff of policy: 1 \n",
      "iteration index: 33, iteration diff of value: 1.561910e-02, iteration diff of policy: 1 \n",
      "iteration index: 34, iteration diff of value: 1.476374e-02, iteration diff of policy: 1 \n",
      "iteration index: 35, iteration diff of value: 1.396699e-02, iteration diff of policy: 1 \n",
      "iteration index: 36, iteration diff of value: 1.322361e-02, iteration diff of policy: 1 \n",
      "iteration index: 37, iteration diff of value: 1.252899e-02, iteration diff of policy: 1 \n",
      "iteration index: 38, iteration diff of value: 1.187900e-02, iteration diff of policy: 1 \n",
      "iteration index: 39, iteration diff of value: 1.126996e-02, iteration diff of policy: 1 \n",
      "iteration index: 40, iteration diff of value: 1.069859e-02, iteration diff of policy: 1 \n",
      "iteration index: 41, iteration diff of value: 1.016193e-02, iteration diff of policy: 1 \n",
      "iteration index: 42, iteration diff of value: 9.657315e-03, iteration diff of policy: 1 \n",
      "iteration index: 43, iteration diff of value: 9.182345e-03, iteration diff of policy: 1 \n",
      "iteration index: 44, iteration diff of value: 8.734845e-03, iteration diff of policy: 1 \n",
      "iteration index: 45, iteration diff of value: 8.312840e-03, iteration diff of policy: 1 \n",
      "iteration index: 46, iteration diff of value: 7.914534e-03, iteration diff of policy: 1 \n",
      "iteration index: 47, iteration diff of value: 7.538291e-03, iteration diff of policy: 1 \n",
      "iteration index: 48, iteration diff of value: 7.182615e-03, iteration diff of policy: 1 \n",
      "iteration index: 49, iteration diff of value: 6.846137e-03, iteration diff of policy: 1 \n",
      "iteration index: 50, iteration diff of value: 6.527602e-03, iteration diff of policy: 1 \n",
      "iteration index: 51, iteration diff of value: 6.225858e-03, iteration diff of policy: 1 \n",
      "iteration index: 52, iteration diff of value: 5.939843e-03, iteration diff of policy: 1 \n",
      "iteration index: 53, iteration diff of value: 5.668579e-03, iteration diff of policy: 1 \n",
      "iteration index: 54, iteration diff of value: 5.411162e-03, iteration diff of policy: 1 \n",
      "iteration index: 55, iteration diff of value: 5.166758e-03, iteration diff of policy: 1 \n",
      "iteration index: 56, iteration diff of value: 4.934592e-03, iteration diff of policy: 1 \n",
      "iteration index: 57, iteration diff of value: 4.713947e-03, iteration diff of policy: 1 \n",
      "iteration index: 58, iteration diff of value: 4.504156e-03, iteration diff of policy: 1 \n",
      "iteration index: 59, iteration diff of value: 4.304602e-03, iteration diff of policy: 1 \n",
      "iteration index: 60, iteration diff of value: 4.114705e-03, iteration diff of policy: 1 \n",
      "iteration index: 61, iteration diff of value: 3.933930e-03, iteration diff of policy: 1 \n",
      "iteration index: 62, iteration diff of value: 3.761774e-03, iteration diff of policy: 1 \n",
      "iteration index: 63, iteration diff of value: 3.597769e-03, iteration diff of policy: 1 \n",
      "iteration index: 64, iteration diff of value: 3.441477e-03, iteration diff of policy: 1 \n",
      "iteration index: 65, iteration diff of value: 3.292487e-03, iteration diff of policy: 1 \n",
      "iteration index: 66, iteration diff of value: 3.150415e-03, iteration diff of policy: 1 \n",
      "iteration index: 67, iteration diff of value: 3.014900e-03, iteration diff of policy: 1 \n",
      "iteration index: 68, iteration diff of value: 2.885604e-03, iteration diff of policy: 1 \n",
      "iteration index: 69, iteration diff of value: 2.762209e-03, iteration diff of policy: 1 \n",
      "iteration index: 70, iteration diff of value: 2.644417e-03, iteration diff of policy: 1 \n",
      "iteration index: 71, iteration diff of value: 2.531944e-03, iteration diff of policy: 1 \n",
      "iteration index: 72, iteration diff of value: 2.424528e-03, iteration diff of policy: 1 \n",
      "iteration index: 73, iteration diff of value: 2.321917e-03, iteration diff of policy: 1 \n",
      "iteration index: 74, iteration diff of value: 2.223877e-03, iteration diff of policy: 1 \n",
      "iteration index: 75, iteration diff of value: 2.130184e-03, iteration diff of policy: 1 \n",
      "iteration index: 76, iteration diff of value: 2.040630e-03, iteration diff of policy: 1 \n",
      "iteration index: 77, iteration diff of value: 1.955015e-03, iteration diff of policy: 1 \n",
      "iteration index: 78, iteration diff of value: 1.873153e-03, iteration diff of policy: 1 \n",
      "iteration index: 79, iteration diff of value: 1.794865e-03, iteration diff of policy: 1 \n",
      "iteration index: 80, iteration diff of value: 1.719983e-03, iteration diff of policy: 1 \n",
      "iteration index: 81, iteration diff of value: 1.648348e-03, iteration diff of policy: 1 \n",
      "iteration index: 82, iteration diff of value: 1.579810e-03, iteration diff of policy: 1 \n",
      "iteration index: 83, iteration diff of value: 1.514226e-03, iteration diff of policy: 1 \n",
      "iteration index: 84, iteration diff of value: 1.451459e-03, iteration diff of policy: 1 \n",
      "iteration index: 85, iteration diff of value: 1.391381e-03, iteration diff of policy: 1 \n",
      "iteration index: 86, iteration diff of value: 1.333870e-03, iteration diff of policy: 1 \n",
      "iteration index: 87, iteration diff of value: 1.278809e-03, iteration diff of policy: 1 \n",
      "iteration index: 88, iteration diff of value: 1.226089e-03, iteration diff of policy: 1 \n",
      "iteration index: 89, iteration diff of value: 1.175604e-03, iteration diff of policy: 1 \n",
      "iteration index: 90, iteration diff of value: 1.127255e-03, iteration diff of policy: 1 \n",
      "iteration index: 91, iteration diff of value: 1.080946e-03, iteration diff of policy: 1 \n",
      "iteration index: 92, iteration diff of value: 1.036588e-03, iteration diff of policy: 1 \n",
      "iteration index: 93, iteration diff of value: 9.940937e-04, iteration diff of policy: 1 \n",
      "iteration index: 94, iteration diff of value: 9.533822e-04, iteration diff of policy: 1 \n",
      "iteration index: 95, iteration diff of value: 9.143752e-04, iteration diff of policy: 1 \n",
      "iteration index: 96, iteration diff of value: 8.769983e-04, iteration diff of policy: 1 \n",
      "iteration index: 97, iteration diff of value: 8.411806e-04, iteration diff of policy: 1 \n",
      "iteration index: 98, iteration diff of value: 8.068547e-04, iteration diff of policy: 1 \n",
      "iteration index: 99, iteration diff of value: 7.739560e-04, iteration diff of policy: 1 \n",
      "iteration index: 100, iteration diff of value: 7.424232e-04, iteration diff of policy: 1 \n",
      "iteration index: 101, iteration diff of value: 7.121975e-04, iteration diff of policy: 1 \n",
      "iteration index: 102, iteration diff of value: 6.832230e-04, iteration diff of policy: 1 \n",
      "iteration index: 103, iteration diff of value: 6.554463e-04, iteration diff of policy: 1 \n",
      "iteration index: 104, iteration diff of value: 6.288163e-04, iteration diff of policy: 1 \n",
      "iteration index: 105, iteration diff of value: 6.032843e-04, iteration diff of policy: 1 \n",
      "iteration index: 106, iteration diff of value: 5.788037e-04, iteration diff of policy: 1 \n",
      "iteration index: 107, iteration diff of value: 5.553301e-04, iteration diff of policy: 1 \n",
      "iteration index: 108, iteration diff of value: 5.328210e-04, iteration diff of policy: 1 \n",
      "iteration index: 109, iteration diff of value: 5.112358e-04, iteration diff of policy: 1 \n",
      "iteration index: 110, iteration diff of value: 4.905356e-04, iteration diff of policy: 1 \n",
      "iteration index: 111, iteration diff of value: 4.706833e-04, iteration diff of policy: 1 \n",
      "iteration index: 112, iteration diff of value: 4.516434e-04, iteration diff of policy: 1 \n",
      "iteration index: 113, iteration diff of value: 4.333819e-04, iteration diff of policy: 1 \n",
      "iteration index: 114, iteration diff of value: 4.158664e-04, iteration diff of policy: 1 \n",
      "iteration index: 115, iteration diff of value: 3.990658e-04, iteration diff of policy: 1 \n",
      "iteration index: 116, iteration diff of value: 3.829503e-04, iteration diff of policy: 1 \n",
      "iteration index: 117, iteration diff of value: 3.674916e-04, iteration diff of policy: 1 \n",
      "iteration index: 118, iteration diff of value: 3.526623e-04, iteration diff of policy: 1 \n",
      "iteration index: 119, iteration diff of value: 3.384365e-04, iteration diff of policy: 1 \n",
      "iteration index: 120, iteration diff of value: 3.247891e-04, iteration diff of policy: 1 \n",
      "iteration index: 121, iteration diff of value: 3.116963e-04, iteration diff of policy: 1 \n",
      "iteration index: 122, iteration diff of value: 2.991352e-04, iteration diff of policy: 1 \n",
      "iteration index: 123, iteration diff of value: 2.870839e-04, iteration diff of policy: 1 \n",
      "iteration index: 124, iteration diff of value: 2.755215e-04, iteration diff of policy: 1 \n",
      "iteration index: 125, iteration diff of value: 2.644278e-04, iteration diff of policy: 1 \n",
      "iteration index: 126, iteration diff of value: 2.537835e-04, iteration diff of policy: 1 \n",
      "iteration index: 127, iteration diff of value: 2.435704e-04, iteration diff of policy: 1 \n",
      "iteration index: 128, iteration diff of value: 2.337706e-04, iteration diff of policy: 1 \n",
      "iteration index: 129, iteration diff of value: 2.243673e-04, iteration diff of policy: 1 \n",
      "iteration index: 130, iteration diff of value: 2.153443e-04, iteration diff of policy: 1 \n",
      "iteration index: 131, iteration diff of value: 2.066861e-04, iteration diff of policy: 1 \n",
      "iteration index: 132, iteration diff of value: 1.983776e-04, iteration diff of policy: 1 \n",
      "iteration index: 133, iteration diff of value: 1.904047e-04, iteration diff of policy: 1 \n",
      "iteration index: 134, iteration diff of value: 1.827537e-04, iteration diff of policy: 1 \n",
      "iteration index: 135, iteration diff of value: 1.754115e-04, iteration diff of policy: 1 \n",
      "iteration index: 136, iteration diff of value: 1.683655e-04, iteration diff of policy: 1 \n",
      "iteration index: 137, iteration diff of value: 1.616037e-04, iteration diff of policy: 1 \n",
      "iteration index: 138, iteration diff of value: 1.551145e-04, iteration diff of policy: 1 \n",
      "iteration index: 139, iteration diff of value: 1.488868e-04, iteration diff of policy: 1 \n",
      "iteration index: 140, iteration diff of value: 1.429101e-04, iteration diff of policy: 1 \n",
      "iteration index: 141, iteration diff of value: 1.371741e-04, iteration diff of policy: 1 \n",
      "iteration index: 142, iteration diff of value: 1.316690e-04, iteration diff of policy: 1 \n",
      "iteration index: 143, iteration diff of value: 1.263856e-04, iteration diff of policy: 1 \n",
      "iteration index: 144, iteration diff of value: 1.213149e-04, iteration diff of policy: 1 \n",
      "iteration index: 145, iteration diff of value: 1.164482e-04, iteration diff of policy: 1 \n",
      "iteration index: 146, iteration diff of value: 1.117772e-04, iteration diff of policy: 1 \n",
      "iteration index: 147, iteration diff of value: 1.072941e-04, iteration diff of policy: 1 \n",
      "iteration index: 148, iteration diff of value: 1.029913e-04, iteration diff of policy: 1 \n",
      "iteration index: 149, iteration diff of value: 9.886149e-05, iteration diff of policy: 1 \n",
      "iteration index: 150, iteration diff of value: 9.489765e-05, iteration diff of policy: 1 \n",
      "iteration index: 151, iteration diff of value: 9.109309e-05, iteration diff of policy: 1 \n",
      "iteration index: 152, iteration diff of value: 8.744141e-05, iteration diff of policy: 1 \n",
      "iteration index: 153, iteration diff of value: 8.393641e-05, iteration diff of policy: 1 \n",
      "iteration index: 154, iteration diff of value: 8.057219e-05, iteration diff of policy: 1 \n",
      "iteration index: 155, iteration diff of value: 7.734307e-05, iteration diff of policy: 1 \n",
      "iteration index: 156, iteration diff of value: 7.424361e-05, iteration diff of policy: 1 \n",
      "iteration index: 157, iteration diff of value: 7.126857e-05, iteration diff of policy: 1 \n",
      "iteration index: 158, iteration diff of value: 6.841295e-05, iteration diff of policy: 1 \n",
      "iteration index: 159, iteration diff of value: 6.567194e-05, iteration diff of policy: 1 \n",
      "iteration index: 160, iteration diff of value: 6.304092e-05, iteration diff of policy: 1 \n",
      "iteration index: 161, iteration diff of value: 6.051547e-05, iteration diff of policy: 1 \n",
      "iteration index: 162, iteration diff of value: 5.809134e-05, iteration diff of policy: 1 \n",
      "iteration index: 163, iteration diff of value: 5.576444e-05, iteration diff of policy: 1 \n",
      "iteration index: 164, iteration diff of value: 5.353088e-05, iteration diff of policy: 1 \n",
      "iteration index: 165, iteration diff of value: 5.138690e-05, iteration diff of policy: 1 \n",
      "iteration index: 166, iteration diff of value: 4.932888e-05, iteration diff of policy: 1 \n",
      "iteration index: 167, iteration diff of value: 4.735339e-05, iteration diff of policy: 1 \n",
      "iteration index: 168, iteration diff of value: 4.545711e-05, iteration diff of policy: 1 \n",
      "iteration index: 169, iteration diff of value: 4.363684e-05, iteration diff of policy: 1 \n",
      "iteration index: 170, iteration diff of value: 4.188954e-05, iteration diff of policy: 1 \n",
      "iteration index: 171, iteration diff of value: 4.021227e-05, iteration diff of policy: 1 \n",
      "iteration index: 172, iteration diff of value: 3.860223e-05, iteration diff of policy: 1 \n",
      "iteration index: 173, iteration diff of value: 3.705671e-05, iteration diff of policy: 1 \n",
      "iteration index: 174, iteration diff of value: 3.557312e-05, iteration diff of policy: 1 \n",
      "iteration index: 175, iteration diff of value: 3.414898e-05, iteration diff of policy: 1 \n",
      "iteration index: 176, iteration diff of value: 3.278190e-05, iteration diff of policy: 1 \n",
      "iteration index: 177, iteration diff of value: 3.146959e-05, iteration diff of policy: 1 \n",
      "iteration index: 178, iteration diff of value: 3.020986e-05, iteration diff of policy: 1 \n",
      "iteration index: 179, iteration diff of value: 2.900059e-05, iteration diff of policy: 1 \n",
      "iteration index: 180, iteration diff of value: 2.783976e-05, iteration diff of policy: 1 \n",
      "iteration index: 181, iteration diff of value: 2.672542e-05, iteration diff of policy: 1 \n",
      "iteration index: 182, iteration diff of value: 2.565572e-05, iteration diff of policy: 1 \n",
      "iteration index: 183, iteration diff of value: 2.462886e-05, iteration diff of policy: 1 \n",
      "iteration index: 184, iteration diff of value: 2.364312e-05, iteration diff of policy: 1 \n",
      "iteration index: 185, iteration diff of value: 2.269686e-05, iteration diff of policy: 1 \n",
      "iteration index: 186, iteration diff of value: 2.178849e-05, iteration diff of policy: 1 \n",
      "iteration index: 187, iteration diff of value: 2.091650e-05, iteration diff of policy: 1 \n",
      "iteration index: 188, iteration diff of value: 2.007942e-05, iteration diff of policy: 1 \n",
      "iteration index: 189, iteration diff of value: 1.927585e-05, iteration diff of policy: 1 \n",
      "iteration index: 190, iteration diff of value: 1.850446e-05, iteration diff of policy: 1 \n",
      "iteration index: 191, iteration diff of value: 1.776396e-05, iteration diff of policy: 1 \n",
      "iteration index: 192, iteration diff of value: 1.705310e-05, iteration diff of policy: 1 \n",
      "iteration index: 193, iteration diff of value: 1.637069e-05, iteration diff of policy: 1 \n",
      "iteration index: 194, iteration diff of value: 1.571561e-05, iteration diff of policy: 1 \n",
      "iteration index: 195, iteration diff of value: 1.508675e-05, iteration diff of policy: 1 \n",
      "iteration index: 196, iteration diff of value: 1.448306e-05, iteration diff of policy: 1 \n",
      "iteration index: 197, iteration diff of value: 1.390353e-05, iteration diff of policy: 1 \n",
      "iteration index: 198, iteration diff of value: 1.334721e-05, iteration diff of policy: 1 \n",
      "iteration index: 199, iteration diff of value: 1.281315e-05, iteration diff of policy: 1 \n",
      "iteration index: 200, iteration diff of value: 1.230046e-05, iteration diff of policy: 1 \n",
      "iteration index: 201, iteration diff of value: 1.180830e-05, iteration diff of policy: 1 \n",
      "iteration index: 202, iteration diff of value: 1.133583e-05, iteration diff of policy: 1 \n",
      "iteration index: 203, iteration diff of value: 1.088228e-05, iteration diff of policy: 1 \n",
      "iteration index: 204, iteration diff of value: 1.044687e-05, iteration diff of policy: 1 \n",
      "iteration index: 205, iteration diff of value: 1.002889e-05, iteration diff of policy: 1 \n",
      "iteration index: 206, iteration diff of value: 9.627641e-06, iteration diff of policy: 1 \n",
      "\n"
     ]
    }
   ],
   "source": [
    "%% STEP 4: 価値関数を繰り返し計算\n",
    "while it < maxit && dif1 > tol\n",
    "\n",
    "    % ベルマン方程式: V(k;k')\n",
    "    for i = 1:nk\n",
    "        vkp(:,i) = util(:,i) + beta.*vfcn;\n",
    "    end\n",
    "    \n",
    "    % 最適化: 各kについてV(k;k')を最大にするk'を探す\n",
    "    [Tvfcn, ploc] = max(vkp);\n",
    "    Tvfcn = Tvfcn';\n",
    "    Tpfcn = kgrid(ploc);\n",
    "    \n",
    "    % 繰り返し計算誤差を確認\n",
    "    dif1 = max(abs((Tvfcn-vfcn)./vfcn));\n",
    "\n",
    "    % 価値関数・政策関数をアップデート\n",
    "    vfcn = Tvfcn;\n",
    "    pfcn = Tpfcn;\n",
    "    fprintf('iteration index: %i, iteration diff of value: %d, iteration diff of policy: %d \\n', it, dif1, dif2);\n",
    "    \n",
    "    it = it + 1;\n",
    "\n",
    "end"
   ]
  },
  {
   "cell_type": "code",
   "execution_count": 10,
   "metadata": {
    "slideshow": {
     "slide_type": "subslide"
    }
   },
   "outputs": [
    {
     "name": "stdout",
     "output_type": "stream",
     "text": [
      "\n"
     ]
    },
    {
     "data": {
      "image/png": "[encoded data removed]",
      "text/plain": [
       "<IPython.core.display.Image object>"
      ]
     },
     "metadata": {},
     "output_type": "display_data"
    }
   ],
   "source": [
    "%% 図を描く\n",
    "figure;\n",
    "plot(kgrid, vfcn, '-', 'color', 'blue', 'linewidth', 3); hold('on');\n",
    "plot(kgrid, v_true, '--', 'color', 'red', 'linewidth', 3); hold('off');\n",
    "%title('価値関数', 'fontsize', 16);\n",
    "xlabel('資本保有量：k', 'Fontsize', 16);\n",
    "ylabel('価値関数：V(k)', 'Fontsize', 16);\n",
    "xlim([0,kmax]);\n",
    "legend('近似解', '解析的解', 'Location', 'SouthEast');\n",
    "grid on;\n",
    "set(gca,'Fontsize', 16);\n",
    "% saveas (gcf,'Fig3_dndp1.eps','epsc2');"
   ]
  },
  {
   "cell_type": "code",
   "execution_count": 11,
   "metadata": {
    "slideshow": {
     "slide_type": "subslide"
    }
   },
   "outputs": [
    {
     "name": "stdout",
     "output_type": "stream",
     "text": [
      "\n"
     ]
    },
    {
     "data": {
      "image/png": "[encoded data removed]",
      "text/plain": [
       "<IPython.core.display.Image object>"
      ]
     },
     "metadata": {},
     "output_type": "display_data"
    }
   ],
   "source": [
    "figure;\n",
    "plot(kgrid, pfcn, '-', 'color', 'blue', 'linewidth', 3); hold('on');\n",
    "plot(kgrid, p_true, '--', 'color', 'red', 'linewidth', 3);\n",
    "plot(kgrid, kgrid, ':', 'color', 'black', 'linewidth', 2); hold('off');\n",
    "%title('政策関数', 'fontsize', 16);\n",
    "xlabel('今期の資本保有量：k', 'Fontsize', 16);\n",
    "ylabel(\"次期の資本保有量：k'\", 'Fontsize', 16);\n",
    "xlim([0,kmax]);\n",
    "legend('近似解', '解析的解', '45度線', 'Location', 'NorthWest');\n",
    "grid on;\n",
    "set(gca,'Fontsize', 16);"
   ]
  },
  {
   "cell_type": "markdown",
   "metadata": {
    "slideshow": {
     "slide_type": "subslide"
    }
   },
   "source": [
    "### 操作変数が連続な場合\n",
    "\n",
    "- モデルを拡張する場合には、より洗練された手法が必要になる\n",
    "\n",
    "- 状態変数のみ離散近似をして、操作変数については連続的な値を取り、価値関数を状態変数の間の値で評価するときは内挿法を用いる"
   ]
  },
  {
   "cell_type": "markdown",
   "metadata": {
    "slideshow": {
     "slide_type": "subslide"
    }
   },
   "source": [
    "- アルゴリズム\n",
    "\n",
    "\n",
    "1. グリッド生成：状態空間の評価点を$I=21$個のグリッドに区切る。また、グリッド上における価値関数$V^{(0)}(k^{i})$の初期値を当て推量(initial guess)する\n",
    "\n",
    "2. 収束の基準：収束の基準になるパラメータ$\\varepsilon=10^{-5}$を与える\n",
    "\n",
    "3. 近似・評価：$k^{i}$上にない価値関数の値については近似する必要がある。$V(k;\\mathbb{b})$をパラメータ$\\mathbb{b}$を使って近似した時の、$k$上での価値関数の値とする\n",
    "\n",
    "4. 最適化：各$k^{i}$について、\n",
    "\n",
    "$$\n",
    "  V^{(1)}(k^{i}) = \\max_{k'} u([k^{i}]^{\\alpha}+(1-\\delta)k^{i}-k') + \\beta V^{(0)}(k';\\mathbb{b})\n",
    "$$\n",
    "\n",
    "を計算する。価値関数を最大にする$k'$を探すためには、各言語の最適化関数を利用する\n",
    "\n",
    "5. 全ての$k^{i}$について$\\|V^{(0)}(k^{i})-V^{(1)}(k^{i})\\|<\\varepsilon$であればストップ。そうでなければ、$V^{(1)}(k^{i})$を$V^{(0)}(k^{i})$に代入して、ステップ3-4を繰り返す"
   ]
  },
  {
   "cell_type": "code",
   "execution_count": null,
   "metadata": {
    "slideshow": {
     "slide_type": "subslide"
    }
   },
   "outputs": [],
   "source": [
    "global beta gamma alpha capital vfcn kgrid\n",
    "\n",
    "%% *** カリブレーション ***\n",
    "beta  = 0.96; % 割引因子\n",
    "gamma = 1.0;  % 相対的危険回避度(異時点間の代替の弾力性の逆数)\n",
    "alpha = 0.40; % 資本分配率\n",
    "delta = 1.00; % 固定資本減耗(0.08)"
   ]
  },
  {
   "cell_type": "code",
   "execution_count": null,
   "metadata": {
    "slideshow": {
     "slide_type": "fragment"
    }
   },
   "outputs": [],
   "source": [
    "% *** 離散化用のパラメータ ***\n",
    "nk   = 21;    % グリッドの数\n",
    "kmax = 0.5;   % 資本グリッドの最大値\n",
    "%kmax = 10.0; % 資本グリッドの最大値(固定資本減耗=0.08の場合に使用)\n",
    "kmin = 0.05;  % 資本グリッドの最小値 (0にすると生産が出来なくなる)"
   ]
  },
  {
   "cell_type": "code",
   "execution_count": null,
   "metadata": {
    "slideshow": {
     "slide_type": "fragment"
    }
   },
   "outputs": [],
   "source": [
    "% *** 収束の基準 ***\n",
    "it = 1;          % ループ・カウンター\n",
    "maxit = 1000;    % 繰り返し計算の最大値\n",
    "tol  = 1.0e-005; % 許容誤差(STEP 2)\n",
    "dif1 = 1.0;      % 価値関数の繰り返し誤差\n",
    "dif2 = 1.0;      % 政策関数の繰り返し誤差\n",
    "count = 1;"
   ]
  },
  {
   "cell_type": "code",
   "execution_count": null,
   "metadata": {
    "slideshow": {
     "slide_type": "subslide"
    }
   },
   "outputs": [],
   "source": [
    "%% STEP 1(a): グリッド生成\n",
    "kgrid = linspace(kmin, kmax, nk)';"
   ]
  },
  {
   "cell_type": "code",
   "execution_count": null,
   "metadata": {
    "slideshow": {
     "slide_type": "fragment"
    }
   },
   "outputs": [],
   "source": [
    "%% STEP 1(b): 価値関数・政策関数の初期値を当て推量\n",
    "pfcn0 = zeros(nk, 1);\n",
    "vfcn0 = zeros(nk, 1); %CRRA(kgrid.^alpha + (1.-delta).*kgrid, gamma);\n",
    "pfcn1 = zeros(nk, 1);\n",
    "vfcn1 = zeros(nk, 1);"
   ]
  },
  {
   "cell_type": "code",
   "execution_count": null,
   "metadata": {
    "slideshow": {
     "slide_type": "fragment"
    }
   },
   "outputs": [],
   "source": [
    "%% 解析的解\n",
    "AA = (1.0-beta).^(-1) * (log(1.0-alpha*beta) + ((alpha*beta)/(1.0-alpha*beta))*log(alpha*beta));\n",
    "BB = alpha/(1.0-alpha*beta);\n",
    "v_true = AA + BB*log(kgrid);\n",
    "p_true = beta*alpha*(kgrid.^alpha);"
   ]
  },
  {
   "cell_type": "markdown",
   "metadata": {
    "slideshow": {
     "slide_type": "subslide"
    }
   },
   "source": [
    "- およそ200回で繰り返し計算誤差は$\\varepsilon=1.0^{-5}$以下になる\n",
    "\n",
    "- 価値関数の繰り返し計算誤差より政策関数の繰り返し計算誤差の方が早く0に近づいている"
   ]
  },
  {
   "cell_type": "code",
   "execution_count": null,
   "metadata": {
    "slideshow": {
     "slide_type": "subslide"
    }
   },
   "outputs": [],
   "source": [
    "global beta gamma alpha delta capital vfcn kgrid\n",
    "\n",
    "%% STEP 4: 価値関数を繰り返し計算\n",
    "while it < maxit && dif1 > tol\n",
    "\n",
    "    fprintf('iteration index: %i \\n', it);\n",
    "    fprintf('value function iteration error: %e\\n', dif1);\n",
    "    fprintf('policy function iteration error: %e\\n', dif2);\n",
    "\n",
    "    for i = 1:nk\n",
    "\n",
    "        % グローバル変数を設定\n",
    "        % fminsearchで使う関数(BellmanEq)に最適化する変数\"以外\"の変数を渡す(グローバル変数を使わない方法もあるはず)\n",
    "        capital = kgrid(i);\n",
    "        vfcn = vfcn0;\n",
    "\n",
    "        % MATLABの最適化関数(fminsearch)を使ってグリッド上で価値関数と政策関数の値を探す\n",
    "        % 初期値は0.01\n",
    "        [pfcn1(i,1), vfcn1(i,1)] = fminsearch(@BellmanEq, 0.01);\n",
    "\n",
    "    end\n",
    "\n",
    "    % fminsearchは最小値を探す関数なので符号を反転させる\n",
    "    vfcn1 = -1*vfcn1;\n",
    "\n",
    "    % 繰り返し計算誤差を確認\n",
    "    dif1 = max(abs((vfcn1-vfcn0)./vfcn0));\n",
    "\n",
    "    % 価値関数・政策関数をアップデート\n",
    "    vfcn0 = vfcn1;\n",
    "    pfcn0 = pfcn1;\n",
    "\n",
    "    it = it + 1;\n",
    "\n",
    "end"
   ]
  },
  {
   "cell_type": "code",
   "execution_count": null,
   "metadata": {
    "slideshow": {
     "slide_type": "subslide"
    }
   },
   "outputs": [],
   "source": [
    "%% 図を描く\n",
    "figure;\n",
    "plot(kgrid, vfcn0, '-', 'color', 'blue', 'linewidth', 3); hold('on');\n",
    "plot(kgrid, v_true, '--', 'color', 'red', 'linewidth', 3); hold('off');\n",
    "%title('価値関数', 'fontsize', 16);\n",
    "xlabel('資本保有量：k', 'Fontsize', 16);\n",
    "ylabel('価値関数：V(k)', 'Fontsize', 16);\n",
    "xlim([0, kmax]);\n",
    "legend('近似解', '解析的解', 'Location', 'SouthEast');\n",
    "grid on;\n",
    "set(gca,'Fontsize', 16);"
   ]
  },
  {
   "cell_type": "code",
   "execution_count": null,
   "metadata": {
    "slideshow": {
     "slide_type": "subslide"
    }
   },
   "outputs": [],
   "source": [
    "figure;\n",
    "plot(kgrid, pfcn0, '-', 'color', 'blue', 'linewidth', 3); hold('on');\n",
    "plot(kgrid, p_true, '--', 'color', 'red', 'linewidth', 3);\n",
    "plot(kgrid, kgrid, ':', 'color', 'black', 'linewidth', 2); hold('off');\n",
    "%title('政策関数', 'fontsize', 16);\n",
    "xlabel('今期の資本保有量：k', 'Fontsize', 16);\n",
    "ylabel(\"次期の資本保有量：k'\", 'Fontsize', 16);\n",
    "xlim([0, kmax]);\n",
    "legend('近似解', '解析的解', '45度線', 'Location', 'NorthWest');\n",
    "grid on;\n",
    "set(gca,'Fontsize', 16);"
   ]
  },
  {
   "cell_type": "code",
   "execution_count": null,
   "metadata": {
    "slideshow": {
     "slide_type": "subslide"
    }
   },
   "outputs": [],
   "source": [
    "% 最終的な政策関数が得られてから消費関数を計算\n",
    "cfcn = kgrid.^alpha + (1.-delta).*kgrid - pfcn0;\n",
    "\n",
    "figure;\n",
    "plot(kgrid, cfcn(:,1), '-', 'color', 'blue', 'linewidth', 3);\n",
    "%title('消費関数', 'fontsize', 16);\n",
    "xlabel('資本保有量：k', 'Fontsize', 16);\n",
    "ylabel('消費：c', 'Fontsize', 16);\n",
    "grid on;\n",
    "set(gca,'Fontsize', 16);"
   ]
  },
  {
   "cell_type": "markdown",
   "metadata": {
    "slideshow": {
     "slide_type": "subslide"
    }
   },
   "source": [
    "- オイラー方程式$u'(c)=\\beta u'(f(k')-g(k'))f'(k')$における計算誤差は、以下の式で得られる\n",
    "\n",
    "$$\n",
    "  \\frac{\\beta u'\\big([g(k^{i})]^{\\alpha}-g(g(k^{i}))\\big)f'(g(k^{i}))}{u'\\big([k^{i}]^{\\alpha}-g(k^{i})\\big)}-1\n",
    "$$\n",
    "\n",
    "ここで、$k'=g(k)$である"
   ]
  },
  {
   "cell_type": "code",
   "execution_count": null,
   "metadata": {},
   "outputs": [],
   "source": [
    "%% オイラー方程式から誤差を測定\n",
    "%kgrid_err = linspace(kmin, kmax, (nk-1)*10+1)';\n",
    "kgrid_err = kgrid; %linspace(kmin, kmax, (nk-1)*10+1)';\n",
    "kp = interp1(kgrid,pfcn0(:,1),kgrid_err); % 線形補間\n",
    "%kp   = pfcn0(:,1);\n",
    "cons = kgrid_err.^alpha + (1.-delta).*kgrid_err - kp;\n",
    "LHS  = mu_CRRA(cons, gamma);\n",
    "\n",
    "kpp  = interp1(kgrid, pfcn0(:,1), kp);\n",
    "cnext = kp.^alpha + (1.-delta).*kp - kpp;\n",
    "rent = alpha.*kp.^(alpha-1.0) - delta;\n",
    "RHS  = beta.*(1.+rent).*mu_CRRA(cnext, gamma);\n",
    "\n",
    "err  = RHS./LHS-1.0;"
   ]
  },
  {
   "cell_type": "code",
   "execution_count": null,
   "metadata": {},
   "outputs": [],
   "source": [
    "figure;\n",
    "plot(kgrid_err, abs(err), 'ro-', 'LineWidth', 3);\n",
    "%hold on;\n",
    "%plot(kgrid_err, abs(err2), '--', 'Color', 'red', 'LineWidth', 3);\n",
    "xlabel('資本保有量：k', 'FontSize', 16);\n",
    "ylabel('オイラー方程式誤差(絶対値)', 'FontSize', 16);\n",
    "xlim([kmin kmax]);\n",
    "%xticks([0.05 0.1 0.2 0.3 0.4 0.5]);\n",
    "%xticklabels([0.05 0.1 0.2 0.3 0.4 0.5]);\n",
    "%legend('TI', 'VFI', 'Location', 'NorthEast');\n",
    "grid on;\n",
    "set(gca,'FontSize', 16);\n",
    "\n",
    "csvwrite('err_ddp.csv',err);"
   ]
  },
  {
   "cell_type": "code",
   "execution_count": null,
   "metadata": {},
   "outputs": [],
   "source": []
  }
 ],
 "metadata": {
  "celltoolbar": "Slideshow",
  "kernelspec": {
   "display_name": "Matlab",
   "language": "matlab",
   "name": "matlab"
  },
  "language_info": {
   "codemirror_mode": "octave",
   "file_extension": ".m",
   "help_links": [
    {
     "text": "MetaKernel Magics",
     "url": "https://metakernel.readthedocs.io/en/latest/source/README.html"
    }
   ],
   "mimetype": "text/x-octave",
   "name": "matlab",
   "version": "0.16.10"
  }
 },
 "nbformat": 4,
 "nbformat_minor": 4
}
